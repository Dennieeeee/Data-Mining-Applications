{
 "cells": [
  {
   "cell_type": "code",
   "execution_count": 1,
   "metadata": {},
   "outputs": [],
   "source": [
    "import requests\n",
    "from bs4 import BeautifulSoup\n",
    "import pandas as pd"
   ]
  },
  {
   "cell_type": "code",
   "execution_count": 2,
   "metadata": {},
   "outputs": [],
   "source": [
    "\n",
    "#'list-card-pricer'\n",
    "header = {\n",
    "    \"User-Agent\": \"Mozilla/5.0 (Macintosh; Intel Mac OS X 10_15_7) AppleWebKit/537.36 (KHTML, like Gecko) Chrome/87.0.4280.88 Safari/537.36\",\n",
    "    \"Accept-Language\": \"en-US,en;q=0.9\"\n",
    "}\n",
    "urls = []\n",
    "links = []\n",
    "x = 'https://www.zillow.com/homes/{}_rb/'\n",
    "zip_code = ['95121','95135','95134','95148','95035','95036','95032','95030','95038','95051'\n",
    "            '94102','94103','94104','94538','94560','94538','94539','95008','95127','95122',\n",
    "            '95133','95014','95132','95138']"
   ]
  },
  {
   "cell_type": "code",
   "execution_count": 3,
   "metadata": {},
   "outputs": [],
   "source": [
    "# create links with different zip codes and add into url list\n",
    "for i in zip_code:\n",
    "    new_link = x.format(i)\n",
    "    links.append(new_link)\n",
    "\n",
    "for i in links:\n",
    "    urls.append(i)"
   ]
  },
  {
   "cell_type": "code",
   "execution_count": 4,
   "metadata": {},
   "outputs": [],
   "source": [
    "# create the second page link of all existing links and add into url list\n",
    "for i in links:\n",
    "    x = i + '2_p'\n",
    "    urls.append(x)"
   ]
  },
  {
   "cell_type": "code",
   "execution_count": 5,
   "metadata": {},
   "outputs": [
    {
     "data": {
      "text/plain": [
       "46"
      ]
     },
     "execution_count": 5,
     "metadata": {},
     "output_type": "execute_result"
    }
   ],
   "source": [
    "len(urls)"
   ]
  },
  {
   "cell_type": "code",
   "execution_count": 6,
   "metadata": {},
   "outputs": [
    {
     "name": "stdout",
     "output_type": "stream",
     "text": [
      "0\n",
      "0\n",
      "0\n",
      "0\n"
     ]
    }
   ],
   "source": [
    "# get lists of price, house info, address\n",
    "price = []\n",
    "house_info = []\n",
    "address = []\n",
    "days_on_zillow = []\n",
    "star_rooms = []\n",
    "details = []\n",
    "home_type = []\n",
    "last_updated = []\n",
    "links = []\n",
    "\n",
    "for url in urls:\n",
    "    response = requests.get(url, headers=header)\n",
    "    data = response.text\n",
    "\n",
    "    soup = BeautifulSoup(data, 'html.parser')\n",
    "    amount = list(soup.find_all('div', class_='list-card-price'))\n",
    "    for i in amount:\n",
    "        price.append(i.text)\n",
    "\n",
    "    beds = list(soup.find_all('ul', class_='list-card-details'))\n",
    "    for i in beds:\n",
    "        house_info.append(i.text)\n",
    "\n",
    "    x = list(soup.find_all('address', class_='list-card-addr'))\n",
    "    for i in x:\n",
    "        address.append(i.text)\n",
    "    \n",
    "    b = soup.find_all('div', {'class': 'list-card-top'})\n",
    "    for i in b:\n",
    "        days_on_zillow.append(i.text)\n",
    "\n",
    "    c = soup.find_all(\"ul\", class_=\"list-card-details\")\n",
    "    for i in c:\n",
    "        star_rooms.append(i.text)\n",
    "    \n",
    "    #detail = soup.find_all('div', {'class': 'list-card-details'}) #This doesn't seem to work, but looks useful\n",
    "    #for i in detail:\n",
    "    #    details.append(detail)\n",
    "        \n",
    "    types = soup.find_all('div', {'class': 'list-card-footer'})\n",
    "    for i in types:\n",
    "        home_type.append(types)\n",
    "        \n",
    "    updated = soup.find_all('div', {'class': 'list-card-top'})\n",
    "    for i in updated:\n",
    "        last_updated.append(updated)\n",
    "        \n",
    "    link = soup.find_all(class_= 'list-card-link')\n",
    "    for i in link:\n",
    "        links.append(link)\n",
    "print(len(price))\n",
    "print(len(house_info))\n",
    "print(len(address))\n",
    "print(len(days_on_zillow))\n"
   ]
  },
  {
   "cell_type": "code",
   "execution_count": null,
   "metadata": {},
   "outputs": [],
   "source": []
  },
  {
   "cell_type": "code",
   "execution_count": 7,
   "metadata": {},
   "outputs": [
    {
     "name": "stdout",
     "output_type": "stream",
     "text": [
      "(0, 3)\n"
     ]
    }
   ],
   "source": [
    "house_data = []\n",
    "house_data.append(price)\n",
    "house_data.append(house_info)\n",
    "house_data.append(address)\n",
    "dict = {'price':house_data[0], 'house_info':house_data[1], 'address':house_data[2]}\n",
    "data = pd.DataFrame(dict)\n",
    "print(data.shape)"
   ]
  },
  {
   "cell_type": "code",
   "execution_count": 8,
   "metadata": {},
   "outputs": [
    {
     "data": {
      "text/html": [
       "<div>\n",
       "<style scoped>\n",
       "    .dataframe tbody tr th:only-of-type {\n",
       "        vertical-align: middle;\n",
       "    }\n",
       "\n",
       "    .dataframe tbody tr th {\n",
       "        vertical-align: top;\n",
       "    }\n",
       "\n",
       "    .dataframe thead th {\n",
       "        text-align: right;\n",
       "    }\n",
       "</style>\n",
       "<table border=\"1\" class=\"dataframe\">\n",
       "  <thead>\n",
       "    <tr style=\"text-align: right;\">\n",
       "      <th></th>\n",
       "      <th>price</th>\n",
       "      <th>house_info</th>\n",
       "      <th>address</th>\n",
       "    </tr>\n",
       "  </thead>\n",
       "  <tbody>\n",
       "  </tbody>\n",
       "</table>\n",
       "</div>"
      ],
      "text/plain": [
       "Empty DataFrame\n",
       "Columns: [price, house_info, address]\n",
       "Index: []"
      ]
     },
     "execution_count": 8,
     "metadata": {},
     "output_type": "execute_result"
    }
   ],
   "source": [
    "data.head()"
   ]
  },
  {
   "cell_type": "code",
   "execution_count": null,
   "metadata": {},
   "outputs": [],
   "source": []
  }
 ],
 "metadata": {
  "kernelspec": {
   "display_name": "Python 3",
   "language": "python",
   "name": "python3"
  },
  "language_info": {
   "codemirror_mode": {
    "name": "ipython",
    "version": 3
   },
   "file_extension": ".py",
   "mimetype": "text/x-python",
   "name": "python",
   "nbconvert_exporter": "python",
   "pygments_lexer": "ipython3",
   "version": "3.7.4"
  }
 },
 "nbformat": 4,
 "nbformat_minor": 2
}
