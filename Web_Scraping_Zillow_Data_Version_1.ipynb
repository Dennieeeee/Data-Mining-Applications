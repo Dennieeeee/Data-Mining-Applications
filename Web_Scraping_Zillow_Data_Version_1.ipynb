{
  "nbformat": 4,
  "nbformat_minor": 0,
  "metadata": {
    "colab": {
      "name": "Web Scraping Zillow Data Version 1.ipynb",
      "provenance": [],
      "collapsed_sections": []
    },
    "kernelspec": {
      "display_name": "Python 3",
      "language": "python",
      "name": "python3"
    },
    "language_info": {
      "codemirror_mode": {
        "name": "ipython",
        "version": 3
      },
      "file_extension": ".py",
      "mimetype": "text/x-python",
      "name": "python",
      "nbconvert_exporter": "python",
      "pygments_lexer": "ipython3",
      "version": "3.7.4"
    }
  },
  "cells": [
    {
      "cell_type": "code",
      "metadata": {
        "id": "qhyq7Nq9Ggng"
      },
      "source": [
        "import requests\n",
        "from bs4 import BeautifulSoup\n",
        "import pandas as pd\n",
        "import seaborn as sns\n",
        "import matplotlib.pyplot as plt\n",
        "from sklearn.linear_model import LinearRegression\n",
        "from sklearn.model_selection import train_test_split as holdout\n",
        "from sklearn.preprocessing import PolynomialFeatures\n",
        "from sklearn import metrics\n",
        "import numpy as np\n",
        "# Import necessary modules \n",
        "from sklearn.neighbors import KNeighborsClassifier \n",
        "from sklearn.model_selection import train_test_split \n",
        "from sklearn.datasets import load_iris \n",
        "import numpy as np \n",
        "import matplotlib.pyplot as plt \n"
      ],
      "execution_count": 1,
      "outputs": []
    },
    {
      "cell_type": "markdown",
      "metadata": {
        "id": "Zw5Ws88IPDEf"
      },
      "source": [
        "# Web Scraping using BeautifulSoup"
      ]
    },
    {
      "cell_type": "code",
      "metadata": {
        "id": "jQQUbOiYgft7"
      },
      "source": [
        "header = {\n",
        "    \"User-Agent\": \"Mozilla/5.0 (Macintosh; Intel Mac OS X 10_15_7) AppleWebKit/537.36 (KHTML, like Gecko) Chrome/87.0.4280.88 Safari/537.36\",\n",
        "    \"Accept-Language\": \"en-US,en;q=0.9\"\n",
        "}"
      ],
      "execution_count": 2,
      "outputs": []
    },
    {
      "cell_type": "code",
      "metadata": {
        "colab": {
          "base_uri": "https://localhost:8080/"
        },
        "id": "G8JLpF4BGlix",
        "outputId": "c572a15f-14ab-4ef6-cd65-304f140df387"
      },
      "source": [
        "links=[]\n",
        "para=['1_p','2_p', '3_p', '4_p', '5_p', '6_p','7_p']\n",
        "url='https://www.zillow.com/beverly-hills-ca-90210/{}/'\n",
        "for p in para:\n",
        "  new_link=url.format(p)\n",
        "  links.append(new_link)\n",
        "print(links[3])"
      ],
      "execution_count": 3,
      "outputs": [
        {
          "output_type": "stream",
          "text": [
            "https://www.zillow.com/beverly-hills-ca-90210/4_p/\n"
          ],
          "name": "stdout"
        }
      ]
    },
    {
      "cell_type": "code",
      "metadata": {
        "id": "WyQPRNS7RipN"
      },
      "source": [
        "price = []\n",
        "house_info = []\n",
        "address = []\n",
        "for url in links:\n",
        "  response = requests.get(url, headers=header)\n",
        "  data = response.text\n",
        "  \n",
        "\n",
        "  soup = BeautifulSoup(data, 'html.parser')\n",
        "  amount = list(soup.find_all('div', class_='list-card-price'))\n",
        "  for i in amount:\n",
        "      price.append(i.text)\n",
        "\n",
        "  beds = list(soup.find_all('ul',class_='list-card-details'))\n",
        "  for i in beds:\n",
        "      house_info.append(i.text)\n",
        "\n",
        "  x = list(soup.find_all('address',class_='list-card-addr'))\n",
        "  for i in x:\n",
        "      address.append(i.text)\n"
      ],
      "execution_count": 4,
      "outputs": []
    },
    {
      "cell_type": "code",
      "metadata": {
        "id": "5kKGr_Z-PDEh",
        "colab": {
          "base_uri": "https://localhost:8080/"
        },
        "outputId": "4d81712c-4012-4500-8203-941f2f97e6aa"
      },
      "source": [
        "house_data = []\n",
        "house_data.append(price)\n",
        "house_data.append(house_info)\n",
        "house_data.append(address)\n",
        "dict = {'price':house_data[0], 'house_info':house_data[1], 'address':house_data[2]}\n",
        "data = pd.DataFrame(dict)\n",
        "print(data.shape)"
      ],
      "execution_count": 5,
      "outputs": [
        {
          "output_type": "stream",
          "text": [
            "(280, 3)\n"
          ],
          "name": "stdout"
        }
      ]
    },
    {
      "cell_type": "code",
      "metadata": {
        "id": "7ytPllD-tZbH"
      },
      "source": [
        "df = data.copy()"
      ],
      "execution_count": 6,
      "outputs": []
    },
    {
      "cell_type": "code",
      "metadata": {
        "colab": {
          "base_uri": "https://localhost:8080/"
        },
        "id": "HENERq9TkNr7",
        "outputId": "1b4de46f-21b5-4329-c242-569c0216e9f7"
      },
      "source": [
        "df.info()"
      ],
      "execution_count": 7,
      "outputs": [
        {
          "output_type": "stream",
          "text": [
            "<class 'pandas.core.frame.DataFrame'>\n",
            "RangeIndex: 280 entries, 0 to 279\n",
            "Data columns (total 3 columns):\n",
            " #   Column      Non-Null Count  Dtype \n",
            "---  ------      --------------  ----- \n",
            " 0   price       280 non-null    object\n",
            " 1   house_info  280 non-null    object\n",
            " 2   address     280 non-null    object\n",
            "dtypes: object(3)\n",
            "memory usage: 6.7+ KB\n"
          ],
          "name": "stdout"
        }
      ]
    },
    {
      "cell_type": "markdown",
      "metadata": {
        "id": "D3DQ6eOHPDEi"
      },
      "source": [
        "# Cleaning Data"
      ]
    },
    {
      "cell_type": "code",
      "metadata": {
        "id": "6vV2px0WsO2O"
      },
      "source": [
        "df['prices'] = df['price'].apply(lambda x: x[1:])"
      ],
      "execution_count": 8,
      "outputs": []
    },
    {
      "cell_type": "code",
      "metadata": {
        "id": "4xI2Jy4hJgxk"
      },
      "source": [
        "df[['beds','baths','sq_feet','sqft_unit','type','for','sale','None']] = df['house_info'].str.split(expand=True)"
      ],
      "execution_count": 9,
      "outputs": []
    },
    {
      "cell_type": "code",
      "metadata": {
        "colab": {
          "base_uri": "https://localhost:8080/",
          "height": 80
        },
        "id": "rzyKK8fQJihs",
        "outputId": "73600068-ceb6-40ba-a2aa-897a28608ae2"
      },
      "source": [
        "df.head(1)"
      ],
      "execution_count": 10,
      "outputs": [
        {
          "output_type": "execute_result",
          "data": {
            "text/html": [
              "<div>\n",
              "<style scoped>\n",
              "    .dataframe tbody tr th:only-of-type {\n",
              "        vertical-align: middle;\n",
              "    }\n",
              "\n",
              "    .dataframe tbody tr th {\n",
              "        vertical-align: top;\n",
              "    }\n",
              "\n",
              "    .dataframe thead th {\n",
              "        text-align: right;\n",
              "    }\n",
              "</style>\n",
              "<table border=\"1\" class=\"dataframe\">\n",
              "  <thead>\n",
              "    <tr style=\"text-align: right;\">\n",
              "      <th></th>\n",
              "      <th>price</th>\n",
              "      <th>house_info</th>\n",
              "      <th>address</th>\n",
              "      <th>prices</th>\n",
              "      <th>beds</th>\n",
              "      <th>baths</th>\n",
              "      <th>sq_feet</th>\n",
              "      <th>sqft_unit</th>\n",
              "      <th>type</th>\n",
              "      <th>for</th>\n",
              "      <th>sale</th>\n",
              "      <th>None</th>\n",
              "    </tr>\n",
              "  </thead>\n",
              "  <tbody>\n",
              "    <tr>\n",
              "      <th>0</th>\n",
              "      <td>$18,995,000</td>\n",
              "      <td>5 bds,8 ba,7,448 sqft- House for sale</td>\n",
              "      <td>610 N Canon Dr, Beverly Hills, CA 90210</td>\n",
              "      <td>18,995,000</td>\n",
              "      <td>5</td>\n",
              "      <td>bds,8</td>\n",
              "      <td>ba,7,448</td>\n",
              "      <td>sqft-</td>\n",
              "      <td>House</td>\n",
              "      <td>for</td>\n",
              "      <td>sale</td>\n",
              "      <td>None</td>\n",
              "    </tr>\n",
              "  </tbody>\n",
              "</table>\n",
              "</div>"
            ],
            "text/plain": [
              "         price                             house_info  ...  sale  None\n",
              "0  $18,995,000  5 bds,8 ba,7,448 sqft- House for sale  ...  sale  None\n",
              "\n",
              "[1 rows x 12 columns]"
            ]
          },
          "metadata": {
            "tags": []
          },
          "execution_count": 10
        }
      ]
    },
    {
      "cell_type": "code",
      "metadata": {
        "id": "UqqKgn7G6ToS"
      },
      "source": [
        "df[['redundant','baths']] = df['baths'].str.split(',',n=1,expand=True)"
      ],
      "execution_count": 11,
      "outputs": []
    },
    {
      "cell_type": "code",
      "metadata": {
        "id": "YCJGiejk7tq3"
      },
      "source": [
        "df['sq_feet']=df['sq_feet'].replace('ba,','',regex=True)"
      ],
      "execution_count": 12,
      "outputs": []
    },
    {
      "cell_type": "code",
      "metadata": {
        "id": "YyHzS3NXZTPm"
      },
      "source": [
        "df[['street_name','city','state_zip_code']]=df['address'].str.split(',',n=2, expand=True)"
      ],
      "execution_count": 13,
      "outputs": []
    },
    {
      "cell_type": "code",
      "metadata": {
        "id": "zaXLhCHy362u"
      },
      "source": [
        "#drop unnecessary columns\n",
        "feature_drop = ['price','house_info','for', 'sale','redundant','sqft_unit','None']\n",
        "df1 = df.drop(feature_drop, axis=1)"
      ],
      "execution_count": 14,
      "outputs": []
    },
    {
      "cell_type": "code",
      "metadata": {
        "colab": {
          "base_uri": "https://localhost:8080/",
          "height": 204
        },
        "id": "Dr5t5NEcRipT",
        "outputId": "979b7d9e-1a65-437c-fcba-ee08d98e8abe"
      },
      "source": [
        "df1.head()"
      ],
      "execution_count": 15,
      "outputs": [
        {
          "output_type": "execute_result",
          "data": {
            "text/html": [
              "<div>\n",
              "<style scoped>\n",
              "    .dataframe tbody tr th:only-of-type {\n",
              "        vertical-align: middle;\n",
              "    }\n",
              "\n",
              "    .dataframe tbody tr th {\n",
              "        vertical-align: top;\n",
              "    }\n",
              "\n",
              "    .dataframe thead th {\n",
              "        text-align: right;\n",
              "    }\n",
              "</style>\n",
              "<table border=\"1\" class=\"dataframe\">\n",
              "  <thead>\n",
              "    <tr style=\"text-align: right;\">\n",
              "      <th></th>\n",
              "      <th>address</th>\n",
              "      <th>prices</th>\n",
              "      <th>beds</th>\n",
              "      <th>baths</th>\n",
              "      <th>sq_feet</th>\n",
              "      <th>type</th>\n",
              "      <th>street_name</th>\n",
              "      <th>city</th>\n",
              "      <th>state_zip_code</th>\n",
              "    </tr>\n",
              "  </thead>\n",
              "  <tbody>\n",
              "    <tr>\n",
              "      <th>0</th>\n",
              "      <td>610 N Canon Dr, Beverly Hills, CA 90210</td>\n",
              "      <td>18,995,000</td>\n",
              "      <td>5</td>\n",
              "      <td>8</td>\n",
              "      <td>7,448</td>\n",
              "      <td>House</td>\n",
              "      <td>610 N Canon Dr</td>\n",
              "      <td>Beverly Hills</td>\n",
              "      <td>CA 90210</td>\n",
              "    </tr>\n",
              "    <tr>\n",
              "      <th>1</th>\n",
              "      <td>1426 Summitridge Dr, Beverly Hills, CA 90210</td>\n",
              "      <td>46,500,000</td>\n",
              "      <td>6</td>\n",
              "      <td>9</td>\n",
              "      <td>21,046</td>\n",
              "      <td>House</td>\n",
              "      <td>1426 Summitridge Dr</td>\n",
              "      <td>Beverly Hills</td>\n",
              "      <td>CA 90210</td>\n",
              "    </tr>\n",
              "    <tr>\n",
              "      <th>2</th>\n",
              "      <td>9607 Wendover Dr, Beverly Hills, CA 90210</td>\n",
              "      <td>6,495,000</td>\n",
              "      <td>5</td>\n",
              "      <td>5</td>\n",
              "      <td>5,741</td>\n",
              "      <td>House</td>\n",
              "      <td>9607 Wendover Dr</td>\n",
              "      <td>Beverly Hills</td>\n",
              "      <td>CA 90210</td>\n",
              "    </tr>\n",
              "    <tr>\n",
              "      <th>3</th>\n",
              "      <td>1054 Angelo Dr, Los Angeles, CA 90210</td>\n",
              "      <td>17,995,000</td>\n",
              "      <td>6</td>\n",
              "      <td>8</td>\n",
              "      <td>10,500</td>\n",
              "      <td>House</td>\n",
              "      <td>1054 Angelo Dr</td>\n",
              "      <td>Los Angeles</td>\n",
              "      <td>CA 90210</td>\n",
              "    </tr>\n",
              "    <tr>\n",
              "      <th>4</th>\n",
              "      <td>3307 Clerendon Rd, Beverly Hills, CA 90210</td>\n",
              "      <td>12,495,000</td>\n",
              "      <td>7</td>\n",
              "      <td>8</td>\n",
              "      <td>10,971</td>\n",
              "      <td>House</td>\n",
              "      <td>3307 Clerendon Rd</td>\n",
              "      <td>Beverly Hills</td>\n",
              "      <td>CA 90210</td>\n",
              "    </tr>\n",
              "  </tbody>\n",
              "</table>\n",
              "</div>"
            ],
            "text/plain": [
              "                                        address  ... state_zip_code\n",
              "0       610 N Canon Dr, Beverly Hills, CA 90210  ...       CA 90210\n",
              "1  1426 Summitridge Dr, Beverly Hills, CA 90210  ...       CA 90210\n",
              "2     9607 Wendover Dr, Beverly Hills, CA 90210  ...       CA 90210\n",
              "3         1054 Angelo Dr, Los Angeles, CA 90210  ...       CA 90210\n",
              "4    3307 Clerendon Rd, Beverly Hills, CA 90210  ...       CA 90210\n",
              "\n",
              "[5 rows x 9 columns]"
            ]
          },
          "metadata": {
            "tags": []
          },
          "execution_count": 15
        }
      ]
    },
    {
      "cell_type": "code",
      "metadata": {
        "id": "x4tqN_w2Z9pg"
      },
      "source": [
        "#beakup state_zip_code into state and zip code\n",
        "df1['zip_code'] = df1['state_zip_code'].replace('CA ','', regex=True)"
      ],
      "execution_count": 16,
      "outputs": []
    },
    {
      "cell_type": "code",
      "metadata": {
        "id": "LA8HGcpvsazl"
      },
      "source": [
        "#reorder columns\n",
        "zillow_df = df1[['prices','beds','baths','sq_feet','type','address','street_name',\n",
        "       'city', 'zip_code']]"
      ],
      "execution_count": 17,
      "outputs": []
    },
    {
      "cell_type": "code",
      "metadata": {
        "id": "ewzWHbJFPDEl",
        "colab": {
          "base_uri": "https://localhost:8080/"
        },
        "outputId": "0887c630-0b8a-41b7-873a-773804a7125c"
      },
      "source": [
        "#pd.to_numeric(zillow_df['baths'])\n",
        "zillow_df['prices'] = zillow_df['prices'].str.replace(',','').astype(float)"
      ],
      "execution_count": 18,
      "outputs": [
        {
          "output_type": "stream",
          "text": [
            "/usr/local/lib/python3.6/dist-packages/ipykernel_launcher.py:2: SettingWithCopyWarning: \n",
            "A value is trying to be set on a copy of a slice from a DataFrame.\n",
            "Try using .loc[row_indexer,col_indexer] = value instead\n",
            "\n",
            "See the caveats in the documentation: https://pandas.pydata.org/pandas-docs/stable/user_guide/indexing.html#returning-a-view-versus-a-copy\n",
            "  \n"
          ],
          "name": "stderr"
        }
      ]
    },
    {
      "cell_type": "code",
      "metadata": {
        "id": "EmxNOa17PDEl",
        "colab": {
          "base_uri": "https://localhost:8080/"
        },
        "outputId": "66bd4d37-8e63-4292-a137-ee7823b81b17"
      },
      "source": [
        "zillow_df['beds']=zillow_df['beds'].replace('Studio,--', None)\n",
        "zillow_df['beds']=zillow_df['beds'].replace('--', None)\n",
        "zillow_df['beds']=zillow_df['beds'].str.replace(',', '').astype(float)"
      ],
      "execution_count": 19,
      "outputs": [
        {
          "output_type": "stream",
          "text": [
            "/usr/local/lib/python3.6/dist-packages/ipykernel_launcher.py:1: SettingWithCopyWarning: \n",
            "A value is trying to be set on a copy of a slice from a DataFrame.\n",
            "Try using .loc[row_indexer,col_indexer] = value instead\n",
            "\n",
            "See the caveats in the documentation: https://pandas.pydata.org/pandas-docs/stable/user_guide/indexing.html#returning-a-view-versus-a-copy\n",
            "  \"\"\"Entry point for launching an IPython kernel.\n",
            "/usr/local/lib/python3.6/dist-packages/ipykernel_launcher.py:2: SettingWithCopyWarning: \n",
            "A value is trying to be set on a copy of a slice from a DataFrame.\n",
            "Try using .loc[row_indexer,col_indexer] = value instead\n",
            "\n",
            "See the caveats in the documentation: https://pandas.pydata.org/pandas-docs/stable/user_guide/indexing.html#returning-a-view-versus-a-copy\n",
            "  \n",
            "/usr/local/lib/python3.6/dist-packages/ipykernel_launcher.py:3: SettingWithCopyWarning: \n",
            "A value is trying to be set on a copy of a slice from a DataFrame.\n",
            "Try using .loc[row_indexer,col_indexer] = value instead\n",
            "\n",
            "See the caveats in the documentation: https://pandas.pydata.org/pandas-docs/stable/user_guide/indexing.html#returning-a-view-versus-a-copy\n",
            "  This is separate from the ipykernel package so we can avoid doing imports until\n"
          ],
          "name": "stderr"
        }
      ]
    },
    {
      "cell_type": "code",
      "metadata": {
        "id": "pRVJQQr1PDEl",
        "colab": {
          "base_uri": "https://localhost:8080/"
        },
        "outputId": "9b12987f-8bfd-4128-c8f9-7b8f0ac4d748"
      },
      "source": [
        "zillow_df['baths'] = zillow_df['baths'].replace('--', None)\n",
        "zillow_df['baths'] = zillow_df['baths'].str.replace(',','').astype(float)\n"
      ],
      "execution_count": 20,
      "outputs": [
        {
          "output_type": "stream",
          "text": [
            "/usr/local/lib/python3.6/dist-packages/ipykernel_launcher.py:1: SettingWithCopyWarning: \n",
            "A value is trying to be set on a copy of a slice from a DataFrame.\n",
            "Try using .loc[row_indexer,col_indexer] = value instead\n",
            "\n",
            "See the caveats in the documentation: https://pandas.pydata.org/pandas-docs/stable/user_guide/indexing.html#returning-a-view-versus-a-copy\n",
            "  \"\"\"Entry point for launching an IPython kernel.\n",
            "/usr/local/lib/python3.6/dist-packages/ipykernel_launcher.py:2: SettingWithCopyWarning: \n",
            "A value is trying to be set on a copy of a slice from a DataFrame.\n",
            "Try using .loc[row_indexer,col_indexer] = value instead\n",
            "\n",
            "See the caveats in the documentation: https://pandas.pydata.org/pandas-docs/stable/user_guide/indexing.html#returning-a-view-versus-a-copy\n",
            "  \n"
          ],
          "name": "stderr"
        }
      ]
    },
    {
      "cell_type": "code",
      "metadata": {
        "id": "8i9ov4F-PDEm",
        "colab": {
          "base_uri": "https://localhost:8080/"
        },
        "outputId": "36beeecc-9483-44d4-f308-2a469b19a0bc"
      },
      "source": [
        "\n",
        "zillow_df['sq_feet'] = zillow_df['sq_feet'].replace('--', None)\n",
        "zillow_df['sq_feet'] = zillow_df['sq_feet'].replace('lot-', None)\n",
        "zillow_df['sq_feet'] = zillow_df['sq_feet'].replace('sqft-', None)\n",
        "zillow_df['sq_feet'] = zillow_df['sq_feet'].str.replace(',','').astype(float)"
      ],
      "execution_count": 21,
      "outputs": [
        {
          "output_type": "stream",
          "text": [
            "/usr/local/lib/python3.6/dist-packages/ipykernel_launcher.py:2: SettingWithCopyWarning: \n",
            "A value is trying to be set on a copy of a slice from a DataFrame.\n",
            "Try using .loc[row_indexer,col_indexer] = value instead\n",
            "\n",
            "See the caveats in the documentation: https://pandas.pydata.org/pandas-docs/stable/user_guide/indexing.html#returning-a-view-versus-a-copy\n",
            "  \n",
            "/usr/local/lib/python3.6/dist-packages/ipykernel_launcher.py:3: SettingWithCopyWarning: \n",
            "A value is trying to be set on a copy of a slice from a DataFrame.\n",
            "Try using .loc[row_indexer,col_indexer] = value instead\n",
            "\n",
            "See the caveats in the documentation: https://pandas.pydata.org/pandas-docs/stable/user_guide/indexing.html#returning-a-view-versus-a-copy\n",
            "  This is separate from the ipykernel package so we can avoid doing imports until\n",
            "/usr/local/lib/python3.6/dist-packages/ipykernel_launcher.py:4: SettingWithCopyWarning: \n",
            "A value is trying to be set on a copy of a slice from a DataFrame.\n",
            "Try using .loc[row_indexer,col_indexer] = value instead\n",
            "\n",
            "See the caveats in the documentation: https://pandas.pydata.org/pandas-docs/stable/user_guide/indexing.html#returning-a-view-versus-a-copy\n",
            "  after removing the cwd from sys.path.\n",
            "/usr/local/lib/python3.6/dist-packages/ipykernel_launcher.py:5: SettingWithCopyWarning: \n",
            "A value is trying to be set on a copy of a slice from a DataFrame.\n",
            "Try using .loc[row_indexer,col_indexer] = value instead\n",
            "\n",
            "See the caveats in the documentation: https://pandas.pydata.org/pandas-docs/stable/user_guide/indexing.html#returning-a-view-versus-a-copy\n",
            "  \"\"\"\n"
          ],
          "name": "stderr"
        }
      ]
    },
    {
      "cell_type": "markdown",
      "metadata": {
        "id": "uNe06qT-qt1Y"
      },
      "source": [
        "# Final Dataset - zillow_df\n",
        "Now we are going to do Data Visualization and Model Development using the zillow_df dataset."
      ]
    },
    {
      "cell_type": "code",
      "metadata": {
        "colab": {
          "base_uri": "https://localhost:8080/",
          "height": 204
        },
        "id": "2lLjGR6U8pL5",
        "outputId": "df28fec1-cf00-412e-aca3-161f1684ff73"
      },
      "source": [
        "zillow_df.head()"
      ],
      "execution_count": 22,
      "outputs": [
        {
          "output_type": "execute_result",
          "data": {
            "text/html": [
              "<div>\n",
              "<style scoped>\n",
              "    .dataframe tbody tr th:only-of-type {\n",
              "        vertical-align: middle;\n",
              "    }\n",
              "\n",
              "    .dataframe tbody tr th {\n",
              "        vertical-align: top;\n",
              "    }\n",
              "\n",
              "    .dataframe thead th {\n",
              "        text-align: right;\n",
              "    }\n",
              "</style>\n",
              "<table border=\"1\" class=\"dataframe\">\n",
              "  <thead>\n",
              "    <tr style=\"text-align: right;\">\n",
              "      <th></th>\n",
              "      <th>prices</th>\n",
              "      <th>beds</th>\n",
              "      <th>baths</th>\n",
              "      <th>sq_feet</th>\n",
              "      <th>type</th>\n",
              "      <th>address</th>\n",
              "      <th>street_name</th>\n",
              "      <th>city</th>\n",
              "      <th>zip_code</th>\n",
              "    </tr>\n",
              "  </thead>\n",
              "  <tbody>\n",
              "    <tr>\n",
              "      <th>0</th>\n",
              "      <td>18995000.0</td>\n",
              "      <td>5.0</td>\n",
              "      <td>8.0</td>\n",
              "      <td>7448.0</td>\n",
              "      <td>House</td>\n",
              "      <td>610 N Canon Dr, Beverly Hills, CA 90210</td>\n",
              "      <td>610 N Canon Dr</td>\n",
              "      <td>Beverly Hills</td>\n",
              "      <td>90210</td>\n",
              "    </tr>\n",
              "    <tr>\n",
              "      <th>1</th>\n",
              "      <td>46500000.0</td>\n",
              "      <td>6.0</td>\n",
              "      <td>9.0</td>\n",
              "      <td>21046.0</td>\n",
              "      <td>House</td>\n",
              "      <td>1426 Summitridge Dr, Beverly Hills, CA 90210</td>\n",
              "      <td>1426 Summitridge Dr</td>\n",
              "      <td>Beverly Hills</td>\n",
              "      <td>90210</td>\n",
              "    </tr>\n",
              "    <tr>\n",
              "      <th>2</th>\n",
              "      <td>6495000.0</td>\n",
              "      <td>5.0</td>\n",
              "      <td>5.0</td>\n",
              "      <td>5741.0</td>\n",
              "      <td>House</td>\n",
              "      <td>9607 Wendover Dr, Beverly Hills, CA 90210</td>\n",
              "      <td>9607 Wendover Dr</td>\n",
              "      <td>Beverly Hills</td>\n",
              "      <td>90210</td>\n",
              "    </tr>\n",
              "    <tr>\n",
              "      <th>3</th>\n",
              "      <td>17995000.0</td>\n",
              "      <td>6.0</td>\n",
              "      <td>8.0</td>\n",
              "      <td>10500.0</td>\n",
              "      <td>House</td>\n",
              "      <td>1054 Angelo Dr, Los Angeles, CA 90210</td>\n",
              "      <td>1054 Angelo Dr</td>\n",
              "      <td>Los Angeles</td>\n",
              "      <td>90210</td>\n",
              "    </tr>\n",
              "    <tr>\n",
              "      <th>4</th>\n",
              "      <td>12495000.0</td>\n",
              "      <td>7.0</td>\n",
              "      <td>8.0</td>\n",
              "      <td>10971.0</td>\n",
              "      <td>House</td>\n",
              "      <td>3307 Clerendon Rd, Beverly Hills, CA 90210</td>\n",
              "      <td>3307 Clerendon Rd</td>\n",
              "      <td>Beverly Hills</td>\n",
              "      <td>90210</td>\n",
              "    </tr>\n",
              "  </tbody>\n",
              "</table>\n",
              "</div>"
            ],
            "text/plain": [
              "       prices  beds  baths  ...          street_name            city zip_code\n",
              "0  18995000.0   5.0    8.0  ...       610 N Canon Dr   Beverly Hills    90210\n",
              "1  46500000.0   6.0    9.0  ...  1426 Summitridge Dr   Beverly Hills    90210\n",
              "2   6495000.0   5.0    5.0  ...     9607 Wendover Dr   Beverly Hills    90210\n",
              "3  17995000.0   6.0    8.0  ...       1054 Angelo Dr     Los Angeles    90210\n",
              "4  12495000.0   7.0    8.0  ...    3307 Clerendon Rd   Beverly Hills    90210\n",
              "\n",
              "[5 rows x 9 columns]"
            ]
          },
          "metadata": {
            "tags": []
          },
          "execution_count": 22
        }
      ]
    },
    {
      "cell_type": "code",
      "metadata": {
        "colab": {
          "base_uri": "https://localhost:8080/"
        },
        "id": "YPfuwl_-dmD3",
        "outputId": "751d7708-17de-46f3-e867-a584f6a2f188"
      },
      "source": [
        "zillow_df.shape"
      ],
      "execution_count": 23,
      "outputs": [
        {
          "output_type": "execute_result",
          "data": {
            "text/plain": [
              "(280, 9)"
            ]
          },
          "metadata": {
            "tags": []
          },
          "execution_count": 23
        }
      ]
    },
    {
      "cell_type": "code",
      "metadata": {
        "id": "tzPzbzuaPDEn",
        "colab": {
          "base_uri": "https://localhost:8080/"
        },
        "outputId": "730d20ef-bb1b-4c8e-c326-d47d0016343f"
      },
      "source": [
        "zillow_df.info()"
      ],
      "execution_count": 24,
      "outputs": [
        {
          "output_type": "stream",
          "text": [
            "<class 'pandas.core.frame.DataFrame'>\n",
            "RangeIndex: 280 entries, 0 to 279\n",
            "Data columns (total 9 columns):\n",
            " #   Column       Non-Null Count  Dtype  \n",
            "---  ------       --------------  -----  \n",
            " 0   prices       280 non-null    float64\n",
            " 1   beds         280 non-null    float64\n",
            " 2   baths        246 non-null    float64\n",
            " 3   sq_feet      280 non-null    float64\n",
            " 4   type         280 non-null    object \n",
            " 5   address      280 non-null    object \n",
            " 6   street_name  280 non-null    object \n",
            " 7   city         280 non-null    object \n",
            " 8   zip_code     280 non-null    object \n",
            "dtypes: float64(4), object(5)\n",
            "memory usage: 19.8+ KB\n"
          ],
          "name": "stdout"
        }
      ]
    },
    {
      "cell_type": "code",
      "metadata": {
        "id": "wFnF6L9HPDEn",
        "colab": {
          "base_uri": "https://localhost:8080/",
          "height": 297
        },
        "outputId": "052ccf17-d5fa-432c-e69e-16b89a0d8faf"
      },
      "source": [
        "zillow_df.describe()"
      ],
      "execution_count": 25,
      "outputs": [
        {
          "output_type": "execute_result",
          "data": {
            "text/html": [
              "<div>\n",
              "<style scoped>\n",
              "    .dataframe tbody tr th:only-of-type {\n",
              "        vertical-align: middle;\n",
              "    }\n",
              "\n",
              "    .dataframe tbody tr th {\n",
              "        vertical-align: top;\n",
              "    }\n",
              "\n",
              "    .dataframe thead th {\n",
              "        text-align: right;\n",
              "    }\n",
              "</style>\n",
              "<table border=\"1\" class=\"dataframe\">\n",
              "  <thead>\n",
              "    <tr style=\"text-align: right;\">\n",
              "      <th></th>\n",
              "      <th>prices</th>\n",
              "      <th>beds</th>\n",
              "      <th>baths</th>\n",
              "      <th>sq_feet</th>\n",
              "    </tr>\n",
              "  </thead>\n",
              "  <tbody>\n",
              "    <tr>\n",
              "      <th>count</th>\n",
              "      <td>2.800000e+02</td>\n",
              "      <td>280.000000</td>\n",
              "      <td>246.000000</td>\n",
              "      <td>280.00000</td>\n",
              "    </tr>\n",
              "    <tr>\n",
              "      <th>mean</th>\n",
              "      <td>1.253692e+07</td>\n",
              "      <td>143.264536</td>\n",
              "      <td>144.569106</td>\n",
              "      <td>5866.90000</td>\n",
              "    </tr>\n",
              "    <tr>\n",
              "      <th>std</th>\n",
              "      <td>1.795687e+07</td>\n",
              "      <td>1030.234394</td>\n",
              "      <td>1529.133900</td>\n",
              "      <td>4388.06586</td>\n",
              "    </tr>\n",
              "    <tr>\n",
              "      <th>min</th>\n",
              "      <td>1.398000e+05</td>\n",
              "      <td>0.280000</td>\n",
              "      <td>2.000000</td>\n",
              "      <td>1016.00000</td>\n",
              "    </tr>\n",
              "    <tr>\n",
              "      <th>25%</th>\n",
              "      <td>3.499750e+06</td>\n",
              "      <td>3.000000</td>\n",
              "      <td>4.000000</td>\n",
              "      <td>2775.50000</td>\n",
              "    </tr>\n",
              "    <tr>\n",
              "      <th>50%</th>\n",
              "      <td>6.995000e+06</td>\n",
              "      <td>5.000000</td>\n",
              "      <td>6.000000</td>\n",
              "      <td>5017.50000</td>\n",
              "    </tr>\n",
              "    <tr>\n",
              "      <th>75%</th>\n",
              "      <td>1.550000e+07</td>\n",
              "      <td>6.000000</td>\n",
              "      <td>8.000000</td>\n",
              "      <td>7500.50000</td>\n",
              "    </tr>\n",
              "    <tr>\n",
              "      <th>max</th>\n",
              "      <td>1.600000e+08</td>\n",
              "      <td>8873.000000</td>\n",
              "      <td>17000.000000</td>\n",
              "      <td>38000.00000</td>\n",
              "    </tr>\n",
              "  </tbody>\n",
              "</table>\n",
              "</div>"
            ],
            "text/plain": [
              "             prices         beds         baths      sq_feet\n",
              "count  2.800000e+02   280.000000    246.000000    280.00000\n",
              "mean   1.253692e+07   143.264536    144.569106   5866.90000\n",
              "std    1.795687e+07  1030.234394   1529.133900   4388.06586\n",
              "min    1.398000e+05     0.280000      2.000000   1016.00000\n",
              "25%    3.499750e+06     3.000000      4.000000   2775.50000\n",
              "50%    6.995000e+06     5.000000      6.000000   5017.50000\n",
              "75%    1.550000e+07     6.000000      8.000000   7500.50000\n",
              "max    1.600000e+08  8873.000000  17000.000000  38000.00000"
            ]
          },
          "metadata": {
            "tags": []
          },
          "execution_count": 25
        }
      ]
    },
    {
      "cell_type": "markdown",
      "metadata": {
        "id": "jUKqPVMLPDEn"
      },
      "source": [
        "## Data Visualization and EDA"
      ]
    },
    {
      "cell_type": "code",
      "metadata": {
        "id": "4NuS0EGgPDEn",
        "colab": {
          "base_uri": "https://localhost:8080/",
          "height": 312
        },
        "outputId": "abf6ab02-90ec-47ba-d5ec-f596b7e24fdf"
      },
      "source": [
        "zillow_df['baths'].value_counts().plot.barh()\n",
        "plt.title('Distribution of Number of Bathrooms')\n",
        "plt.xlabel('Frequency')\n",
        "plt.ylabel('Number of Bathrooms')"
      ],
      "execution_count": 26,
      "outputs": [
        {
          "output_type": "execute_result",
          "data": {
            "text/plain": [
              "Text(0, 0.5, 'Number of Bathrooms')"
            ]
          },
          "metadata": {
            "tags": []
          },
          "execution_count": 26
        },
        {
          "output_type": "display_data",
          "data": {
            "image/png": "[encoded data removed]",
            "text/plain": [
              "<Figure size 432x288 with 1 Axes>"
            ]
          },
          "metadata": {
            "tags": [],
            "needs_background": "light"
          }
        }
      ]
    },
    {
      "cell_type": "code",
      "metadata": {
        "id": "i-TFJgxYqx8Y",
        "colab": {
          "base_uri": "https://localhost:8080/",
          "height": 366
        },
        "outputId": "380f0143-2dde-40cb-89f7-e916be62ec3b"
      },
      "source": [
        "sns.countplot(zillow_df['type'])\n",
        "plt.title('Distribution of Type of Property')\n",
        "plt.xlabel('Frequency')\n",
        "plt.ylabel('Type of Property')"
      ],
      "execution_count": 27,
      "outputs": [
        {
          "output_type": "stream",
          "text": [
            "/usr/local/lib/python3.6/dist-packages/seaborn/_decorators.py:43: FutureWarning: Pass the following variable as a keyword arg: x. From version 0.12, the only valid positional argument will be `data`, and passing other arguments without an explicit keyword will result in an error or misinterpretation.\n",
            "  FutureWarning\n"
          ],
          "name": "stderr"
        },
        {
          "output_type": "execute_result",
          "data": {
            "text/plain": [
              "Text(0, 0.5, 'Type of Property')"
            ]
          },
          "metadata": {
            "tags": []
          },
          "execution_count": 27
        },
        {
          "output_type": "display_data",
          "data": {
            "image/png": "[encoded data removed]",
            "text/plain": [
              "<Figure size 432x288 with 1 Axes>"
            ]
          },
          "metadata": {
            "tags": [],
            "needs_background": "light"
          }
        }
      ]
    },
    {
      "cell_type": "code",
      "metadata": {
        "id": "gLnrWH1sPDEo",
        "colab": {
          "base_uri": "https://localhost:8080/",
          "height": 366
        },
        "outputId": "d366fe2c-6335-4464-d09c-9c28501578bc"
      },
      "source": [
        "sns.boxplot(zillow_df['prices'])\n",
        "plt.title('Boxplot of Prices')\n",
        "plt.xlabel('Prices (10 Millions)')\n"
      ],
      "execution_count": 28,
      "outputs": [
        {
          "output_type": "stream",
          "text": [
            "/usr/local/lib/python3.6/dist-packages/seaborn/_decorators.py:43: FutureWarning: Pass the following variable as a keyword arg: x. From version 0.12, the only valid positional argument will be `data`, and passing other arguments without an explicit keyword will result in an error or misinterpretation.\n",
            "  FutureWarning\n"
          ],
          "name": "stderr"
        },
        {
          "output_type": "execute_result",
          "data": {
            "text/plain": [
              "Text(0.5, 0, 'Prices (10 Millions)')"
            ]
          },
          "metadata": {
            "tags": []
          },
          "execution_count": 28
        },
        {
          "output_type": "display_data",
          "data": {
            "image/png": "[encoded data removed]",
            "text/plain": [
              "<Figure size 432x288 with 1 Axes>"
            ]
          },
          "metadata": {
            "tags": [],
            "needs_background": "light"
          }
        }
      ]
    },
    {
      "cell_type": "code",
      "metadata": {
        "id": "JK3C_iCjPDEo",
        "colab": {
          "base_uri": "https://localhost:8080/",
          "height": 366
        },
        "outputId": "03d2adea-0d06-4670-f088-500a613125a3"
      },
      "source": [
        "sns.boxplot(zillow_df['sq_feet'])\n",
        "plt.title('Boxplot of Square Feet')\n",
        "plt.xlabel('Squre Feet')"
      ],
      "execution_count": 29,
      "outputs": [
        {
          "output_type": "stream",
          "text": [
            "/usr/local/lib/python3.6/dist-packages/seaborn/_decorators.py:43: FutureWarning: Pass the following variable as a keyword arg: x. From version 0.12, the only valid positional argument will be `data`, and passing other arguments without an explicit keyword will result in an error or misinterpretation.\n",
            "  FutureWarning\n"
          ],
          "name": "stderr"
        },
        {
          "output_type": "execute_result",
          "data": {
            "text/plain": [
              "Text(0.5, 0, 'Squre Feet')"
            ]
          },
          "metadata": {
            "tags": []
          },
          "execution_count": 29
        },
        {
          "output_type": "display_data",
          "data": {
            "image/png": "[encoded data removed]",
            "text/plain": [
              "<Figure size 432x288 with 1 Axes>"
            ]
          },
          "metadata": {
            "tags": [],
            "needs_background": "light"
          }
        }
      ]
    },
    {
      "cell_type": "code",
      "metadata": {
        "id": "DVoSWdc_PDEo",
        "colab": {
          "base_uri": "https://localhost:8080/",
          "height": 366
        },
        "outputId": "949ee915-ea64-482b-aa0c-e0c37dd281d6"
      },
      "source": [
        "sns.boxplot(zillow_df['beds'])\n",
        "plt.title('Boxplot of Beds')\n",
        "plt.xlabel('beds')"
      ],
      "execution_count": 30,
      "outputs": [
        {
          "output_type": "stream",
          "text": [
            "/usr/local/lib/python3.6/dist-packages/seaborn/_decorators.py:43: FutureWarning: Pass the following variable as a keyword arg: x. From version 0.12, the only valid positional argument will be `data`, and passing other arguments without an explicit keyword will result in an error or misinterpretation.\n",
            "  FutureWarning\n"
          ],
          "name": "stderr"
        },
        {
          "output_type": "execute_result",
          "data": {
            "text/plain": [
              "Text(0.5, 0, 'beds')"
            ]
          },
          "metadata": {
            "tags": []
          },
          "execution_count": 30
        },
        {
          "output_type": "display_data",
          "data": {
            "image/png": "[encoded data removed]",
            "text/plain": [
              "<Figure size 432x288 with 1 Axes>"
            ]
          },
          "metadata": {
            "tags": [],
            "needs_background": "light"
          }
        }
      ]
    },
    {
      "cell_type": "code",
      "metadata": {
        "id": "uwediIY9PDEo",
        "colab": {
          "base_uri": "https://localhost:8080/",
          "height": 475
        },
        "outputId": "ee14db7c-0fb1-4520-dbcc-e55c249f2604"
      },
      "source": [
        "plt.figure(figsize=(15,6))\n",
        "sns.countplot(zillow_df['beds'])\n",
        "plt.title('Distribution of Number of Bedrooms')\n",
        "plt.xlabel('Number of Bedrooms')\n",
        "plt.ylabel('count frequency')"
      ],
      "execution_count": 31,
      "outputs": [
        {
          "output_type": "stream",
          "text": [
            "/usr/local/lib/python3.6/dist-packages/seaborn/_decorators.py:43: FutureWarning: Pass the following variable as a keyword arg: x. From version 0.12, the only valid positional argument will be `data`, and passing other arguments without an explicit keyword will result in an error or misinterpretation.\n",
            "  FutureWarning\n"
          ],
          "name": "stderr"
        },
        {
          "output_type": "execute_result",
          "data": {
            "text/plain": [
              "Text(0, 0.5, 'count frequency')"
            ]
          },
          "metadata": {
            "tags": []
          },
          "execution_count": 31
        },
        {
          "output_type": "display_data",
          "data": {
            "image/png": "[encoded data removed]",
            "text/plain": [
              "<Figure size 1080x432 with 1 Axes>"
            ]
          },
          "metadata": {
            "tags": [],
            "needs_background": "light"
          }
        }
      ]
    },
    {
      "cell_type": "code",
      "metadata": {
        "id": "DCIDj-9BPDEp"
      },
      "source": [
        "df=zillow_df.groupby(['type'])['beds'].mean().to_frame().rename(columns={'id':'count'}).reset_index()"
      ],
      "execution_count": 32,
      "outputs": []
    },
    {
      "cell_type": "code",
      "metadata": {
        "id": "mRrAHYR4PDEp"
      },
      "source": [
        "df = df[df['type'] != '/']"
      ],
      "execution_count": 33,
      "outputs": []
    },
    {
      "cell_type": "code",
      "metadata": {
        "id": "XQ4Ub4JgPDEp",
        "colab": {
          "base_uri": "https://localhost:8080/",
          "height": 366
        },
        "outputId": "ef4d7da9-8207-476f-a1bd-3778b90d50ed"
      },
      "source": [
        "sns.barplot('type','beds',data=df)\n",
        "plt.title('Distribution of Type of Houses in Average')\n"
      ],
      "execution_count": 34,
      "outputs": [
        {
          "output_type": "stream",
          "text": [
            "/usr/local/lib/python3.6/dist-packages/seaborn/_decorators.py:43: FutureWarning: Pass the following variables as keyword args: x, y. From version 0.12, the only valid positional argument will be `data`, and passing other arguments without an explicit keyword will result in an error or misinterpretation.\n",
            "  FutureWarning\n"
          ],
          "name": "stderr"
        },
        {
          "output_type": "execute_result",
          "data": {
            "text/plain": [
              "Text(0.5, 1.0, 'Distribution of Type of Houses in Average')"
            ]
          },
          "metadata": {
            "tags": []
          },
          "execution_count": 34
        },
        {
          "output_type": "display_data",
          "data": {
            "image/png": "[encoded data removed]",
            "text/plain": [
              "<Figure size 432x288 with 1 Axes>"
            ]
          },
          "metadata": {
            "tags": [],
            "needs_background": "light"
          }
        }
      ]
    },
    {
      "cell_type": "code",
      "metadata": {
        "id": "fPEGbiubPDEp"
      },
      "source": [
        "zillow_df = zillow_df[zillow_df['beds'] < 100]"
      ],
      "execution_count": 35,
      "outputs": []
    },
    {
      "cell_type": "code",
      "metadata": {
        "id": "gHwGi0FBPDEp",
        "colab": {
          "base_uri": "https://localhost:8080/",
          "height": 269
        },
        "outputId": "ede9f247-9edb-4e57-9177-831f2e87c46a"
      },
      "source": [
        "sns.heatmap(zillow_df[['prices','beds','baths']].corr(), annot=True, cmap = 'Reds')\n",
        "plt.show()\n"
      ],
      "execution_count": 36,
      "outputs": [
        {
          "output_type": "display_data",
          "data": {
            "image/png": "[encoded data removed]",
            "text/plain": [
              "<Figure size 432x288 with 2 Axes>"
            ]
          },
          "metadata": {
            "tags": [],
            "needs_background": "light"
          }
        }
      ]
    },
    {
      "cell_type": "markdown",
      "metadata": {
        "id": "SSPrpxxkPDEq"
      },
      "source": [
        "## Model Development - Linear Regressions"
      ]
    },
    {
      "cell_type": "code",
      "metadata": {
        "id": "piQuSigZPDEq",
        "colab": {
          "base_uri": "https://localhost:8080/",
          "height": 295
        },
        "outputId": "6b74f2fc-d7d9-4b69-e148-8619d62c2a7c"
      },
      "source": [
        "x = zillow_df[['beds']]\n",
        "y = zillow_df[['prices']]\n",
        "xTrain, xTest, yTrain, yTest = holdout(x, y, test_size = 0.25, random_state = 0)\n",
        "linearRegressor = LinearRegression()\n",
        "linearRegressor.fit(xTrain, yTrain)\n",
        "yPrediction = linearRegressor.predict(xTest)\n",
        "plt.scatter(xTrain, yTrain, color = 'red')\n",
        "plt.plot(xTrain, linearRegressor.predict(xTrain), color = 'blue')\n",
        "plt.title('Prices vs Number of Beds (Training set)')\n",
        "plt.xlabel('Number of Beds')\n",
        "plt.ylabel('Prices')\n",
        "plt.show()"
      ],
      "execution_count": 37,
      "outputs": [
        {
          "output_type": "display_data",
          "data": {
            "image/png": "[encoded data removed]",
            "text/plain": [
              "<Figure size 432x288 with 1 Axes>"
            ]
          },
          "metadata": {
            "tags": [],
            "needs_background": "light"
          }
        }
      ]
    },
    {
      "cell_type": "code",
      "metadata": {
        "id": "2r37bNAkPDEq",
        "colab": {
          "base_uri": "https://localhost:8080/",
          "height": 295
        },
        "outputId": "05f13870-4e11-4317-f052-e734d5d97b7c"
      },
      "source": [
        "plt.scatter(xTest, yTest, color = 'red')\n",
        "plt.plot(xTrain, linearRegressor.predict(xTrain), color = 'blue')\n",
        "plt.title('Prices vs Number of Beds (Test set)')\n",
        "plt.xlabel('Number of Beds')\n",
        "plt.ylabel('Prices')\n",
        "plt.show()"
      ],
      "execution_count": 38,
      "outputs": [
        {
          "output_type": "display_data",
          "data": {
            "image/png": "[encoded data removed]",
            "text/plain": [
              "<Figure size 432x288 with 1 Axes>"
            ]
          },
          "metadata": {
            "tags": [],
            "needs_background": "light"
          }
        }
      ]
    },
    {
      "cell_type": "markdown",
      "metadata": {
        "id": "FmqUH3thPDEq"
      },
      "source": [
        "## Model Development - Polynomial Regression"
      ]
    },
    {
      "cell_type": "code",
      "metadata": {
        "id": "GQ8e2BosPDEq",
        "colab": {
          "base_uri": "https://localhost:8080/"
        },
        "outputId": "cab9df5c-3bc7-4872-c783-89c7f01c1ae9"
      },
      "source": [
        "\n",
        "pol = PolynomialFeatures (degree = 4)\n",
        "x_pol = pol.fit_transform(x)\n",
        "x_train, x_test, y_train, y_test = holdout(x_pol, y, test_size=0.3, random_state=0)\n",
        "Pol_reg = LinearRegression()\n",
        "Pol_reg.fit(x_train, y_train)\n",
        "y_train_pred = Pol_reg.predict(x_train)\n",
        "y_test_pred = Pol_reg.predict(x_test)\n",
        "print(Pol_reg.intercept_)\n",
        "print(Pol_reg.coef_)\n",
        "print(Pol_reg.score(x_test, y_test))"
      ],
      "execution_count": 39,
      "outputs": [
        {
          "output_type": "stream",
          "text": [
            "[12019628.23173002]\n",
            "[[        0.         -11200137.42442929   4216577.95311521\n",
            "    -513855.19358131     24465.71643495]]\n",
            "-23.650348428778074\n"
          ],
          "name": "stdout"
        }
      ]
    },
    {
      "cell_type": "code",
      "metadata": {
        "id": "R-YSAYO-PDEr",
        "colab": {
          "base_uri": "https://localhost:8080/",
          "height": 295
        },
        "outputId": "d0da608f-078e-418e-fb72-8ee6a6dd3265"
      },
      "source": [
        "# Visualising the Polynomial Regression results \n",
        "plt.scatter(x, y, color = 'blue') \n",
        "\n",
        "plt.plot(x, Pol_reg.predict(pol.fit_transform(x)), color = 'red') \n",
        "plt.title('Polynomial Regression') \n",
        "plt.xlabel('Number of Beds') \n",
        "plt.ylabel('Price') \n",
        "\n",
        "plt.show() \n"
      ],
      "execution_count": 40,
      "outputs": [
        {
          "output_type": "display_data",
          "data": {
            "image/png": "[encoded data removed]",
            "text/plain": [
              "<Figure size 432x288 with 1 Axes>"
            ]
          },
          "metadata": {
            "tags": [],
            "needs_background": "light"
          }
        }
      ]
    },
    {
      "cell_type": "code",
      "metadata": {
        "id": "V_YDJlNyPDEr",
        "colab": {
          "base_uri": "https://localhost:8080/"
        },
        "outputId": "fabc793b-0709-48fc-a4e7-8467bdf5e8a5"
      },
      "source": [
        "##Evaluating the performance of the algorithm\n",
        "print('Mean Absolute Error:', metrics.mean_absolute_error(y_test, y_test_pred))\n",
        "print('Mean Squared Error:', metrics.mean_squared_error(y_test, y_test_pred))\n",
        "print('Root Mean Squared Error:', np.sqrt(metrics.mean_squared_error(y_test, y_test_pred)))"
      ],
      "execution_count": 41,
      "outputs": [
        {
          "output_type": "stream",
          "text": [
            "Mean Absolute Error: 13218598.658629157\n",
            "Mean Squared Error: 4874324954482178.0\n",
            "Root Mean Squared Error: 69816365.9501279\n"
          ],
          "name": "stdout"
        }
      ]
    },
    {
      "cell_type": "markdown",
      "metadata": {
        "id": "k95gMmP_PDEr"
      },
      "source": [
        "## Model Development - KNN"
      ]
    },
    {
      "cell_type": "code",
      "metadata": {
        "id": "vrFaNAQ0PDEr",
        "colab": {
          "base_uri": "https://localhost:8080/",
          "height": 572
        },
        "outputId": "9f4d9774-6624-4001-b5e7-776d62711151"
      },
      "source": [
        "# Split into training and test set \n",
        "x_train, x_test, y_train, y_test = train_test_split( \n",
        "\t\t\tx, y, test_size = 0.2, random_state=42) \n",
        "\n",
        "neighbors = np.arange(1, 9) \n",
        "train_accuracy = np.empty(len(neighbors)) \n",
        "test_accuracy = np.empty(len(neighbors)) \n",
        "\n",
        "# Loop over K values \n",
        "for i, k in enumerate(neighbors): \n",
        "\tknn = KNeighborsClassifier(n_neighbors=k) \n",
        "\tknn.fit(x_train, y_train) \n",
        "\t\n",
        "\t# Compute traning and test data accuracy \n",
        "\ttrain_accuracy[i] = knn.score(x_train, y_train) \n",
        "\ttest_accuracy[i] = knn.score(x_test, y_test) \n",
        "\n",
        "# Generate plot \n",
        "plt.plot(neighbors, test_accuracy, label = 'Testing dataset Accuracy') \n",
        "plt.plot(neighbors, train_accuracy, label = 'Training dataset Accuracy') \n",
        "\n",
        "plt.legend() \n",
        "plt.xlabel('n_neighbors') \n",
        "plt.ylabel('Accuracy') \n",
        "plt.show() \n"
      ],
      "execution_count": 42,
      "outputs": [
        {
          "output_type": "stream",
          "text": [
            "/usr/local/lib/python3.6/dist-packages/ipykernel_launcher.py:12: DataConversionWarning: A column-vector y was passed when a 1d array was expected. Please change the shape of y to (n_samples, ), for example using ravel().\n",
            "  if sys.path[0] == '':\n",
            "/usr/local/lib/python3.6/dist-packages/ipykernel_launcher.py:12: DataConversionWarning: A column-vector y was passed when a 1d array was expected. Please change the shape of y to (n_samples, ), for example using ravel().\n",
            "  if sys.path[0] == '':\n",
            "/usr/local/lib/python3.6/dist-packages/ipykernel_launcher.py:12: DataConversionWarning: A column-vector y was passed when a 1d array was expected. Please change the shape of y to (n_samples, ), for example using ravel().\n",
            "  if sys.path[0] == '':\n",
            "/usr/local/lib/python3.6/dist-packages/ipykernel_launcher.py:12: DataConversionWarning: A column-vector y was passed when a 1d array was expected. Please change the shape of y to (n_samples, ), for example using ravel().\n",
            "  if sys.path[0] == '':\n",
            "/usr/local/lib/python3.6/dist-packages/ipykernel_launcher.py:12: DataConversionWarning: A column-vector y was passed when a 1d array was expected. Please change the shape of y to (n_samples, ), for example using ravel().\n",
            "  if sys.path[0] == '':\n",
            "/usr/local/lib/python3.6/dist-packages/ipykernel_launcher.py:12: DataConversionWarning: A column-vector y was passed when a 1d array was expected. Please change the shape of y to (n_samples, ), for example using ravel().\n",
            "  if sys.path[0] == '':\n",
            "/usr/local/lib/python3.6/dist-packages/ipykernel_launcher.py:12: DataConversionWarning: A column-vector y was passed when a 1d array was expected. Please change the shape of y to (n_samples, ), for example using ravel().\n",
            "  if sys.path[0] == '':\n",
            "/usr/local/lib/python3.6/dist-packages/ipykernel_launcher.py:12: DataConversionWarning: A column-vector y was passed when a 1d array was expected. Please change the shape of y to (n_samples, ), for example using ravel().\n",
            "  if sys.path[0] == '':\n"
          ],
          "name": "stderr"
        },
        {
          "output_type": "display_data",
          "data": {
            "image/png": "[encoded data removed]",
            "text/plain": [
              "<Figure size 432x288 with 1 Axes>"
            ]
          },
          "metadata": {
            "tags": [],
            "needs_background": "light"
          }
        }
      ]
    },
    {
      "cell_type": "markdown",
      "metadata": {
        "id": "uhi3oT-OPDEs"
      },
      "source": [
        "### Insights\n",
        "- Most of properties have number of bathrooms between 2 - 8.\n",
        "- Most of properties are house type, and few of them are condos.\n",
        "- Most of properties have number of bedrooms between 2 - 8. Only a few of properties have more than 9 bedrooms.\n",
        "- The greatest average number of house type is new property. The second highest is house type. The third highest is condo.\n",
        "- The beds and baths features show the strongest correlation in heat map.\n",
        "- The price has a positive relationship with the number of beds. Price increase as the number of beds increase. However, there are some higher prices with the same number of beds.\n",
        "- Polynomial Regression is not a very good model in this situation. It is too sensitive to the outliers. However, we can still see a trend that the prices increase as the number of bedrooms increase.\n",
        "- As we can see based on the polynomial regression results below, the error is very large meaning that the model performance is not very good:\n",
        "    - Mean Absolute Error: 5778769.594145228\n",
        "    - Mean Squared Error: 66843897434595.47\n",
        "    - Root Mean Squared Error: 8175811.729400052\n",
        "- KNN: the testing dataset accuracy score is 0.02. The training datset accuracy score is between 0.08 to 0.14.\n",
        "- The KNN model is also not performing well because some price is much higher as compared with same number of bedrooms."
      ]
    }
  ]
}