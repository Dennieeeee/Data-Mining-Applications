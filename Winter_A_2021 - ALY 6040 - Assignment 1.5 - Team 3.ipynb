{
 "cells": [
  {
   "cell_type": "code",
   "execution_count": 1,
   "metadata": {
    "id": "qhyq7Nq9Ggng"
   },
   "outputs": [
    {
     "name": "stderr",
     "output_type": "stream",
     "text": [
      "/opt/anaconda3/lib/python3.7/site-packages/statsmodels/tools/_testing.py:19: FutureWarning: pandas.util.testing is deprecated. Use the functions in the public API at pandas.testing instead.\n",
      "  import pandas.util.testing as tm\n"
     ]
    }
   ],
   "source": [
    "import requests\n",
    "from bs4 import BeautifulSoup\n",
    "import pandas as pd\n",
    "import seaborn as sns\n",
    "import matplotlib.pyplot as plt\n",
    "from sklearn.linear_model import LinearRegression\n",
    "from sklearn.model_selection import train_test_split as holdout\n",
    "from sklearn.preprocessing import PolynomialFeatures\n",
    "from sklearn import metrics\n",
    "import numpy as np"
   ]
  },
  {
   "cell_type": "markdown",
   "metadata": {},
   "source": [
    "# Web Scraping using BeautifulSoup"
   ]
  },
  {
   "cell_type": "code",
   "execution_count": 2,
   "metadata": {
    "id": "jQQUbOiYgft7"
   },
   "outputs": [],
   "source": [
    "header = {\n",
    "    \"User-Agent\": \"Mozilla/5.0 (Macintosh; Intel Mac OS X 10_15_7) AppleWebKit/537.36 (KHTML, like Gecko) Chrome/87.0.4280.88 Safari/537.36\",\n",
    "    \"Accept-Language\": \"en-US,en;q=0.9\"\n",
    "}"
   ]
  },
  {
   "cell_type": "code",
   "execution_count": 3,
   "metadata": {
    "colab": {
     "base_uri": "https://localhost:8080/"
    },
    "id": "G8JLpF4BGlix",
    "outputId": "83662968-81f2-42b5-f1cf-ddcb9cbae457"
   },
   "outputs": [
    {
     "name": "stdout",
     "output_type": "stream",
     "text": [
      "https://www.zillow.com/beverly-hills-ca-90210/4_p/\n"
     ]
    }
   ],
   "source": [
    "links=[]\n",
    "para=['1_p','2_p', '3_p', '4_p', '5_p', '6_p','7_p']\n",
    "url='https://www.zillow.com/beverly-hills-ca-90210/{}/'\n",
    "for p in para:\n",
    "  new_link=url.format(p)\n",
    "  links.append(new_link)\n",
    "print(links[3])"
   ]
  },
  {
   "cell_type": "code",
   "execution_count": 4,
   "metadata": {
    "colab": {
     "base_uri": "https://localhost:8080/"
    },
    "id": "WyQPRNS7RipN",
    "outputId": "ed98d1cf-dc09-4188-8321-000cfadf05ef"
   },
   "outputs": [],
   "source": [
    "price = []\n",
    "house_info = []\n",
    "address = []\n",
    "for url in links:\n",
    "  response = requests.get(url, headers=header)\n",
    "  data = response.text\n",
    "  \n",
    "\n",
    "  soup = BeautifulSoup(data, 'html.parser')\n",
    "  amount = list(soup.find_all('div', class_='list-card-price'))\n",
    "  for i in amount:\n",
    "      price.append(i.text)\n",
    "\n",
    "  #response = requests.get(i, headers=header)\n",
    "  #data = response.text\n",
    "  #soup = BeautifulSoup(data, 'html.parser')\n",
    "  beds = list(soup.find_all('ul',class_='list-card-details'))\n",
    "  for i in beds:\n",
    "      house_info.append(i.text)\n",
    "\n",
    "  #response = requests.get(i, headers=header)\n",
    "  #data = response.text\n",
    "  #soup = BeautifulSoup(data, 'html.parser')\n",
    "  x = list(soup.find_all('address',class_='list-card-addr'))\n",
    "  for i in x:\n",
    "      address.append(i.text)\n"
   ]
  },
  {
   "cell_type": "code",
   "execution_count": 5,
   "metadata": {},
   "outputs": [
    {
     "name": "stdout",
     "output_type": "stream",
     "text": [
      "(252, 3)\n"
     ]
    }
   ],
   "source": [
    "house_data = []\n",
    "house_data.append(price)\n",
    "house_data.append(house_info)\n",
    "house_data.append(address)\n",
    "dict = {'price':house_data[0], 'house_info':house_data[1], 'address':house_data[2]}\n",
    "data = pd.DataFrame(dict)\n",
    "print(data.shape)"
   ]
  },
  {
   "cell_type": "code",
   "execution_count": 6,
   "metadata": {
    "id": "7ytPllD-tZbH"
   },
   "outputs": [],
   "source": [
    "df = data.copy()"
   ]
  },
  {
   "cell_type": "code",
   "execution_count": 7,
   "metadata": {
    "colab": {
     "base_uri": "https://localhost:8080/"
    },
    "id": "HENERq9TkNr7",
    "outputId": "0f8af753-17c8-479a-8bc4-9336431186fa"
   },
   "outputs": [
    {
     "name": "stdout",
     "output_type": "stream",
     "text": [
      "<class 'pandas.core.frame.DataFrame'>\n",
      "RangeIndex: 252 entries, 0 to 251\n",
      "Data columns (total 3 columns):\n",
      " #   Column      Non-Null Count  Dtype \n",
      "---  ------      --------------  ----- \n",
      " 0   price       252 non-null    object\n",
      " 1   house_info  252 non-null    object\n",
      " 2   address     252 non-null    object\n",
      "dtypes: object(3)\n",
      "memory usage: 6.0+ KB\n"
     ]
    }
   ],
   "source": [
    "df.info()"
   ]
  },
  {
   "cell_type": "markdown",
   "metadata": {},
   "source": [
    "# Cleaning Data"
   ]
  },
  {
   "cell_type": "code",
   "execution_count": 8,
   "metadata": {
    "id": "6vV2px0WsO2O"
   },
   "outputs": [],
   "source": [
    "df['prices'] = df['price'].apply(lambda x: x[1:])"
   ]
  },
  {
   "cell_type": "code",
   "execution_count": 9,
   "metadata": {
    "id": "4xI2Jy4hJgxk"
   },
   "outputs": [],
   "source": [
    "df[['beds','baths','sq_feet','sqft_unit','type','for','sale','None']] = df['house_info'].str.split(expand=True)"
   ]
  },
  {
   "cell_type": "code",
   "execution_count": 10,
   "metadata": {
    "colab": {
     "base_uri": "https://localhost:8080/",
     "height": 114
    },
    "id": "rzyKK8fQJihs",
    "outputId": "153790d5-30ba-41f3-dd0f-4d1992819555"
   },
   "outputs": [
    {
     "data": {
      "text/html": [
       "<div>\n",
       "<style scoped>\n",
       "    .dataframe tbody tr th:only-of-type {\n",
       "        vertical-align: middle;\n",
       "    }\n",
       "\n",
       "    .dataframe tbody tr th {\n",
       "        vertical-align: top;\n",
       "    }\n",
       "\n",
       "    .dataframe thead th {\n",
       "        text-align: right;\n",
       "    }\n",
       "</style>\n",
       "<table border=\"1\" class=\"dataframe\">\n",
       "  <thead>\n",
       "    <tr style=\"text-align: right;\">\n",
       "      <th></th>\n",
       "      <th>price</th>\n",
       "      <th>house_info</th>\n",
       "      <th>address</th>\n",
       "      <th>prices</th>\n",
       "      <th>beds</th>\n",
       "      <th>baths</th>\n",
       "      <th>sq_feet</th>\n",
       "      <th>sqft_unit</th>\n",
       "      <th>type</th>\n",
       "      <th>for</th>\n",
       "      <th>sale</th>\n",
       "      <th>None</th>\n",
       "    </tr>\n",
       "  </thead>\n",
       "  <tbody>\n",
       "    <tr>\n",
       "      <th>0</th>\n",
       "      <td>$46,500,000</td>\n",
       "      <td>6 bds,9 ba,21,046 sqft- House for sale</td>\n",
       "      <td>1426 Summitridge Dr, Beverly Hills, CA 90210</td>\n",
       "      <td>46,500,000</td>\n",
       "      <td>6</td>\n",
       "      <td>bds,9</td>\n",
       "      <td>ba,21,046</td>\n",
       "      <td>sqft-</td>\n",
       "      <td>House</td>\n",
       "      <td>for</td>\n",
       "      <td>sale</td>\n",
       "      <td>None</td>\n",
       "    </tr>\n",
       "  </tbody>\n",
       "</table>\n",
       "</div>"
      ],
      "text/plain": [
       "         price                              house_info  \\\n",
       "0  $46,500,000  6 bds,9 ba,21,046 sqft- House for sale   \n",
       "\n",
       "                                        address      prices beds  baths  \\\n",
       "0  1426 Summitridge Dr, Beverly Hills, CA 90210  46,500,000    6  bds,9   \n",
       "\n",
       "     sq_feet sqft_unit   type  for  sale  None  \n",
       "0  ba,21,046     sqft-  House  for  sale  None  "
      ]
     },
     "execution_count": 10,
     "metadata": {},
     "output_type": "execute_result"
    }
   ],
   "source": [
    "df.head(1)"
   ]
  },
  {
   "cell_type": "code",
   "execution_count": 11,
   "metadata": {
    "id": "UqqKgn7G6ToS"
   },
   "outputs": [],
   "source": [
    "df[['redundant','baths']] = df['baths'].str.split(',',n=1,expand=True)"
   ]
  },
  {
   "cell_type": "code",
   "execution_count": 12,
   "metadata": {
    "id": "YCJGiejk7tq3"
   },
   "outputs": [],
   "source": [
    "df['sq_feet']=df['sq_feet'].replace('ba,','',regex=True)"
   ]
  },
  {
   "cell_type": "code",
   "execution_count": 13,
   "metadata": {
    "id": "YyHzS3NXZTPm"
   },
   "outputs": [],
   "source": [
    "df[['street_name','city','state_zip_code']]=df['address'].str.split(',',n=2, expand=True)"
   ]
  },
  {
   "cell_type": "code",
   "execution_count": 14,
   "metadata": {
    "colab": {
     "base_uri": "https://localhost:8080/",
     "height": 202
    },
    "id": "kR2nEsqx84uC",
    "outputId": "30a7a0d3-f33b-455e-e9bc-de19695ad78b"
   },
   "outputs": [
    {
     "data": {
      "text/html": [
       "<div>\n",
       "<style scoped>\n",
       "    .dataframe tbody tr th:only-of-type {\n",
       "        vertical-align: middle;\n",
       "    }\n",
       "\n",
       "    .dataframe tbody tr th {\n",
       "        vertical-align: top;\n",
       "    }\n",
       "\n",
       "    .dataframe thead th {\n",
       "        text-align: right;\n",
       "    }\n",
       "</style>\n",
       "<table border=\"1\" class=\"dataframe\">\n",
       "  <thead>\n",
       "    <tr style=\"text-align: right;\">\n",
       "      <th></th>\n",
       "      <th>price</th>\n",
       "      <th>house_info</th>\n",
       "      <th>address</th>\n",
       "      <th>prices</th>\n",
       "      <th>beds</th>\n",
       "      <th>baths</th>\n",
       "      <th>sq_feet</th>\n",
       "      <th>sqft_unit</th>\n",
       "      <th>type</th>\n",
       "      <th>for</th>\n",
       "      <th>sale</th>\n",
       "      <th>None</th>\n",
       "      <th>redundant</th>\n",
       "      <th>street_name</th>\n",
       "      <th>city</th>\n",
       "      <th>state_zip_code</th>\n",
       "    </tr>\n",
       "  </thead>\n",
       "  <tbody>\n",
       "    <tr>\n",
       "      <th>0</th>\n",
       "      <td>$46,500,000</td>\n",
       "      <td>6 bds,9 ba,21,046 sqft- House for sale</td>\n",
       "      <td>1426 Summitridge Dr, Beverly Hills, CA 90210</td>\n",
       "      <td>46,500,000</td>\n",
       "      <td>6</td>\n",
       "      <td>9</td>\n",
       "      <td>21,046</td>\n",
       "      <td>sqft-</td>\n",
       "      <td>House</td>\n",
       "      <td>for</td>\n",
       "      <td>sale</td>\n",
       "      <td>None</td>\n",
       "      <td>bds</td>\n",
       "      <td>1426 Summitridge Dr</td>\n",
       "      <td>Beverly Hills</td>\n",
       "      <td>CA 90210</td>\n",
       "    </tr>\n",
       "  </tbody>\n",
       "</table>\n",
       "</div>"
      ],
      "text/plain": [
       "         price                              house_info  \\\n",
       "0  $46,500,000  6 bds,9 ba,21,046 sqft- House for sale   \n",
       "\n",
       "                                        address      prices beds baths  \\\n",
       "0  1426 Summitridge Dr, Beverly Hills, CA 90210  46,500,000    6     9   \n",
       "\n",
       "  sq_feet sqft_unit   type  for  sale  None redundant          street_name  \\\n",
       "0  21,046     sqft-  House  for  sale  None       bds  1426 Summitridge Dr   \n",
       "\n",
       "             city state_zip_code  \n",
       "0   Beverly Hills       CA 90210  "
      ]
     },
     "execution_count": 14,
     "metadata": {},
     "output_type": "execute_result"
    }
   ],
   "source": [
    "df.head(1)"
   ]
  },
  {
   "cell_type": "code",
   "execution_count": 15,
   "metadata": {
    "id": "zaXLhCHy362u"
   },
   "outputs": [],
   "source": [
    "#drop unnecessary columns\n",
    "feature_drop = ['price','house_info','for', 'sale','redundant','sqft_unit','None']\n",
    "df1 = df.drop(feature_drop, axis=1)"
   ]
  },
  {
   "cell_type": "code",
   "execution_count": 16,
   "metadata": {
    "colab": {
     "base_uri": "https://localhost:8080/",
     "height": 289
    },
    "id": "Dr5t5NEcRipT",
    "outputId": "6cb387c9-348b-4615-b36a-20679821731d"
   },
   "outputs": [
    {
     "data": {
      "text/html": [
       "<div>\n",
       "<style scoped>\n",
       "    .dataframe tbody tr th:only-of-type {\n",
       "        vertical-align: middle;\n",
       "    }\n",
       "\n",
       "    .dataframe tbody tr th {\n",
       "        vertical-align: top;\n",
       "    }\n",
       "\n",
       "    .dataframe thead th {\n",
       "        text-align: right;\n",
       "    }\n",
       "</style>\n",
       "<table border=\"1\" class=\"dataframe\">\n",
       "  <thead>\n",
       "    <tr style=\"text-align: right;\">\n",
       "      <th></th>\n",
       "      <th>address</th>\n",
       "      <th>prices</th>\n",
       "      <th>beds</th>\n",
       "      <th>baths</th>\n",
       "      <th>sq_feet</th>\n",
       "      <th>type</th>\n",
       "      <th>street_name</th>\n",
       "      <th>city</th>\n",
       "      <th>state_zip_code</th>\n",
       "    </tr>\n",
       "  </thead>\n",
       "  <tbody>\n",
       "    <tr>\n",
       "      <th>0</th>\n",
       "      <td>1426 Summitridge Dr, Beverly Hills, CA 90210</td>\n",
       "      <td>46,500,000</td>\n",
       "      <td>6</td>\n",
       "      <td>9</td>\n",
       "      <td>21,046</td>\n",
       "      <td>House</td>\n",
       "      <td>1426 Summitridge Dr</td>\n",
       "      <td>Beverly Hills</td>\n",
       "      <td>CA 90210</td>\n",
       "    </tr>\n",
       "    <tr>\n",
       "      <th>1</th>\n",
       "      <td>2571 Wallingford Dr, Beverly Hills, CA 90210</td>\n",
       "      <td>85,000,000</td>\n",
       "      <td>12</td>\n",
       "      <td>24</td>\n",
       "      <td>38,000</td>\n",
       "      <td>House</td>\n",
       "      <td>2571 Wallingford Dr</td>\n",
       "      <td>Beverly Hills</td>\n",
       "      <td>CA 90210</td>\n",
       "    </tr>\n",
       "    <tr>\n",
       "      <th>2</th>\n",
       "      <td>67 Beverly Park Ct, Beverly Hills, CA 90210</td>\n",
       "      <td>160,000,000</td>\n",
       "      <td>13</td>\n",
       "      <td>25</td>\n",
       "      <td>28,660</td>\n",
       "      <td>House</td>\n",
       "      <td>67 Beverly Park Ct</td>\n",
       "      <td>Beverly Hills</td>\n",
       "      <td>CA 90210</td>\n",
       "    </tr>\n",
       "    <tr>\n",
       "      <th>3</th>\n",
       "      <td>1130 Carolyn Way, Beverly Hills, CA 90210</td>\n",
       "      <td>24,500,000</td>\n",
       "      <td>6</td>\n",
       "      <td>13</td>\n",
       "      <td>12,127</td>\n",
       "      <td>House</td>\n",
       "      <td>1130 Carolyn Way</td>\n",
       "      <td>Beverly Hills</td>\n",
       "      <td>CA 90210</td>\n",
       "    </tr>\n",
       "    <tr>\n",
       "      <th>4</th>\n",
       "      <td>9833 Easton Dr, Beverly Hills, CA 90210</td>\n",
       "      <td>1,495,000</td>\n",
       "      <td>3</td>\n",
       "      <td>3</td>\n",
       "      <td>1,500</td>\n",
       "      <td>House</td>\n",
       "      <td>9833 Easton Dr</td>\n",
       "      <td>Beverly Hills</td>\n",
       "      <td>CA 90210</td>\n",
       "    </tr>\n",
       "  </tbody>\n",
       "</table>\n",
       "</div>"
      ],
      "text/plain": [
       "                                        address       prices beds baths  \\\n",
       "0  1426 Summitridge Dr, Beverly Hills, CA 90210   46,500,000    6     9   \n",
       "1  2571 Wallingford Dr, Beverly Hills, CA 90210   85,000,000   12    24   \n",
       "2   67 Beverly Park Ct, Beverly Hills, CA 90210  160,000,000   13    25   \n",
       "3     1130 Carolyn Way, Beverly Hills, CA 90210   24,500,000    6    13   \n",
       "4       9833 Easton Dr, Beverly Hills, CA 90210    1,495,000    3     3   \n",
       "\n",
       "  sq_feet   type          street_name            city state_zip_code  \n",
       "0  21,046  House  1426 Summitridge Dr   Beverly Hills       CA 90210  \n",
       "1  38,000  House  2571 Wallingford Dr   Beverly Hills       CA 90210  \n",
       "2  28,660  House   67 Beverly Park Ct   Beverly Hills       CA 90210  \n",
       "3  12,127  House     1130 Carolyn Way   Beverly Hills       CA 90210  \n",
       "4   1,500  House       9833 Easton Dr   Beverly Hills       CA 90210  "
      ]
     },
     "execution_count": 16,
     "metadata": {},
     "output_type": "execute_result"
    }
   ],
   "source": [
    "df1.head()"
   ]
  },
  {
   "cell_type": "code",
   "execution_count": 17,
   "metadata": {
    "id": "x4tqN_w2Z9pg"
   },
   "outputs": [],
   "source": [
    "#beakup state_zip_code into state and zip code\n",
    "df1['zip_code'] = df1['state_zip_code'].replace('CA ','', regex=True)"
   ]
  },
  {
   "cell_type": "code",
   "execution_count": 18,
   "metadata": {
    "id": "LA8HGcpvsazl"
   },
   "outputs": [],
   "source": [
    "#reorder columns\n",
    "zillow_df = df1[['prices','beds','baths','sq_feet','type','address','street_name',\n",
    "       'city', 'zip_code']]"
   ]
  },
  {
   "cell_type": "code",
   "execution_count": 19,
   "metadata": {},
   "outputs": [
    {
     "name": "stderr",
     "output_type": "stream",
     "text": [
      "/opt/anaconda3/lib/python3.7/site-packages/ipykernel_launcher.py:2: SettingWithCopyWarning: \n",
      "A value is trying to be set on a copy of a slice from a DataFrame.\n",
      "Try using .loc[row_indexer,col_indexer] = value instead\n",
      "\n",
      "See the caveats in the documentation: https://pandas.pydata.org/pandas-docs/stable/user_guide/indexing.html#returning-a-view-versus-a-copy\n",
      "  \n"
     ]
    }
   ],
   "source": [
    "#pd.to_numeric(zillow_df['baths'])\n",
    "zillow_df['prices'] = zillow_df['prices'].str.replace(',','').astype(float)"
   ]
  },
  {
   "cell_type": "code",
   "execution_count": 21,
   "metadata": {},
   "outputs": [
    {
     "name": "stderr",
     "output_type": "stream",
     "text": [
      "/opt/anaconda3/lib/python3.7/site-packages/ipykernel_launcher.py:1: SettingWithCopyWarning: \n",
      "A value is trying to be set on a copy of a slice from a DataFrame.\n",
      "Try using .loc[row_indexer,col_indexer] = value instead\n",
      "\n",
      "See the caveats in the documentation: https://pandas.pydata.org/pandas-docs/stable/user_guide/indexing.html#returning-a-view-versus-a-copy\n",
      "  \"\"\"Entry point for launching an IPython kernel.\n",
      "/opt/anaconda3/lib/python3.7/site-packages/ipykernel_launcher.py:2: SettingWithCopyWarning: \n",
      "A value is trying to be set on a copy of a slice from a DataFrame.\n",
      "Try using .loc[row_indexer,col_indexer] = value instead\n",
      "\n",
      "See the caveats in the documentation: https://pandas.pydata.org/pandas-docs/stable/user_guide/indexing.html#returning-a-view-versus-a-copy\n",
      "  \n",
      "/opt/anaconda3/lib/python3.7/site-packages/ipykernel_launcher.py:3: SettingWithCopyWarning: \n",
      "A value is trying to be set on a copy of a slice from a DataFrame.\n",
      "Try using .loc[row_indexer,col_indexer] = value instead\n",
      "\n",
      "See the caveats in the documentation: https://pandas.pydata.org/pandas-docs/stable/user_guide/indexing.html#returning-a-view-versus-a-copy\n",
      "  This is separate from the ipykernel package so we can avoid doing imports until\n"
     ]
    }
   ],
   "source": [
    "zillow_df['beds']=zillow_df['beds'].replace('Studio,--', None)\n",
    "zillow_df['beds']=zillow_df['beds'].replace('--', None)\n",
    "zillow_df['beds']=zillow_df['beds'].str.replace(',', '').astype(float)"
   ]
  },
  {
   "cell_type": "code",
   "execution_count": 23,
   "metadata": {},
   "outputs": [
    {
     "name": "stderr",
     "output_type": "stream",
     "text": [
      "/opt/anaconda3/lib/python3.7/site-packages/ipykernel_launcher.py:1: SettingWithCopyWarning: \n",
      "A value is trying to be set on a copy of a slice from a DataFrame.\n",
      "Try using .loc[row_indexer,col_indexer] = value instead\n",
      "\n",
      "See the caveats in the documentation: https://pandas.pydata.org/pandas-docs/stable/user_guide/indexing.html#returning-a-view-versus-a-copy\n",
      "  \"\"\"Entry point for launching an IPython kernel.\n",
      "/opt/anaconda3/lib/python3.7/site-packages/ipykernel_launcher.py:2: SettingWithCopyWarning: \n",
      "A value is trying to be set on a copy of a slice from a DataFrame.\n",
      "Try using .loc[row_indexer,col_indexer] = value instead\n",
      "\n",
      "See the caveats in the documentation: https://pandas.pydata.org/pandas-docs/stable/user_guide/indexing.html#returning-a-view-versus-a-copy\n",
      "  \n"
     ]
    }
   ],
   "source": [
    "zillow_df['baths'] = zillow_df['baths'].replace('--', None)\n",
    "zillow_df['baths'] = zillow_df['baths'].str.replace(',','').astype(float)\n"
   ]
  },
  {
   "cell_type": "code",
   "execution_count": 25,
   "metadata": {},
   "outputs": [
    {
     "name": "stderr",
     "output_type": "stream",
     "text": [
      "/opt/anaconda3/lib/python3.7/site-packages/ipykernel_launcher.py:1: SettingWithCopyWarning: \n",
      "A value is trying to be set on a copy of a slice from a DataFrame.\n",
      "Try using .loc[row_indexer,col_indexer] = value instead\n",
      "\n",
      "See the caveats in the documentation: https://pandas.pydata.org/pandas-docs/stable/user_guide/indexing.html#returning-a-view-versus-a-copy\n",
      "  \"\"\"Entry point for launching an IPython kernel.\n",
      "/opt/anaconda3/lib/python3.7/site-packages/ipykernel_launcher.py:2: SettingWithCopyWarning: \n",
      "A value is trying to be set on a copy of a slice from a DataFrame.\n",
      "Try using .loc[row_indexer,col_indexer] = value instead\n",
      "\n",
      "See the caveats in the documentation: https://pandas.pydata.org/pandas-docs/stable/user_guide/indexing.html#returning-a-view-versus-a-copy\n",
      "  \n",
      "/opt/anaconda3/lib/python3.7/site-packages/ipykernel_launcher.py:3: SettingWithCopyWarning: \n",
      "A value is trying to be set on a copy of a slice from a DataFrame.\n",
      "Try using .loc[row_indexer,col_indexer] = value instead\n",
      "\n",
      "See the caveats in the documentation: https://pandas.pydata.org/pandas-docs/stable/user_guide/indexing.html#returning-a-view-versus-a-copy\n",
      "  This is separate from the ipykernel package so we can avoid doing imports until\n",
      "/opt/anaconda3/lib/python3.7/site-packages/ipykernel_launcher.py:4: SettingWithCopyWarning: \n",
      "A value is trying to be set on a copy of a slice from a DataFrame.\n",
      "Try using .loc[row_indexer,col_indexer] = value instead\n",
      "\n",
      "See the caveats in the documentation: https://pandas.pydata.org/pandas-docs/stable/user_guide/indexing.html#returning-a-view-versus-a-copy\n",
      "  after removing the cwd from sys.path.\n"
     ]
    }
   ],
   "source": [
    "\n",
    "zillow_df['sq_feet'] = zillow_df['sq_feet'].replace('--', None)\n",
    "zillow_df['sq_feet'] = zillow_df['sq_feet'].replace('lot-', None)\n",
    "zillow_df['sq_feet'] = zillow_df['sq_feet'].replace('sqft-', None)\n",
    "zillow_df['sq_feet'] = zillow_df['sq_feet'].str.replace(',','').astype(float)"
   ]
  },
  {
   "cell_type": "markdown",
   "metadata": {
    "id": "uNe06qT-qt1Y"
   },
   "source": [
    "# Final Dataset - zillow_df\n",
    "Now we are going to do Data Visualization and Model Development using the zillow_df dataset."
   ]
  },
  {
   "cell_type": "code",
   "execution_count": 26,
   "metadata": {
    "colab": {
     "base_uri": "https://localhost:8080/",
     "height": 289
    },
    "id": "2lLjGR6U8pL5",
    "outputId": "d41c8bfc-d798-4292-d7ec-062f366fdb00"
   },
   "outputs": [
    {
     "data": {
      "text/html": [
       "<div>\n",
       "<style scoped>\n",
       "    .dataframe tbody tr th:only-of-type {\n",
       "        vertical-align: middle;\n",
       "    }\n",
       "\n",
       "    .dataframe tbody tr th {\n",
       "        vertical-align: top;\n",
       "    }\n",
       "\n",
       "    .dataframe thead th {\n",
       "        text-align: right;\n",
       "    }\n",
       "</style>\n",
       "<table border=\"1\" class=\"dataframe\">\n",
       "  <thead>\n",
       "    <tr style=\"text-align: right;\">\n",
       "      <th></th>\n",
       "      <th>prices</th>\n",
       "      <th>beds</th>\n",
       "      <th>baths</th>\n",
       "      <th>sq_feet</th>\n",
       "      <th>type</th>\n",
       "      <th>address</th>\n",
       "      <th>street_name</th>\n",
       "      <th>city</th>\n",
       "      <th>zip_code</th>\n",
       "    </tr>\n",
       "  </thead>\n",
       "  <tbody>\n",
       "    <tr>\n",
       "      <th>0</th>\n",
       "      <td>46500000.0</td>\n",
       "      <td>6.0</td>\n",
       "      <td>9.0</td>\n",
       "      <td>21046.0</td>\n",
       "      <td>House</td>\n",
       "      <td>1426 Summitridge Dr, Beverly Hills, CA 90210</td>\n",
       "      <td>1426 Summitridge Dr</td>\n",
       "      <td>Beverly Hills</td>\n",
       "      <td>90210</td>\n",
       "    </tr>\n",
       "    <tr>\n",
       "      <th>1</th>\n",
       "      <td>85000000.0</td>\n",
       "      <td>12.0</td>\n",
       "      <td>24.0</td>\n",
       "      <td>38000.0</td>\n",
       "      <td>House</td>\n",
       "      <td>2571 Wallingford Dr, Beverly Hills, CA 90210</td>\n",
       "      <td>2571 Wallingford Dr</td>\n",
       "      <td>Beverly Hills</td>\n",
       "      <td>90210</td>\n",
       "    </tr>\n",
       "    <tr>\n",
       "      <th>2</th>\n",
       "      <td>160000000.0</td>\n",
       "      <td>13.0</td>\n",
       "      <td>25.0</td>\n",
       "      <td>28660.0</td>\n",
       "      <td>House</td>\n",
       "      <td>67 Beverly Park Ct, Beverly Hills, CA 90210</td>\n",
       "      <td>67 Beverly Park Ct</td>\n",
       "      <td>Beverly Hills</td>\n",
       "      <td>90210</td>\n",
       "    </tr>\n",
       "    <tr>\n",
       "      <th>3</th>\n",
       "      <td>24500000.0</td>\n",
       "      <td>6.0</td>\n",
       "      <td>13.0</td>\n",
       "      <td>12127.0</td>\n",
       "      <td>House</td>\n",
       "      <td>1130 Carolyn Way, Beverly Hills, CA 90210</td>\n",
       "      <td>1130 Carolyn Way</td>\n",
       "      <td>Beverly Hills</td>\n",
       "      <td>90210</td>\n",
       "    </tr>\n",
       "    <tr>\n",
       "      <th>4</th>\n",
       "      <td>1495000.0</td>\n",
       "      <td>3.0</td>\n",
       "      <td>3.0</td>\n",
       "      <td>1500.0</td>\n",
       "      <td>House</td>\n",
       "      <td>9833 Easton Dr, Beverly Hills, CA 90210</td>\n",
       "      <td>9833 Easton Dr</td>\n",
       "      <td>Beverly Hills</td>\n",
       "      <td>90210</td>\n",
       "    </tr>\n",
       "  </tbody>\n",
       "</table>\n",
       "</div>"
      ],
      "text/plain": [
       "        prices  beds  baths  sq_feet   type  \\\n",
       "0   46500000.0   6.0    9.0  21046.0  House   \n",
       "1   85000000.0  12.0   24.0  38000.0  House   \n",
       "2  160000000.0  13.0   25.0  28660.0  House   \n",
       "3   24500000.0   6.0   13.0  12127.0  House   \n",
       "4    1495000.0   3.0    3.0   1500.0  House   \n",
       "\n",
       "                                        address          street_name  \\\n",
       "0  1426 Summitridge Dr, Beverly Hills, CA 90210  1426 Summitridge Dr   \n",
       "1  2571 Wallingford Dr, Beverly Hills, CA 90210  2571 Wallingford Dr   \n",
       "2   67 Beverly Park Ct, Beverly Hills, CA 90210   67 Beverly Park Ct   \n",
       "3     1130 Carolyn Way, Beverly Hills, CA 90210     1130 Carolyn Way   \n",
       "4       9833 Easton Dr, Beverly Hills, CA 90210       9833 Easton Dr   \n",
       "\n",
       "             city zip_code  \n",
       "0   Beverly Hills    90210  \n",
       "1   Beverly Hills    90210  \n",
       "2   Beverly Hills    90210  \n",
       "3   Beverly Hills    90210  \n",
       "4   Beverly Hills    90210  "
      ]
     },
     "execution_count": 26,
     "metadata": {},
     "output_type": "execute_result"
    }
   ],
   "source": [
    "zillow_df.head()"
   ]
  },
  {
   "cell_type": "code",
   "execution_count": 27,
   "metadata": {
    "colab": {
     "base_uri": "https://localhost:8080/"
    },
    "id": "YPfuwl_-dmD3",
    "outputId": "454d3fca-f13e-48ee-a483-3d9972772e6a"
   },
   "outputs": [
    {
     "data": {
      "text/plain": [
       "(252, 9)"
      ]
     },
     "execution_count": 27,
     "metadata": {},
     "output_type": "execute_result"
    }
   ],
   "source": [
    "zillow_df.shape"
   ]
  },
  {
   "cell_type": "code",
   "execution_count": 28,
   "metadata": {},
   "outputs": [
    {
     "name": "stdout",
     "output_type": "stream",
     "text": [
      "<class 'pandas.core.frame.DataFrame'>\n",
      "RangeIndex: 252 entries, 0 to 251\n",
      "Data columns (total 9 columns):\n",
      " #   Column       Non-Null Count  Dtype  \n",
      "---  ------       --------------  -----  \n",
      " 0   prices       252 non-null    float64\n",
      " 1   beds         252 non-null    float64\n",
      " 2   baths        232 non-null    float64\n",
      " 3   sq_feet      252 non-null    float64\n",
      " 4   type         252 non-null    object \n",
      " 5   address      252 non-null    object \n",
      " 6   street_name  252 non-null    object \n",
      " 7   city         252 non-null    object \n",
      " 8   zip_code     252 non-null    object \n",
      "dtypes: float64(4), object(5)\n",
      "memory usage: 17.8+ KB\n"
     ]
    }
   ],
   "source": [
    "zillow_df.info()"
   ]
  },
  {
   "cell_type": "code",
   "execution_count": 29,
   "metadata": {},
   "outputs": [
    {
     "data": {
      "text/html": [
       "<div>\n",
       "<style scoped>\n",
       "    .dataframe tbody tr th:only-of-type {\n",
       "        vertical-align: middle;\n",
       "    }\n",
       "\n",
       "    .dataframe tbody tr th {\n",
       "        vertical-align: top;\n",
       "    }\n",
       "\n",
       "    .dataframe thead th {\n",
       "        text-align: right;\n",
       "    }\n",
       "</style>\n",
       "<table border=\"1\" class=\"dataframe\">\n",
       "  <thead>\n",
       "    <tr style=\"text-align: right;\">\n",
       "      <th></th>\n",
       "      <th>prices</th>\n",
       "      <th>beds</th>\n",
       "      <th>baths</th>\n",
       "      <th>sq_feet</th>\n",
       "    </tr>\n",
       "  </thead>\n",
       "  <tbody>\n",
       "    <tr>\n",
       "      <th>count</th>\n",
       "      <td>2.520000e+02</td>\n",
       "      <td>252.000000</td>\n",
       "      <td>232.000000</td>\n",
       "      <td>252.000000</td>\n",
       "    </tr>\n",
       "    <tr>\n",
       "      <th>mean</th>\n",
       "      <td>1.316889e+07</td>\n",
       "      <td>35.832183</td>\n",
       "      <td>79.788793</td>\n",
       "      <td>6284.019841</td>\n",
       "    </tr>\n",
       "    <tr>\n",
       "      <th>std</th>\n",
       "      <td>1.905970e+07</td>\n",
       "      <td>480.028734</td>\n",
       "      <td>1115.681421</td>\n",
       "      <td>4846.215277</td>\n",
       "    </tr>\n",
       "    <tr>\n",
       "      <th>min</th>\n",
       "      <td>3.990000e+05</td>\n",
       "      <td>0.280000</td>\n",
       "      <td>2.000000</td>\n",
       "      <td>1016.000000</td>\n",
       "    </tr>\n",
       "    <tr>\n",
       "      <th>25%</th>\n",
       "      <td>3.498000e+06</td>\n",
       "      <td>3.000000</td>\n",
       "      <td>4.000000</td>\n",
       "      <td>2984.500000</td>\n",
       "    </tr>\n",
       "    <tr>\n",
       "      <th>50%</th>\n",
       "      <td>6.900000e+06</td>\n",
       "      <td>5.000000</td>\n",
       "      <td>6.000000</td>\n",
       "      <td>5098.500000</td>\n",
       "    </tr>\n",
       "    <tr>\n",
       "      <th>75%</th>\n",
       "      <td>1.606250e+07</td>\n",
       "      <td>6.000000</td>\n",
       "      <td>8.000000</td>\n",
       "      <td>8015.000000</td>\n",
       "    </tr>\n",
       "    <tr>\n",
       "      <th>max</th>\n",
       "      <td>1.600000e+08</td>\n",
       "      <td>7624.000000</td>\n",
       "      <td>17000.000000</td>\n",
       "      <td>38000.000000</td>\n",
       "    </tr>\n",
       "  </tbody>\n",
       "</table>\n",
       "</div>"
      ],
      "text/plain": [
       "             prices         beds         baths       sq_feet\n",
       "count  2.520000e+02   252.000000    232.000000    252.000000\n",
       "mean   1.316889e+07    35.832183     79.788793   6284.019841\n",
       "std    1.905970e+07   480.028734   1115.681421   4846.215277\n",
       "min    3.990000e+05     0.280000      2.000000   1016.000000\n",
       "25%    3.498000e+06     3.000000      4.000000   2984.500000\n",
       "50%    6.900000e+06     5.000000      6.000000   5098.500000\n",
       "75%    1.606250e+07     6.000000      8.000000   8015.000000\n",
       "max    1.600000e+08  7624.000000  17000.000000  38000.000000"
      ]
     },
     "execution_count": 29,
     "metadata": {},
     "output_type": "execute_result"
    }
   ],
   "source": [
    "zillow_df.describe()"
   ]
  },
  {
   "cell_type": "markdown",
   "metadata": {},
   "source": [
    "## Data Visualization and EDA"
   ]
  },
  {
   "cell_type": "code",
   "execution_count": 30,
   "metadata": {},
   "outputs": [
    {
     "data": {
      "text/plain": [
       "Text(0, 0.5, 'Number of Bathrooms')"
      ]
     },
     "execution_count": 30,
     "metadata": {},
     "output_type": "execute_result"
    },
    {
     "data": {
      "image/png": "[encoded data removed]",
      "text/plain": [
       "<Figure size 432x288 with 1 Axes>"
      ]
     },
     "metadata": {
      "needs_background": "light"
     },
     "output_type": "display_data"
    }
   ],
   "source": [
    "zillow_df['baths'].value_counts().plot.barh()\n",
    "plt.title('Distribution of Number of Bathrooms')\n",
    "plt.xlabel('Frequency')\n",
    "plt.ylabel('Number of Bathrooms')"
   ]
  },
  {
   "cell_type": "code",
   "execution_count": 31,
   "metadata": {
    "id": "i-TFJgxYqx8Y"
   },
   "outputs": [
    {
     "data": {
      "text/plain": [
       "Text(0, 0.5, 'Type of Property')"
      ]
     },
     "execution_count": 31,
     "metadata": {},
     "output_type": "execute_result"
    },
    {
     "data": {
      "image/png": "[encoded data removed]",
      "text/plain": [
       "<Figure size 432x288 with 1 Axes>"
      ]
     },
     "metadata": {
      "needs_background": "light"
     },
     "output_type": "display_data"
    }
   ],
   "source": [
    "sns.countplot(zillow_df['type'])\n",
    "plt.title('Distribution of Type of Property')\n",
    "plt.xlabel('Frequency')\n",
    "plt.ylabel('Type of Property')"
   ]
  },
  {
   "cell_type": "code",
   "execution_count": 32,
   "metadata": {},
   "outputs": [
    {
     "data": {
      "text/plain": [
       "Text(0.5, 0, 'Prices (10 Millions)')"
      ]
     },
     "execution_count": 32,
     "metadata": {},
     "output_type": "execute_result"
    },
    {
     "data": {
      "image/png": "[encoded data removed]",
      "text/plain": [
       "<Figure size 432x288 with 1 Axes>"
      ]
     },
     "metadata": {
      "needs_background": "light"
     },
     "output_type": "display_data"
    }
   ],
   "source": [
    "sns.boxplot(zillow_df['prices'])\n",
    "plt.title('Boxplot of Prices')\n",
    "plt.xlabel('Prices (10 Millions)')\n"
   ]
  },
  {
   "cell_type": "code",
   "execution_count": 33,
   "metadata": {},
   "outputs": [
    {
     "data": {
      "text/plain": [
       "Text(0.5, 0, 'Squre Feet')"
      ]
     },
     "execution_count": 33,
     "metadata": {},
     "output_type": "execute_result"
    },
    {
     "data": {
      "image/png": "[encoded data removed]",
      "text/plain": [
       "<Figure size 432x288 with 1 Axes>"
      ]
     },
     "metadata": {
      "needs_background": "light"
     },
     "output_type": "display_data"
    }
   ],
   "source": [
    "sns.boxplot(zillow_df['sq_feet'])\n",
    "plt.title('Boxplot of Square Feet')\n",
    "plt.xlabel('Squre Feet')"
   ]
  },
  {
   "cell_type": "code",
   "execution_count": 34,
   "metadata": {},
   "outputs": [
    {
     "data": {
      "text/plain": [
       "Text(0.5, 0, 'beds')"
      ]
     },
     "execution_count": 34,
     "metadata": {},
     "output_type": "execute_result"
    },
    {
     "data": {
      "image/png": "[encoded data removed]",
      "text/plain": [
       "<Figure size 432x288 with 1 Axes>"
      ]
     },
     "metadata": {
      "needs_background": "light"
     },
     "output_type": "display_data"
    }
   ],
   "source": [
    "sns.boxplot(zillow_df['beds'])\n",
    "plt.title('Boxplot of Beds')\n",
    "plt.xlabel('beds')"
   ]
  },
  {
   "cell_type": "code",
   "execution_count": 35,
   "metadata": {},
   "outputs": [
    {
     "data": {
      "text/plain": [
       "Text(0, 0.5, 'count frequency')"
      ]
     },
     "execution_count": 35,
     "metadata": {},
     "output_type": "execute_result"
    },
    {
     "data": {
      "image/png": "[encoded data removed]",
      "text/plain": [
       "<Figure size 1080x432 with 1 Axes>"
      ]
     },
     "metadata": {
      "needs_background": "light"
     },
     "output_type": "display_data"
    }
   ],
   "source": [
    "plt.figure(figsize=(15,6))\n",
    "sns.countplot(zillow_df['beds'])\n",
    "plt.title('Distribution of Number of Bedrooms')\n",
    "plt.xlabel('Number of Bedrooms')\n",
    "plt.ylabel('count frequency')"
   ]
  },
  {
   "cell_type": "code",
   "execution_count": 36,
   "metadata": {},
   "outputs": [],
   "source": [
    "df=zillow_df.groupby(['type'])['beds'].mean().to_frame().rename(columns={'id':'count'}).reset_index()"
   ]
  },
  {
   "cell_type": "code",
   "execution_count": 37,
   "metadata": {},
   "outputs": [],
   "source": [
    "df = df[df['type'] != '/']"
   ]
  },
  {
   "cell_type": "code",
   "execution_count": 38,
   "metadata": {},
   "outputs": [
    {
     "data": {
      "text/plain": [
       "Text(0.5, 1.0, 'Distribution of Type of Houses in Average')"
      ]
     },
     "execution_count": 38,
     "metadata": {},
     "output_type": "execute_result"
    },
    {
     "data": {
      "image/png": "[encoded data removed]",
      "text/plain": [
       "<Figure size 432x288 with 1 Axes>"
      ]
     },
     "metadata": {
      "needs_background": "light"
     },
     "output_type": "display_data"
    }
   ],
   "source": [
    "sns.barplot('type','beds',data=df)\n",
    "plt.title('Distribution of Type of Houses in Average')\n"
   ]
  },
  {
   "cell_type": "code",
   "execution_count": 39,
   "metadata": {},
   "outputs": [],
   "source": [
    "zillow_df = zillow_df[zillow_df['beds'] < 100]"
   ]
  },
  {
   "cell_type": "code",
   "execution_count": 40,
   "metadata": {},
   "outputs": [
    {
     "data": {
      "image/png": "[encoded data removed]",
      "text/plain": [
       "<Figure size 432x288 with 2 Axes>"
      ]
     },
     "metadata": {
      "needs_background": "light"
     },
     "output_type": "display_data"
    }
   ],
   "source": [
    "sns.heatmap(zillow_df[['prices','beds','baths']].corr(), annot=True, cmap = 'Reds')\n",
    "plt.show()\n"
   ]
  },
  {
   "cell_type": "markdown",
   "metadata": {},
   "source": [
    "## Model Development - Linear Regressions"
   ]
  },
  {
   "cell_type": "code",
   "execution_count": 41,
   "metadata": {},
   "outputs": [
    {
     "data": {
      "image/png": "[encoded data removed]",
      "text/plain": [
       "<Figure size 432x288 with 1 Axes>"
      ]
     },
     "metadata": {
      "needs_background": "light"
     },
     "output_type": "display_data"
    }
   ],
   "source": [
    "x = zillow_df[['beds']]\n",
    "y = zillow_df[['prices']]\n",
    "xTrain, xTest, yTrain, yTest = holdout(x, y, test_size = 0.25, random_state = 0)\n",
    "linearRegressor = LinearRegression()\n",
    "linearRegressor.fit(xTrain, yTrain)\n",
    "yPrediction = linearRegressor.predict(xTest)\n",
    "plt.scatter(xTrain, yTrain, color = 'red')\n",
    "plt.plot(xTrain, linearRegressor.predict(xTrain), color = 'blue')\n",
    "plt.title('Prices vs Number of Beds (Training set)')\n",
    "plt.xlabel('Number of Beds')\n",
    "plt.ylabel('Prices')\n",
    "plt.show()"
   ]
  },
  {
   "cell_type": "code",
   "execution_count": 42,
   "metadata": {},
   "outputs": [
    {
     "data": {
      "image/png": "[encoded data removed]",
      "text/plain": [
       "<Figure size 432x288 with 1 Axes>"
      ]
     },
     "metadata": {
      "needs_background": "light"
     },
     "output_type": "display_data"
    }
   ],
   "source": [
    "plt.scatter(xTest, yTest, color = 'red')\n",
    "plt.plot(xTrain, linearRegressor.predict(xTrain), color = 'blue')\n",
    "plt.title('Prices vs Number of Beds (Test set)')\n",
    "plt.xlabel('Number of Beds')\n",
    "plt.ylabel('Prices')\n",
    "plt.show()"
   ]
  },
  {
   "cell_type": "code",
   "execution_count": 55,
   "metadata": {},
   "outputs": [
    {
     "name": "stdout",
     "output_type": "stream",
     "text": [
      "[1473131.5458037]\n",
      "[[      0.         -355655.49579622  501198.11796678]]\n",
      "-0.377502155276497\n"
     ]
    }
   ],
   "source": [
    "#polynomial regression\n",
    "pol = PolynomialFeatures (degree = 2)\n",
    "x_pol = pol.fit_transform(x)\n",
    "x_train, x_test, y_train, y_test = holdout(x_pol, y, test_size=0.2, random_state=0)\n",
    "Pol_reg = LinearRegression()\n",
    "Pol_reg.fit(x_train, y_train)\n",
    "y_train_pred = Pol_reg.predict(x_train)\n",
    "y_test_pred = Pol_reg.predict(x_test)\n",
    "print(Pol_reg.intercept_)\n",
    "print(Pol_reg.coef_)\n",
    "print(Pol_reg.score(x_test, y_test))"
   ]
  },
  {
   "cell_type": "code",
   "execution_count": 56,
   "metadata": {},
   "outputs": [
    {
     "name": "stdout",
     "output_type": "stream",
     "text": [
      "Mean Absolute Error: 8159924.395739016\n",
      "Mean Squared Error: 145495572119272.44\n",
      "Root Mean Squared Error: 12062154.538857162\n"
     ]
    }
   ],
   "source": [
    "##Evaluating the performance of the algorithm\n",
    "print('Mean Absolute Error:', metrics.mean_absolute_error(y_test, y_test_pred))\n",
    "print('Mean Squared Error:', metrics.mean_squared_error(y_test, y_test_pred))\n",
    "print('Root Mean Squared Error:', np.sqrt(metrics.mean_squared_error(y_test, y_test_pred)))"
   ]
  },
  {
   "cell_type": "markdown",
   "metadata": {},
   "source": [
    "### Insights\n",
    "- Most of properties have number of bathrooms between 2 - 8.\n",
    "- Most of properties are house type, and few of them are condos.\n",
    "- Most of properties have number of bedrooms between 2 - 8. Only a few of properties have more than 9 bedrooms.\n",
    "- The greatest average number of house type is new property. The second highest is house type. The third highest is condo.\n",
    "- The beds and baths features show the strongest correlation in heat map.\n",
    "- The price has a positive relationship with the number of beds. Price increase as the number of beds increase. However, there are some higher prices with the same number of beds.\n"
   ]
  },
  {
   "cell_type": "code",
   "execution_count": null,
   "metadata": {},
   "outputs": [],
   "source": []
  }
 ],
 "metadata": {
  "colab": {
   "collapsed_sections": [],
   "name": "Zillow Web Craping HW1.5(2).ipynb",
   "provenance": []
  },
  "kernelspec": {
   "display_name": "Python 3",
   "language": "python",
   "name": "python3"
  },
  "language_info": {
   "codemirror_mode": {
    "name": "ipython",
    "version": 3
   },
   "file_extension": ".py",
   "mimetype": "text/x-python",
   "name": "python",
   "nbconvert_exporter": "python",
   "pygments_lexer": "ipython3",
   "version": "3.7.4"
  }
 },
 "nbformat": 4,
 "nbformat_minor": 1
}
