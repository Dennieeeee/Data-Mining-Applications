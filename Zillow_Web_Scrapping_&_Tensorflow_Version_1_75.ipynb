{
  "nbformat": 4,
  "nbformat_minor": 0,
  "metadata": {
    "colab": {
      "name": "Zillow Web Scrapping & Tensorflow_Version 1.75.ipynb",
      "provenance": [],
      "collapsed_sections": [],
      "include_colab_link": true
    },
    "kernelspec": {
      "display_name": "Python 3",
      "language": "python",
      "name": "python3"
    },
    "language_info": {
      "codemirror_mode": {
        "name": "ipython",
        "version": 3
      },
      "file_extension": ".py",
      "mimetype": "text/x-python",
      "name": "python",
      "nbconvert_exporter": "python",
      "pygments_lexer": "ipython3",
      "version": "3.7.4"
    }
  },
  "cells": [
    {
      "cell_type": "markdown",
      "metadata": {
        "id": "view-in-github",
        "colab_type": "text"
      },
      "source": [
        "<a href=\"https://colab.research.google.com/github/Dennieeeee/Data-Mining-Applications/blob/main/Zillow_Web_Scrapping_%26_Tensorflow_Version_1_75.ipynb\" target=\"_parent\"><img src=\"https://colab.research.google.com/assets/colab-badge.svg\" alt=\"Open In Colab\"/></a>"
      ]
    },
    {
      "cell_type": "code",
      "metadata": {
        "colab": {
          "base_uri": "https://localhost:8080/"
        },
        "id": "c76uySR3wyIe",
        "outputId": "833c9721-499c-4ba1-bd90-b9e5180fdb93"
      },
      "source": [
        "!pip install htmltext\n",
        "!pip install prettify\n",
        "!pip install selenium\n",
        "!apt-get update # to update ubuntu to correctly run apt install\n",
        "!apt install chromium-chromedriver\n",
        "!sudo apt install libmysqlclient-dev\n",
        "!pip install mysql\n",
        "!pip install mysql-connector-python-rf\n",
        "\n",
        "\n",
        "#!cp /usr/lib/chromium-browser/chromedriver /usr/bin\n",
        "import sys\n",
        "sys.path.insert(0,'/usr/lib/chromium-browser/chromedriver')\n",
        "from selenium import webdriver\n",
        "from selenium.webdriver.common.keys import Keys\n",
        "from selenium.webdriver.common.by import By\n",
        "\n",
        "from datetime import datetime, date\n",
        "import htmltext\n",
        "import lxml\n",
        "from lxml.html.soupparser import fromstring\n",
        "import math\n",
        "import mysql.connector\n",
        "import numbers\n",
        "import os\n",
        "import prettify\n",
        "from pytz import timezone\n",
        "import pytz\n",
        "from random import randint\n",
        "import regex as re\n",
        "import subprocess\n",
        "import sys\n",
        "import time\n",
        "\n",
        "import requests\n",
        "from bs4 import BeautifulSoup\n",
        "import pandas as pd\n",
        "import seaborn as sns\n",
        "import matplotlib.pyplot as plt\n",
        "from sklearn.linear_model import LinearRegression\n",
        "from sklearn.model_selection import train_test_split as holdout\n",
        "from sklearn.preprocessing import PolynomialFeatures\n",
        "from sklearn import metrics\n",
        "import numpy as np\n",
        "from sklearn.neighbors import KNeighborsClassifier \n",
        "from sklearn.datasets import load_iris \n",
        "import tensorflow as tf\n",
        "from tensorflow import keras\n",
        "from tensorflow.keras import layers\n",
        "from tensorflow.keras.layers.experimental import preprocessing\n",
        "\n",
        "from keras.models import Sequential\n",
        "from keras.layers import Dense\n",
        "from sklearn.metrics import r2_score\n",
        "import matplotlib.pyplot as plt\n",
        "import numpy\n",
        "from sklearn.model_selection import train_test_split\n",
        "print(tf.__version__)\n"
      ],
      "execution_count": null,
      "outputs": [
        {
          "output_type": "stream",
          "text": [
            "Collecting htmltext\n",
            "  Downloading https://files.pythonhosted.org/packages/d7/1c/f6d5062c3667c8ab398ab8d016424bc2d88fe2a48fee2cd61e52d3bad61b/htmltext-0.0.7-py3-none-any.whl\n",
            "Requirement already satisfied: beautifulsoup4 in /usr/local/lib/python3.6/dist-packages (from htmltext) (4.6.3)\n",
            "Requirement already satisfied: lxml in /usr/local/lib/python3.6/dist-packages (from htmltext) (4.2.6)\n",
            "Installing collected packages: htmltext\n",
            "Successfully installed htmltext-0.0.7\n",
            "Collecting prettify\n",
            "  Downloading https://files.pythonhosted.org/packages/bf/41/4b8104d757fa78949eb38eaa74a6e4046fcb8d67ea85e762361c175423a8/prettify-0.1.1.tar.gz\n",
            "Building wheels for collected packages: prettify\n",
            "  Building wheel for prettify (setup.py) ... \u001b[?25l\u001b[?25hdone\n",
            "  Created wheel for prettify: filename=prettify-0.1.1-cp36-none-any.whl size=8426 sha256=be5797d7adddbf83440630728979ecc579a6a61c5cb8e7580f9e715aa7b3cb6b\n",
            "  Stored in directory: /root/.cache/pip/wheels/49/44/c3/f997cb138383a4a0399a6b2f75012746c533a24ff6b02fafe0\n",
            "Successfully built prettify\n",
            "Installing collected packages: prettify\n",
            "Successfully installed prettify-0.1.1\n",
            "Collecting selenium\n",
            "\u001b[?25l  Downloading https://files.pythonhosted.org/packages/80/d6/4294f0b4bce4de0abf13e17190289f9d0613b0a44e5dd6a7f5ca98459853/selenium-3.141.0-py2.py3-none-any.whl (904kB)\n",
            "\u001b[K     |████████████████████████████████| 911kB 5.7MB/s \n",
            "\u001b[?25hRequirement already satisfied: urllib3 in /usr/local/lib/python3.6/dist-packages (from selenium) (1.24.3)\n",
            "Installing collected packages: selenium\n",
            "Successfully installed selenium-3.141.0\n",
            "Get:1 https://cloud.r-project.org/bin/linux/ubuntu bionic-cran40/ InRelease [3,626 B]\n",
            "Get:2 http://ppa.launchpad.net/c2d4u.team/c2d4u4.0+/ubuntu bionic InRelease [15.9 kB]\n",
            "Get:3 http://security.ubuntu.com/ubuntu bionic-security InRelease [88.7 kB]\n",
            "Ign:4 https://developer.download.nvidia.com/compute/cuda/repos/ubuntu1804/x86_64  InRelease\n",
            "Hit:5 http://archive.ubuntu.com/ubuntu bionic InRelease\n",
            "Ign:6 https://developer.download.nvidia.com/compute/machine-learning/repos/ubuntu1804/x86_64  InRelease\n",
            "Hit:7 https://developer.download.nvidia.com/compute/cuda/repos/ubuntu1804/x86_64  Release\n",
            "Hit:8 https://developer.download.nvidia.com/compute/machine-learning/repos/ubuntu1804/x86_64  Release\n",
            "Get:9 http://archive.ubuntu.com/ubuntu bionic-updates InRelease [88.7 kB]\n",
            "Hit:10 http://ppa.launchpad.net/cran/libgit2/ubuntu bionic InRelease\n",
            "Hit:13 http://ppa.launchpad.net/graphics-drivers/ppa/ubuntu bionic InRelease\n",
            "Get:14 http://archive.ubuntu.com/ubuntu bionic-backports InRelease [74.6 kB]\n",
            "Get:15 http://security.ubuntu.com/ubuntu bionic-security/universe amd64 Packages [1,391 kB]\n",
            "Get:16 http://ppa.launchpad.net/c2d4u.team/c2d4u4.0+/ubuntu bionic/main Sources [1,733 kB]\n",
            "Get:17 http://archive.ubuntu.com/ubuntu bionic-updates/universe amd64 Packages [2,162 kB]\n",
            "Get:18 http://security.ubuntu.com/ubuntu bionic-security/main amd64 Packages [1,929 kB]\n",
            "Get:19 http://archive.ubuntu.com/ubuntu bionic-updates/main amd64 Packages [2,360 kB]\n",
            "Get:20 http://ppa.launchpad.net/c2d4u.team/c2d4u4.0+/ubuntu bionic/main amd64 Packages [887 kB]\n",
            "Fetched 10.7 MB in 6s (1,816 kB/s)\n",
            "Reading package lists... Done\n",
            "Reading package lists... Done\n",
            "Building dependency tree       \n",
            "Reading state information... Done\n",
            "The following additional packages will be installed:\n",
            "  chromium-browser chromium-browser-l10n chromium-codecs-ffmpeg-extra\n",
            "Suggested packages:\n",
            "  webaccounts-chromium-extension unity-chromium-extension adobe-flashplugin\n",
            "The following NEW packages will be installed:\n",
            "  chromium-browser chromium-browser-l10n chromium-chromedriver\n",
            "  chromium-codecs-ffmpeg-extra\n",
            "0 upgraded, 4 newly installed, 0 to remove and 19 not upgraded.\n",
            "Need to get 81.0 MB of archives.\n",
            "After this operation, 273 MB of additional disk space will be used.\n",
            "Get:1 http://archive.ubuntu.com/ubuntu bionic-updates/universe amd64 chromium-codecs-ffmpeg-extra amd64 87.0.4280.66-0ubuntu0.18.04.1 [1,122 kB]\n",
            "Get:2 http://archive.ubuntu.com/ubuntu bionic-updates/universe amd64 chromium-browser amd64 87.0.4280.66-0ubuntu0.18.04.1 [71.7 MB]\n",
            "Get:3 http://archive.ubuntu.com/ubuntu bionic-updates/universe amd64 chromium-browser-l10n all 87.0.4280.66-0ubuntu0.18.04.1 [3,716 kB]\n",
            "Get:4 http://archive.ubuntu.com/ubuntu bionic-updates/universe amd64 chromium-chromedriver amd64 87.0.4280.66-0ubuntu0.18.04.1 [4,488 kB]\n",
            "Fetched 81.0 MB in 9s (8,705 kB/s)\n",
            "Selecting previously unselected package chromium-codecs-ffmpeg-extra.\n",
            "(Reading database ... 146442 files and directories currently installed.)\n",
            "Preparing to unpack .../chromium-codecs-ffmpeg-extra_87.0.4280.66-0ubuntu0.18.04.1_amd64.deb ...\n",
            "Unpacking chromium-codecs-ffmpeg-extra (87.0.4280.66-0ubuntu0.18.04.1) ...\n",
            "Selecting previously unselected package chromium-browser.\n",
            "Preparing to unpack .../chromium-browser_87.0.4280.66-0ubuntu0.18.04.1_amd64.deb ...\n",
            "Unpacking chromium-browser (87.0.4280.66-0ubuntu0.18.04.1) ...\n",
            "Selecting previously unselected package chromium-browser-l10n.\n",
            "Preparing to unpack .../chromium-browser-l10n_87.0.4280.66-0ubuntu0.18.04.1_all.deb ...\n",
            "Unpacking chromium-browser-l10n (87.0.4280.66-0ubuntu0.18.04.1) ...\n",
            "Selecting previously unselected package chromium-chromedriver.\n",
            "Preparing to unpack .../chromium-chromedriver_87.0.4280.66-0ubuntu0.18.04.1_amd64.deb ...\n",
            "Unpacking chromium-chromedriver (87.0.4280.66-0ubuntu0.18.04.1) ...\n",
            "Setting up chromium-codecs-ffmpeg-extra (87.0.4280.66-0ubuntu0.18.04.1) ...\n",
            "Setting up chromium-browser (87.0.4280.66-0ubuntu0.18.04.1) ...\n",
            "update-alternatives: using /usr/bin/chromium-browser to provide /usr/bin/x-www-browser (x-www-browser) in auto mode\n",
            "update-alternatives: using /usr/bin/chromium-browser to provide /usr/bin/gnome-www-browser (gnome-www-browser) in auto mode\n",
            "Setting up chromium-chromedriver (87.0.4280.66-0ubuntu0.18.04.1) ...\n",
            "Setting up chromium-browser-l10n (87.0.4280.66-0ubuntu0.18.04.1) ...\n",
            "Processing triggers for hicolor-icon-theme (0.17-2) ...\n",
            "Processing triggers for mime-support (3.60ubuntu1) ...\n",
            "Processing triggers for man-db (2.8.3-2ubuntu0.1) ...\n",
            "Reading package lists... Done\n",
            "Building dependency tree       \n",
            "Reading state information... Done\n",
            "The following NEW packages will be installed:\n",
            "  libmysqlclient-dev\n",
            "0 upgraded, 1 newly installed, 0 to remove and 19 not upgraded.\n",
            "Need to get 989 kB of archives.\n",
            "After this operation, 6,014 kB of additional disk space will be used.\n",
            "Get:1 http://archive.ubuntu.com/ubuntu bionic-updates/main amd64 libmysqlclient-dev amd64 5.7.33-0ubuntu0.18.04.1 [989 kB]\n",
            "Fetched 989 kB in 2s (423 kB/s)\n",
            "debconf: unable to initialize frontend: Dialog\n",
            "debconf: (No usable dialog-like program is installed, so the dialog based frontend cannot be used. at /usr/share/perl5/Debconf/FrontEnd/Dialog.pm line 76, <> line 1.)\n",
            "debconf: falling back to frontend: Readline\n",
            "debconf: unable to initialize frontend: Readline\n",
            "debconf: (This frontend requires a controlling tty.)\n",
            "debconf: falling back to frontend: Teletype\n",
            "dpkg-preconfigure: unable to re-open stdin: \n",
            "Selecting previously unselected package libmysqlclient-dev.\n",
            "(Reading database ... 146799 files and directories currently installed.)\n",
            "Preparing to unpack .../libmysqlclient-dev_5.7.33-0ubuntu0.18.04.1_amd64.deb ...\n",
            "Unpacking libmysqlclient-dev (5.7.33-0ubuntu0.18.04.1) ...\n",
            "Setting up libmysqlclient-dev (5.7.33-0ubuntu0.18.04.1) ...\n",
            "Processing triggers for man-db (2.8.3-2ubuntu0.1) ...\n",
            "Collecting mysql\n",
            "  Downloading https://files.pythonhosted.org/packages/bf/5f/b574ac9f70811df0540e403309f349a8b9fa1a25d3653824c32e52cc1f28/mysql-0.0.2.tar.gz\n",
            "Collecting mysqlclient\n",
            "\u001b[?25l  Downloading https://files.pythonhosted.org/packages/3c/df/59cd2fa5e48d0804d213bdcb1acb4d08c403b61c7ff7ed4dd4a6a2deb3f7/mysqlclient-2.0.3.tar.gz (88kB)\n",
            "\u001b[K     |████████████████████████████████| 92kB 3.6MB/s \n",
            "\u001b[?25hBuilding wheels for collected packages: mysql, mysqlclient\n",
            "  Building wheel for mysql (setup.py) ... \u001b[?25l\u001b[?25hdone\n",
            "  Created wheel for mysql: filename=mysql-0.0.2-cp36-none-any.whl size=1247 sha256=02e2f712dea1213a73537141cf2523db2cf428f415f237cfbe1a3e538afd3e9d\n",
            "  Stored in directory: /root/.cache/pip/wheels/4f/10/3f/4930effd0320769375b5094e279cb0e4a4c10a7e5811b58f8a\n",
            "  Building wheel for mysqlclient (setup.py) ... \u001b[?25l\u001b[?25hdone\n",
            "  Created wheel for mysqlclient: filename=mysqlclient-2.0.3-cp36-cp36m-linux_x86_64.whl size=99193 sha256=b24f7545bf2023e68f83546c65886d54fe2313d32c100c73eec925b67857a69c\n",
            "  Stored in directory: /root/.cache/pip/wheels/75/ca/e8/ad4e7ce3df18bcd91c7d84dd28c7c08db491a2a2360efed363\n",
            "Successfully built mysql mysqlclient\n",
            "Installing collected packages: mysqlclient, mysql\n",
            "Successfully installed mysql-0.0.2 mysqlclient-2.0.3\n",
            "Collecting mysql-connector-python-rf\n",
            "\u001b[?25l  Downloading https://files.pythonhosted.org/packages/21/79/2ff01ab7aa08db3a16b70b990c579c1024c6b2a734263cc7513a758867de/mysql-connector-python-rf-2.2.2.tar.gz (11.9MB)\n",
            "\u001b[K     |████████████████████████████████| 11.9MB 356kB/s \n",
            "\u001b[?25hBuilding wheels for collected packages: mysql-connector-python-rf\n",
            "  Building wheel for mysql-connector-python-rf (setup.py) ... \u001b[?25l\u001b[?25hdone\n",
            "  Created wheel for mysql-connector-python-rf: filename=mysql_connector_python_rf-2.2.2-cp36-cp36m-linux_x86_64.whl size=249456 sha256=2dfa952bd265383cdb673b9d58985221122073bbd67ba029acee980a491b398b\n",
            "  Stored in directory: /root/.cache/pip/wheels/87/58/fb/d95c84fad7e1bebfed324c13e107ebb08e1997c9226532859a\n",
            "Successfully built mysql-connector-python-rf\n",
            "Installing collected packages: mysql-connector-python-rf\n",
            "Successfully installed mysql-connector-python-rf-2.2.2\n",
            "2.4.1\n"
          ],
          "name": "stdout"
        }
      ]
    },
    {
      "cell_type": "code",
      "metadata": {
        "id": "j0dWOxuJj8P_"
      },
      "source": [
        "np.set_printoptions(precision=3, suppress=True)"
      ],
      "execution_count": null,
      "outputs": []
    },
    {
      "cell_type": "code",
      "metadata": {
        "id": "wGtlxZq1pFRC"
      },
      "source": [
        "header = {\n",
        "    \"User-Agent\": \"Mozilla/5.0 (Macintosh; Intel Mac OS X 10_15_7) AppleWebKit/537.36 (KHTML, like Gecko) Chrome/87.0.4280.88 Safari/537.36\",\n",
        "    \"Accept-Language\": \"en-US,en;q=0.9\"\n",
        "}"
      ],
      "execution_count": null,
      "outputs": []
    },
    {
      "cell_type": "code",
      "metadata": {
        "id": "Nw3-sU-MpFRE"
      },
      "source": [
        "urls = []\n",
        "links = []\n",
        "x = 'https://www.zillow.com/homes/{}_rb/'\n",
        "zip_code = ['10022', '10007', '10469', '11693', '11203']\n",
        "#'95035','95036','95032','95030','95038','95051'"
      ],
      "execution_count": null,
      "outputs": []
    },
    {
      "cell_type": "code",
      "metadata": {
        "id": "CAvYPRNspFRE"
      },
      "source": [
        "# create links with different zip codes and add into url list\n",
        "for i in zip_code:\n",
        "    new_link = x.format(i)\n",
        "    urls.append(new_link)"
      ],
      "execution_count": null,
      "outputs": []
    },
    {
      "cell_type": "code",
      "metadata": {
        "colab": {
          "base_uri": "https://localhost:8080/"
        },
        "id": "tqBnE4eKpFRF",
        "outputId": "f607fd04-5bd4-492e-8129-9242946d27f3"
      },
      "source": [
        "print(urls[-1])\n",
        "print(len(urls))\n",
        "print(urls)"
      ],
      "execution_count": null,
      "outputs": [
        {
          "output_type": "stream",
          "text": [
            "https://www.zillow.com/homes/11203_rb/\n",
            "5\n",
            "['https://www.zillow.com/homes/10022_rb/', 'https://www.zillow.com/homes/10007_rb/', 'https://www.zillow.com/homes/10469_rb/', 'https://www.zillow.com/homes/11693_rb/', 'https://www.zillow.com/homes/11203_rb/']\n"
          ],
          "name": "stdout"
        }
      ]
    },
    {
      "cell_type": "code",
      "metadata": {
        "colab": {
          "base_uri": "https://localhost:8080/",
          "height": 120
        },
        "id": "6dXWTvo_pFRJ",
        "outputId": "7459e1d8-7622-416d-ed34-7ab9b016d4f2"
      },
      "source": [
        "'''\n",
        "def diagnostic_print(run, data_point0=None, data_point1=None, data_point2=None, data_point3=None):\n",
        "    output_string = \"Run: \" + str(run)\n",
        "    if data_point0 != None:\n",
        "        output_string  = output_string + str(\"  :  \" + str(data_point0))\n",
        "    if data_point1 != None:\n",
        "        output_string  = output_string + str(\"  :  \" + str(data_point1))\n",
        "    if data_point2 != None:\n",
        "        output_string  = output_string + str(\"  :  \" + str(data_point2))\n",
        "    if data_point3 != None:\n",
        "        output_string  = output_string + str(\"  :  \" + str(data_point3))\n",
        "    print(output_string)\n",
        "    \n",
        "# get lists of price, house info, address\n",
        "price = []\n",
        "house_info = []\n",
        "address = []\n",
        "real_estate = []\n",
        "last_updated = []\n",
        "links = []\n",
        "\n",
        "url_list = [] #relocated to for loop\n",
        "request_list = [] #relocated to for loop\n",
        "soup_list = [] #relocated to for loop\n",
        "error_flag = 0\n",
        "\n",
        "for url in urls:\n",
        "\n",
        "    #populate URL list with zillow links\n",
        "    url_list.append(url) #This is for zipcodes\n",
        "\n",
        "for i in range(len(url_list)):\n",
        "    #populate the request list with sessions\n",
        "    request_list.append(requests.Session().get(url_list[i], headers=header))\n",
        "\n",
        "    #populate soup list with information from URLs\n",
        "    soup_list.append(BeautifulSoup(request_list[i].content, 'html.parser'))\n",
        "\n",
        "    if i == 0:\n",
        "          diagnostic_print(\"Zip code\", i, url_list[i], request_list[i])\n",
        "    \n",
        "    error_check = str(soup_list[0])\n",
        "    error_checker = error_check.find(\"Please verify you're a human to continue.\")\n",
        "    if error_checker != -1:\n",
        "        error_message = \"Crawling error (captcha).  Will attempt to snooze for 7 mins and see if that helps.\"\n",
        "        error_flag = 1\n",
        "        diagnostic_print(error_message)\n",
        "    time.sleep(10)\n",
        "    continue\n",
        "\n",
        "    response = requests.get(url_list[i], headers=header)\n",
        "    data = response.text\n",
        "\n",
        "    soup = BeautifulSoup(data, 'html.parser')\n",
        "\n",
        "    amount = list(soup.find_all('div', class_='list-card-price'))\n",
        "    for i in amount:\n",
        "        price.append(i.text)\n",
        "\n",
        "    beds = list(soup.find_all('ul',class_='list-card-details'))\n",
        "    for i in beds:\n",
        "        house_info.append(i.text)\n",
        "\n",
        "    x = list(soup.find_all('address',class_='list-card-addr'))\n",
        "    for i in x:\n",
        "        address.append(i.text)\n",
        "\n",
        "    types = list(soup.find_all('div', {'class': 'list-card-footer'}))\n",
        "    for i in types:\n",
        "        real_estate.append(i.text)\n",
        "        \n",
        "    updated = list(soup.find_all('div', {'class': 'list-card-top'}))\n",
        "    for i in updated:\n",
        "        last_updated.append(i.text)\n",
        "        \n",
        "    link = list(soup.find_all(class_= 'list-card-link'))\n",
        "    for i in link:\n",
        "        links.append(i.text)\n",
        "\n",
        "    c = list(soup.find_all(\"ul\", class_=\"list-card-details\"))\n",
        "    for i in c:\n",
        "        star_rooms.append(i.text)\n",
        "'''"
      ],
      "execution_count": null,
      "outputs": [
        {
          "output_type": "execute_result",
          "data": {
            "application/vnd.google.colaboratory.intrinsic+json": {
              "type": "string"
            },
            "text/plain": [
              "'\\ndef diagnostic_print(run, data_point0=None, data_point1=None, data_point2=None, data_point3=None):\\n    output_string = \"Run: \" + str(run)\\n    if data_point0 != None:\\n        output_string  = output_string + str(\"  :  \" + str(data_point0))\\n    if data_point1 != None:\\n        output_string  = output_string + str(\"  :  \" + str(data_point1))\\n    if data_point2 != None:\\n        output_string  = output_string + str(\"  :  \" + str(data_point2))\\n    if data_point3 != None:\\n        output_string  = output_string + str(\"  :  \" + str(data_point3))\\n    print(output_string)\\n    \\n# get lists of price, house info, address\\nprice = []\\nhouse_info = []\\naddress = []\\nreal_estate = []\\nlast_updated = []\\nlinks = []\\n\\nurl_list = [] #relocated to for loop\\nrequest_list = [] #relocated to for loop\\nsoup_list = [] #relocated to for loop\\nerror_flag = 0\\n\\nfor url in urls:\\n\\n    #populate URL list with zillow links\\n    url_list.append(url) #This is for zipcodes\\n\\nfor i in range(len(url_list)):\\n    #populate the request list with sessions\\n    request_list.append(requests.Session().get(url_list[i], headers=header))\\n\\n    #populate soup list with information from URLs\\n    soup_list.append(BeautifulSoup(request_list[i].content, \\'html.parser\\'))\\n\\n    if i == 0:\\n          diagnostic_print(\"Zip code\", i, url_list[i], request_list[i])\\n    \\n    error_check = str(soup_list[0])\\n    error_checker = error_check.find(\"Please verify you\\'re a human to continue.\")\\n    if error_checker != -1:\\n        error_message = \"Crawling error (captcha).  Will attempt to snooze for 7 mins and see if that helps.\"\\n        error_flag = 1\\n        diagnostic_print(error_message)\\n    time.sleep(10)\\n    continue\\n\\n    response = requests.get(url_list[i], headers=header)\\n    data = response.text\\n\\n    soup = BeautifulSoup(data, \\'html.parser\\')\\n\\n    amount = list(soup.find_all(\\'div\\', class_=\\'list-card-price\\'))\\n    for i in amount:\\n        price.append(i.text)\\n\\n    beds = list(soup.find_all(\\'ul\\',class_=\\'list-card-details\\'))\\n    for i in beds:\\n        house_info.append(i.text)\\n\\n    x = list(soup.find_all(\\'address\\',class_=\\'list-card-addr\\'))\\n    for i in x:\\n        address.append(i.text)\\n\\n    types = list(soup.find_all(\\'div\\', {\\'class\\': \\'list-card-footer\\'}))\\n    for i in types:\\n        real_estate.append(i.text)\\n        \\n    updated = list(soup.find_all(\\'div\\', {\\'class\\': \\'list-card-top\\'}))\\n    for i in updated:\\n        last_updated.append(i.text)\\n        \\n    link = list(soup.find_all(class_= \\'list-card-link\\'))\\n    for i in link:\\n        links.append(i.text)\\n\\n    c = list(soup.find_all(\"ul\", class_=\"list-card-details\"))\\n    for i in c:\\n        star_rooms.append(i.text)\\n'"
            ]
          },
          "metadata": {
            "tags": []
          },
          "execution_count": 7
        }
      ]
    },
    {
      "cell_type": "code",
      "metadata": {
        "id": "8A0RQEEipFRK"
      },
      "source": [
        "price = []\n",
        "bed=[]\n",
        "bath=[]\n",
        "sqft=[]\n",
        "house_info=[]\n",
        "address = []\n",
        "real_estate = []\n",
        "last_updated = []\n",
        "links = []\n",
        "\n",
        "for url in urls:\n",
        "    response = requests.get(url, headers=header)\n",
        "    data = response.text\n",
        "\n",
        "    soup = BeautifulSoup(data, 'html.parser')\n",
        "    amount = list(soup.find_all('div', class_='list-card-price'))\n",
        "    for i in amount:\n",
        "        price.append(i.text)\n",
        "\n",
        "    for house in soup.find_all('ul', class_='list-card-details'):\n",
        "        house_info.append([i.text for i in house.find_all('li', class_='')])\n",
        "\n",
        "    x = list(soup.find_all('address', class_='list-card-addr'))\n",
        "    for i in x:\n",
        "        address.append(i.text)\n",
        "    \n",
        "    \n",
        "    #detail = soup.find_all('div', {'class': 'list-card-details'}) #This doesn't seem to work, but looks useful\n",
        "    #for i in detail:\n",
        "    #    details.append(detail)\n",
        "        \n",
        "    types = list(soup.find_all('div', {'class': 'list-card-footer'}))\n",
        "    for i in types:\n",
        "        real_estate.append(i.text)\n",
        "        \n",
        "    updated = list(soup.find_all('div', {'class': 'list-card-top'}))\n",
        "    for i in updated:\n",
        "        last_updated.append(i.text)\n",
        "        \n",
        "    link = list(soup.find_all('a',class_= 'list-card-link list-card-link-top-margin'))\n",
        "    for i in link:\n",
        "        links.append(i.get('href'))"
      ],
      "execution_count": null,
      "outputs": []
    },
    {
      "cell_type": "code",
      "metadata": {
        "colab": {
          "base_uri": "https://localhost:8080/"
        },
        "id": "bwf_2V7JpFRJ",
        "outputId": "2cbebecb-2db9-4b22-a9d0-da5ddc796f1a"
      },
      "source": [
        "print(len(price))\n",
        "print(len(house_info))\n",
        "print(len(address))\n",
        "print(len(real_estate))\n",
        "print(len(last_updated))\n",
        "print(len(links))"
      ],
      "execution_count": null,
      "outputs": [
        {
          "output_type": "stream",
          "text": [
            "182\n",
            "182\n",
            "182\n",
            "182\n",
            "182\n",
            "182\n"
          ],
          "name": "stdout"
        }
      ]
    },
    {
      "cell_type": "code",
      "metadata": {
        "colab": {
          "base_uri": "https://localhost:8080/"
        },
        "id": "MXraWowTRWk5",
        "outputId": "1b73883e-cc1e-4412-efd7-b0b0cfaa73ed"
      },
      "source": [
        "print(house_info)"
      ],
      "execution_count": null,
      "outputs": [
        {
          "output_type": "stream",
          "text": [
            "[['4 bds,', '4 ba,', '-- sqft'], ['1 bd,', '1 ba,', '-- sqft'], ['2 bds,', '3 ba,', '988,829 sqft'], ['Studio,', '4 ba,', '3,420 sqft'], ['1 bd,', '1 ba,', '825 sqft'], ['1 bd,', '1 ba,', '93,153 sqft'], ['3 bds,', '3 ba,', '-- sqft'], ['3 bds,', '4 ba,', '2,550 sqft'], ['1 bd,', '1 ba,', '785 sqft'], ['4 bds,', '4 ba,', '-- sqft'], ['1 bd,', '1 ba,', '-- sqft'], ['1 bd,', '1 ba,', '650 sqft'], ['Studio,', '1 ba,', '197,972 sqft'], ['3 bds,', '4 ba,', '2,200 sqft'], ['2 bds,', '2 ba,', '1,425 sqft'], ['1 bd,', '1 ba,', '-- sqft'], ['3 bds,', '2 ba,', '2,000 sqft'], ['2 bds,', '2 ba,', '1,200 sqft'], ['2 bds,', '2 ba,', '1,305 sqft'], ['Studio,', '1 ba,', '830 sqft'], ['2 bds,', '3 ba,', '3,000 sqft'], ['Studio,', '1 ba,', '700 sqft'], ['1 bd,', '2 ba,', '89,349 sqft'], ['3 bds,', '3 ba,', '1,950 sqft'], ['2 bds,', '2 ba,', '1,521 sqft'], ['3 bds,', '4 ba,', '2,347 sqft'], ['1 bd,', '2 ba,', '750 sqft'], ['1 bd,', '1 ba,', '850 sqft'], ['2 bds,', '2 ba,', '1,600 sqft'], ['1 bd,', '1 ba,', '-- sqft'], ['3 bds,', '2 ba,', '1,450 sqft'], ['Studio,', '1 ba,', '545 sqft'], ['2 bds,', '2 ba,', '1,085 sqft'], ['3 bds,', '3 ba,', '1,795 sqft'], ['1 bd,', '1 ba,', '-- sqft'], ['2 bds,', '2 ba,', '1,500 sqft'], ['Studio,', '1 ba,', '-- sqft'], ['1 bd,', '2 ba,', '169,868 sqft'], ['1 bd,', '2 ba,', '510,547 sqft'], ['3 bds,', '2 ba,', '169,868 sqft'], ['5 bds,', '7 ba,', '6,127 sqft'], ['2 bds,', '3 ba,', '1,750 sqft'], ['2 bds,', '3 ba,', '1,647 sqft'], ['1 bd,', '1 ba,', '679 sqft'], ['2 bds,', '2 ba,', '1,573 sqft'], ['4 bds,', '2 ba,', '1,951 sqft'], ['2 bds,', '2 ba,', '1,824 sqft'], ['1 bd,', '2 ba,', '968 sqft'], ['1 bd,', '1 ba,', '700 sqft'], ['4 bds,', '5 ba,', '2,685 sqft'], ['2 bds,', '2 ba,', '1,850 sqft'], ['Studio,', '1 ba,', '712 sqft'], ['3 bds,', '3 ba,', '2,652 sqft'], ['2 bds,', '2 ba,', '1,640 sqft'], ['1 bd,', '1 ba,', '-- sqft'], ['3 bds,', '3 ba,', '2,500 sqft'], ['4 bds,', '5 ba,', '3,216 sqft'], ['1 bd,', '2 ba,', '1,266 sqft'], ['3 bds,', '4 ba,', '3,378 sqft'], ['3 bds,', '2 ba,', '1,951 sqft'], ['4 bds,', '5 ba,', '3,208 sqft'], ['4 bds,', '6 ba,', '3,699 sqft'], ['3 bds,', '4 ba,', '2,222 sqft'], ['3 bds,', '3 ba,', '1,794 sqft'], ['1 bd,', '2 ba,', '1,828 sqft'], ['4 bds,', '4 ba,', '2,719 sqft'], ['4 bds,', '4 ba,', '4,000 sqft'], ['4 bds,', '4 ba,', '5,355 sqft'], ['3 bds,', '4 ba,', '2,248 sqft'], ['3 bds,', '2 ba,', '17,056 sqft'], ['3 bds,', '4 ba,', '3,957 sqft'], ['1 bd,', '1 ba,', '909 sqft'], ['3 bds,', '4 ba,', '2,388 sqft'], ['2 bds,', '4 ba,', '1,493 sqft'], ['4 bds,', '4 ba,', '2,794 sqft'], ['3 bds,', '3 ba,', '2,366 sqft'], ['2 bds,', '2 ba,', '1,086 sqft'], ['3 bds,', '5 ba,', '3,173 sqft'], ['3 bds,', '3 ba,', '2,201 sqft'], ['1 bd,', '1 ba,', '1,056 sqft'], ['4 bds,', '3 ba,', '-- sqft'], ['3 bds,', '1 ba,', '1,360 sqft'], ['3 bds,', '2 ba,', '1,500 sqft'], ['3 bds,', '2 ba,', '1,690 sqft'], ['7 bds,', '5 ba,', '3,354 sqft'], ['3 bds,', '3 ba,', '1,800 sqft'], ['7 bds,', '5 ba,', '2,361 sqft'], ['4 bds,', '3 ba,', '2,125 sqft'], ['6 bds,', '4 ba,', '2,378 sqft'], ['4 bds,', '5 ba,', '-- sqft'], ['2 bds,', '3 ba,', '1,496 sqft'], ['5 bds,', '4 ba,', '-- sqft'], ['5 bds,', '3 ba,', '2,238 sqft'], ['2 bds,', '3 ba,', '1,040 sqft'], ['5 bds,', '2 ba,', '1,948 sqft'], ['3 bds,', '2 ba,', '2,484 sqft'], ['5,954 sqft lot'], ['5 bds,', '2 ba,', '1,948 sqft'], ['9 bds,', '6 ba,', '-- sqft'], ['6 bds,', '7 ba,', '3,230 sqft'], ['9 bds,', '6 ba,', '2,830 sqft'], ['6 bds,', '3 ba,', '-- sqft'], ['6 bds,', '3 ba,', '-- sqft'], ['4 bds,', '2 ba,', '1,582 sqft'], ['9 bds,', '4 ba,', '1,925 sqft'], ['3 bds,', '2 ba,', '2,260 sqft'], ['5 bds,', '2 ba,', '2,016 sqft'], ['6 bds,', '3 ba,', '2,800 sqft'], ['4 bds,', '4 ba,', '2,016 sqft'], ['2 bds,', '2 ba,', '1,045 sqft'], ['3 bds,', '1 ba,', '1,146 sqft'], ['4 bds,', '2 ba,', '1,408 sqft'], ['6 bds,', '4 ba,', '3,500 sqft'], ['3 bds,', '2 ba,', '-- sqft'], ['3 bds,', '3 ba,', '1,400 sqft'], ['2 bds,', '1 ba,', '1,000 sqft'], ['4 bds,', '3 ba,', '644 sqft'], ['7 bds,', '3 ba,', '3,060 sqft'], ['6 bds,', '3 ba,', '3,100 sqft'], ['9 bds,', '2 ba,', '1,980 sqft'], ['3 bds,', '2 ba,', '-- sqft'], ['2 bds,', '2 ba,', '1,239 sqft'], ['2 bds,', '2 ba,', '-- sqft'], ['2 bds,', '2 ba,', '-- sqft'], ['3 bds,', '1 ba,', '850 sqft'], ['2 bds,', '2 ba,', '1,120 sqft'], ['Studio,', '3 ba,', '2,000 sqft'], ['2 bds,', '2 ba,', '1,239 sqft'], ['2 bds,', '2 ba,', '1,433 sqft'], ['6 bds,', '3 ba,', '-- sqft'], ['3 bds,', '1 ba,', '-- sqft'], ['6 bds,', '6 ba,', '-- sqft'], ['1 bd,', '1 ba,', '560 sqft'], ['3 bds,', '1 ba,', '-- sqft'], ['9 bds,', '7 ba,', '5,008 sqft'], ['5 bds,', '4 ba,', '-- sqft'], ['1,654 sqft lot'], ['1 bd,', '1 ba,', '750 sqft'], ['13 bds,', '12 ba,', '7,132 sqft'], ['2 bds,', '1 ba,', '928 sqft'], ['5,418 sqft lot'], ['3 bds,', '2 ba,', '1,840 sqft'], ['2 bds,', '2 ba,', '1,905 sqft'], ['5 bds,', '3 ba,', '-- sqft'], ['8 bds,', '2 ba,', '-- sqft'], ['3 bds,', '-- ba,', '1,696 sqft'], ['11 bds,', '6 ba,', '5,800 sqft'], ['1 bd,', '1 ba,', '1,000 sqft'], ['3 bds,', '2 ba,', '1,404 sqft'], ['2 bds,', '2 ba,', '2,000 sqft'], ['3 bds,', '2 ba,', '1,288 sqft'], ['3 bds,', '2 ba,', '1,560 sqft'], ['1 bd,', '1 ba,', '750 sqft'], ['1 bd,', '1 ba,', '900 sqft'], ['1 bd,', '1 ba,', '-- sqft'], ['1 bd,', '1 ba,', '-- sqft'], ['3 bds,', '2 ba,', '-- sqft'], ['3 bds,', '3 ba,', '1,400 sqft'], ['4 bds,', '2 ba,', '-- sqft'], ['3 bds,', '2 ba,', '1,230 sqft'], ['6 bds,', '3 ba,', '-- sqft'], ['2 bds,', '1 ba,', '1,200 sqft'], ['1 bd,', '1 ba,', '114,346 sqft'], ['-- bds,', '2 ba,', '2,948 sqft'], ['1 bd,', '1 ba,', '58,231 sqft'], ['3 bds,', '2 ba,', '-- sqft'], ['5 bds,', '3 ba,', '-- sqft'], ['3 bds,', '2 ba,', '1,260 sqft'], ['3 bds,', '1 ba,', '2,000 sqft'], ['4 bds,', '2 ba,', '-- sqft'], ['3,007 sqft lot'], ['2 bds,', '1 ba,', '1,700 sqft'], ['2,000 sqft lot'], ['3 bds,', '2 ba,', '1,216 sqft'], ['3 bds,', '1 ba,', '1,326 sqft'], ['3 bds,', '2 ba,', '1,767 sqft'], ['-- bds,', '2 ba,', '-- sqft'], ['10 bds,', '10 ba,', '6,135 sqft'], ['4 bds,', '3 ba,', '-- sqft'], ['7 bds,', '4 ba,', '3,652 sqft'], ['3 bds,', '2 ba,', '-- sqft'], ['5 bds,', '3 ba,', '3,420 sqft']]\n"
          ],
          "name": "stdout"
        }
      ]
    },
    {
      "cell_type": "code",
      "metadata": {
        "colab": {
          "base_uri": "https://localhost:8080/"
        },
        "id": "bMWyHA-pZLXu",
        "outputId": "d69540ab-3a47-40e4-b141-e89d129b0732"
      },
      "source": [
        "house=[]\n",
        "for item in house_info:\n",
        "  house.append(''.join(item[:]))"
      ],
      "execution_count": null,
      "outputs": [
        {
          "output_type": "stream",
          "text": [
            "['4 bds,4 ba,-- sqft', '1 bd,1 ba,-- sqft', '2 bds,3 ba,988,829 sqft', 'Studio,4 ba,3,420 sqft', '1 bd,1 ba,825 sqft', '1 bd,1 ba,93,153 sqft', '3 bds,3 ba,-- sqft', '3 bds,4 ba,2,550 sqft', '1 bd,1 ba,785 sqft', '4 bds,4 ba,-- sqft', '1 bd,1 ba,-- sqft', '1 bd,1 ba,650 sqft', 'Studio,1 ba,197,972 sqft', '3 bds,4 ba,2,200 sqft', '2 bds,2 ba,1,425 sqft', '1 bd,1 ba,-- sqft', '3 bds,2 ba,2,000 sqft', '2 bds,2 ba,1,200 sqft', '2 bds,2 ba,1,305 sqft', 'Studio,1 ba,830 sqft', '2 bds,3 ba,3,000 sqft', 'Studio,1 ba,700 sqft', '1 bd,2 ba,89,349 sqft', '3 bds,3 ba,1,950 sqft', '2 bds,2 ba,1,521 sqft', '3 bds,4 ba,2,347 sqft', '1 bd,2 ba,750 sqft', '1 bd,1 ba,850 sqft', '2 bds,2 ba,1,600 sqft', '1 bd,1 ba,-- sqft', '3 bds,2 ba,1,450 sqft', 'Studio,1 ba,545 sqft', '2 bds,2 ba,1,085 sqft', '3 bds,3 ba,1,795 sqft', '1 bd,1 ba,-- sqft', '2 bds,2 ba,1,500 sqft', 'Studio,1 ba,-- sqft', '1 bd,2 ba,169,868 sqft', '1 bd,2 ba,510,547 sqft', '3 bds,2 ba,169,868 sqft', '5 bds,7 ba,6,127 sqft', '2 bds,3 ba,1,750 sqft', '2 bds,3 ba,1,647 sqft', '1 bd,1 ba,679 sqft', '2 bds,2 ba,1,573 sqft', '4 bds,2 ba,1,951 sqft', '2 bds,2 ba,1,824 sqft', '1 bd,2 ba,968 sqft', '1 bd,1 ba,700 sqft', '4 bds,5 ba,2,685 sqft', '2 bds,2 ba,1,850 sqft', 'Studio,1 ba,712 sqft', '3 bds,3 ba,2,652 sqft', '2 bds,2 ba,1,640 sqft', '1 bd,1 ba,-- sqft', '3 bds,3 ba,2,500 sqft', '4 bds,5 ba,3,216 sqft', '1 bd,2 ba,1,266 sqft', '3 bds,4 ba,3,378 sqft', '3 bds,2 ba,1,951 sqft', '4 bds,5 ba,3,208 sqft', '4 bds,6 ba,3,699 sqft', '3 bds,4 ba,2,222 sqft', '3 bds,3 ba,1,794 sqft', '1 bd,2 ba,1,828 sqft', '4 bds,4 ba,2,719 sqft', '4 bds,4 ba,4,000 sqft', '4 bds,4 ba,5,355 sqft', '3 bds,4 ba,2,248 sqft', '3 bds,2 ba,17,056 sqft', '3 bds,4 ba,3,957 sqft', '1 bd,1 ba,909 sqft', '3 bds,4 ba,2,388 sqft', '2 bds,4 ba,1,493 sqft', '4 bds,4 ba,2,794 sqft', '3 bds,3 ba,2,366 sqft', '2 bds,2 ba,1,086 sqft', '3 bds,5 ba,3,173 sqft', '3 bds,3 ba,2,201 sqft', '1 bd,1 ba,1,056 sqft', '4 bds,3 ba,-- sqft', '3 bds,1 ba,1,360 sqft', '3 bds,2 ba,1,500 sqft', '3 bds,2 ba,1,690 sqft', '7 bds,5 ba,3,354 sqft', '3 bds,3 ba,1,800 sqft', '7 bds,5 ba,2,361 sqft', '4 bds,3 ba,2,125 sqft', '6 bds,4 ba,2,378 sqft', '4 bds,5 ba,-- sqft', '2 bds,3 ba,1,496 sqft', '5 bds,4 ba,-- sqft', '5 bds,3 ba,2,238 sqft', '2 bds,3 ba,1,040 sqft', '5 bds,2 ba,1,948 sqft', '3 bds,2 ba,2,484 sqft', '5,954 sqft lot', '5 bds,2 ba,1,948 sqft', '9 bds,6 ba,-- sqft', '6 bds,7 ba,3,230 sqft', '9 bds,6 ba,2,830 sqft', '6 bds,3 ba,-- sqft', '6 bds,3 ba,-- sqft', '4 bds,2 ba,1,582 sqft', '9 bds,4 ba,1,925 sqft', '3 bds,2 ba,2,260 sqft', '5 bds,2 ba,2,016 sqft', '6 bds,3 ba,2,800 sqft', '4 bds,4 ba,2,016 sqft', '2 bds,2 ba,1,045 sqft', '3 bds,1 ba,1,146 sqft', '4 bds,2 ba,1,408 sqft', '6 bds,4 ba,3,500 sqft', '3 bds,2 ba,-- sqft', '3 bds,3 ba,1,400 sqft', '2 bds,1 ba,1,000 sqft', '4 bds,3 ba,644 sqft', '7 bds,3 ba,3,060 sqft', '6 bds,3 ba,3,100 sqft', '9 bds,2 ba,1,980 sqft', '3 bds,2 ba,-- sqft', '2 bds,2 ba,1,239 sqft', '2 bds,2 ba,-- sqft', '2 bds,2 ba,-- sqft', '3 bds,1 ba,850 sqft', '2 bds,2 ba,1,120 sqft', 'Studio,3 ba,2,000 sqft', '2 bds,2 ba,1,239 sqft', '2 bds,2 ba,1,433 sqft', '6 bds,3 ba,-- sqft', '3 bds,1 ba,-- sqft', '6 bds,6 ba,-- sqft', '1 bd,1 ba,560 sqft', '3 bds,1 ba,-- sqft', '9 bds,7 ba,5,008 sqft', '5 bds,4 ba,-- sqft', '1,654 sqft lot', '1 bd,1 ba,750 sqft', '13 bds,12 ba,7,132 sqft', '2 bds,1 ba,928 sqft', '5,418 sqft lot', '3 bds,2 ba,1,840 sqft', '2 bds,2 ba,1,905 sqft', '5 bds,3 ba,-- sqft', '8 bds,2 ba,-- sqft', '3 bds,-- ba,1,696 sqft', '11 bds,6 ba,5,800 sqft', '1 bd,1 ba,1,000 sqft', '3 bds,2 ba,1,404 sqft', '2 bds,2 ba,2,000 sqft', '3 bds,2 ba,1,288 sqft', '3 bds,2 ba,1,560 sqft', '1 bd,1 ba,750 sqft', '1 bd,1 ba,900 sqft', '1 bd,1 ba,-- sqft', '1 bd,1 ba,-- sqft', '3 bds,2 ba,-- sqft', '3 bds,3 ba,1,400 sqft', '4 bds,2 ba,-- sqft', '3 bds,2 ba,1,230 sqft', '6 bds,3 ba,-- sqft', '2 bds,1 ba,1,200 sqft', '1 bd,1 ba,114,346 sqft', '-- bds,2 ba,2,948 sqft', '1 bd,1 ba,58,231 sqft', '3 bds,2 ba,-- sqft', '5 bds,3 ba,-- sqft', '3 bds,2 ba,1,260 sqft', '3 bds,1 ba,2,000 sqft', '4 bds,2 ba,-- sqft', '3,007 sqft lot', '2 bds,1 ba,1,700 sqft', '2,000 sqft lot', '3 bds,2 ba,1,216 sqft', '3 bds,1 ba,1,326 sqft', '3 bds,2 ba,1,767 sqft', '-- bds,2 ba,-- sqft', '10 bds,10 ba,6,135 sqft', '4 bds,3 ba,-- sqft', '7 bds,4 ba,3,652 sqft', '3 bds,2 ba,-- sqft', '5 bds,3 ba,3,420 sqft']\n"
          ],
          "name": "stdout"
        }
      ]
    },
    {
      "cell_type": "code",
      "metadata": {
        "colab": {
          "base_uri": "https://localhost:8080/"
        },
        "id": "yysSuoPrpFRL",
        "outputId": "656234c4-3859-4b34-fd49-23a43ebb64ee"
      },
      "source": [
        "house_data = []\n",
        "house_data.append(price)\n",
        "house_data.append(address)\n",
        "house_data.append(real_estate)\n",
        "house_data.append(last_updated)\n",
        "house_data.append(links)\n",
        "house_data.append(house)\n",
        "\n",
        "dict = {'price':house_data[0], 'address':house_data[1], 'real_estate':house_data[2], 'last_updated':house_data[3], 'link':house_data[4], 'house_info':house_data[5]}\n",
        "data = pd.DataFrame(dict)\n",
        "print(data.shape)"
      ],
      "execution_count": null,
      "outputs": [
        {
          "output_type": "stream",
          "text": [
            "(182, 6)\n"
          ],
          "name": "stdout"
        }
      ]
    },
    {
      "cell_type": "code",
      "metadata": {
        "id": "2KGi5Z9QpFRL"
      },
      "source": [
        "df = data.copy()"
      ],
      "execution_count": null,
      "outputs": []
    },
    {
      "cell_type": "code",
      "metadata": {
        "colab": {
          "base_uri": "https://localhost:8080/",
          "height": 80
        },
        "id": "n5FYlgq-Q17I",
        "outputId": "597a3a02-b5b4-4a6a-de79-273fbef15ead"
      },
      "source": [
        "df.head(1)"
      ],
      "execution_count": null,
      "outputs": [
        {
          "output_type": "execute_result",
          "data": {
            "text/html": [
              "<div>\n",
              "<style scoped>\n",
              "    .dataframe tbody tr th:only-of-type {\n",
              "        vertical-align: middle;\n",
              "    }\n",
              "\n",
              "    .dataframe tbody tr th {\n",
              "        vertical-align: top;\n",
              "    }\n",
              "\n",
              "    .dataframe thead th {\n",
              "        text-align: right;\n",
              "    }\n",
              "</style>\n",
              "<table border=\"1\" class=\"dataframe\">\n",
              "  <thead>\n",
              "    <tr style=\"text-align: right;\">\n",
              "      <th></th>\n",
              "      <th>price</th>\n",
              "      <th>address</th>\n",
              "      <th>real_estate</th>\n",
              "      <th>last_updated</th>\n",
              "      <th>link</th>\n",
              "      <th>house_info</th>\n",
              "    </tr>\n",
              "  </thead>\n",
              "  <tbody>\n",
              "    <tr>\n",
              "      <th>0</th>\n",
              "      <td>$995,000</td>\n",
              "      <td>303 E 57th St #37DE, New York, NY 10022</td>\n",
              "      <td>LISTING BY: DOUGLAS ELLIMAN (212-891-7674)</td>\n",
              "      <td>1 day on Zillow</td>\n",
              "      <td>https://www.zillow.com/homedetails/303-E-57th-...</td>\n",
              "      <td>4 bds,4 ba,-- sqft</td>\n",
              "    </tr>\n",
              "  </tbody>\n",
              "</table>\n",
              "</div>"
            ],
            "text/plain": [
              "      price  ...          house_info\n",
              "0  $995,000  ...  4 bds,4 ba,-- sqft\n",
              "\n",
              "[1 rows x 6 columns]"
            ]
          },
          "metadata": {
            "tags": []
          },
          "execution_count": 14
        }
      ]
    },
    {
      "cell_type": "code",
      "metadata": {
        "id": "Mjqi8WdgbmmS"
      },
      "source": [
        "df[['beds','baths','sq_feet']]=df['house_info'].str.split(',',2, expand=True)"
      ],
      "execution_count": null,
      "outputs": []
    },
    {
      "cell_type": "code",
      "metadata": {
        "id": "P96EtLxapFRL"
      },
      "source": [
        "df['prices'] = df['price'].apply(lambda x: x[1:])"
      ],
      "execution_count": null,
      "outputs": []
    },
    {
      "cell_type": "code",
      "metadata": {
        "id": "WtyS_XggwyIk"
      },
      "source": [
        "#df[['redundant','baths']] = df['baths'].str.split(',',n=1,expand=True)"
      ],
      "execution_count": null,
      "outputs": []
    },
    {
      "cell_type": "code",
      "metadata": {
        "id": "uo8nQ5sVwyIl"
      },
      "source": [
        "df['sq_feet']=df['sq_feet'].replace(' sqft','',regex=True)"
      ],
      "execution_count": null,
      "outputs": []
    },
    {
      "cell_type": "code",
      "metadata": {
        "id": "xIcruxFPSB30"
      },
      "source": [
        "df['sq_feet'] = df['sq_feet'].replace('lot-', None, regex=True)"
      ],
      "execution_count": null,
      "outputs": []
    },
    {
      "cell_type": "code",
      "metadata": {
        "id": "5tg53VAuSXCt"
      },
      "source": [
        "df['sq_feet'] = df['sq_feet'].replace('--', None,regex=True)\n",
        "df['sq_feet'] = df['sq_feet'].replace('sqft-', None,regex=True)\n",
        "df['sq_feet'] = df['sq_feet'].replace(',','', regex=True)\n",
        "df['sq_feet'] = df['sq_feet'].replace('--', '',regex=True)\n",
        "#df['sq_feet'] = df['sq_feet'].replace('', None,regex=True)\n",
        "df['sq_feet'] = df['sq_feet'].where(pd.notnull(df['sq_feet']), None)"
      ],
      "execution_count": null,
      "outputs": []
    },
    {
      "cell_type": "code",
      "metadata": {
        "id": "ekWWAiXETKCt"
      },
      "source": [
        "df['sq_feet'] = df['sq_feet'].fillna(0)\n",
        "df['sq_feet'] = pd.to_numeric(df['sq_feet'])"
      ],
      "execution_count": null,
      "outputs": []
    },
    {
      "cell_type": "code",
      "metadata": {
        "id": "TO8MbqYAUAOo",
        "colab": {
          "base_uri": "https://localhost:8080/"
        },
        "outputId": "e467e204-650e-41e6-8fbc-437f51ff2230"
      },
      "source": [
        "df['sq_feet'].dtype"
      ],
      "execution_count": null,
      "outputs": [
        {
          "output_type": "execute_result",
          "data": {
            "text/plain": [
              "dtype('float64')"
            ]
          },
          "metadata": {
            "tags": []
          },
          "execution_count": 25
        }
      ]
    },
    {
      "cell_type": "code",
      "metadata": {
        "id": "OO8GdgvPwyIl"
      },
      "source": [
        "df[['street_name','city','state_zip_code']]=df['address'].str.split(',',n=2, expand=True)"
      ],
      "execution_count": null,
      "outputs": []
    },
    {
      "cell_type": "code",
      "metadata": {
        "id": "I8Y5MHVIwyIl"
      },
      "source": [
        "#drop unnecessary columns\n",
        "feature_drop = ['price','house_info', 'address']\n",
        "df1 = df.drop(feature_drop, axis=1)"
      ],
      "execution_count": null,
      "outputs": []
    },
    {
      "cell_type": "code",
      "metadata": {
        "id": "kEfH8GWzgfKt",
        "colab": {
          "base_uri": "https://localhost:8080/"
        },
        "outputId": "c2890230-49e4-4e83-a9d2-ecda43165045"
      },
      "source": [
        "print(list(df1.columns.values))"
      ],
      "execution_count": null,
      "outputs": [
        {
          "output_type": "stream",
          "text": [
            "['real_estate', 'last_updated', 'link', 'beds', 'baths', 'sq_feet', 'prices', 'street_name', 'city', 'state_zip_code']\n"
          ],
          "name": "stdout"
        }
      ]
    },
    {
      "cell_type": "code",
      "metadata": {
        "id": "2h5aKwPwwyIl"
      },
      "source": [
        "#reorder columns\n",
        "zillow_df = df1[['prices','beds','baths','sq_feet','street_name',\n",
        "       'city', 'state_zip_code', 'real_estate', 'last_updated','link']]"
      ],
      "execution_count": null,
      "outputs": []
    },
    {
      "cell_type": "code",
      "metadata": {
        "id": "jjQqgj59wyIl",
        "colab": {
          "base_uri": "https://localhost:8080/"
        },
        "outputId": "06276ce6-6628-458b-ba13-139165ab0f37"
      },
      "source": [
        "zillow_df.shape"
      ],
      "execution_count": null,
      "outputs": [
        {
          "output_type": "execute_result",
          "data": {
            "text/plain": [
              "(182, 10)"
            ]
          },
          "metadata": {
            "tags": []
          },
          "execution_count": 30
        }
      ]
    },
    {
      "cell_type": "markdown",
      "metadata": {
        "id": "kn7BTWJywyIm"
      },
      "source": [
        "# Data Cleansing"
      ]
    },
    {
      "cell_type": "code",
      "metadata": {
        "id": "BKPXDFhxwyIm"
      },
      "source": [
        "# Remove K and comma from prices\n",
        "# Convert to float data type\n",
        "zillow_df['prices'] = zillow_df['prices'].str.replace('K','')\n",
        "zillow_df['prices'] = zillow_df['prices'].str.replace(',','').astype(float)"
      ],
      "execution_count": null,
      "outputs": []
    },
    {
      "cell_type": "code",
      "metadata": {
        "id": "-IpaQV4GwyIn"
      },
      "source": [
        "# Replace Studio and comma with blank\n",
        "# Replace Studio,-- with \n",
        "zillow_df['beds']=zillow_df['beds'].replace('Studio,--', None)\n",
        "zillow_df['beds']=zillow_df['beds'].replace('--', None)\n",
        "zillow_df['beds']=zillow_df['beds'].replace('Studio,','',regex=True)\n",
        "zillow_df['beds']=zillow_df['beds'].replace(',', '',regex=True)\n",
        "zillow_df['beds']=zillow_df['beds'].replace('bd', '',regex=True)\n",
        "zillow_df['beds']=zillow_df['beds'].replace('Studio',None,regex=True)\n",
        "zillow_df['beds']=zillow_df['beds'].replace('s','',regex=True)\n",
        "zillow_df['beds']=zillow_df['beds'].replace('-- ', None)\n",
        "zillow_df['beds'] = zillow_df['beds'].where(pd.notnull(zillow_df['beds']), None)"
      ],
      "execution_count": null,
      "outputs": []
    },
    {
      "cell_type": "code",
      "metadata": {
        "id": "mvM0jtHhh1hH"
      },
      "source": [
        "zillow_df['beds'] = zillow_df['beds'].fillna(0)\n",
        "zillow_df['beds'] = pd.to_numeric(zillow_df['beds'])"
      ],
      "execution_count": null,
      "outputs": []
    },
    {
      "cell_type": "code",
      "metadata": {
        "id": "cEuiiC8fwyIn"
      },
      "source": [
        "# Extract the number of bathrooms\n",
        "zillow_df['baths'] = zillow_df['baths'].replace('--', None, regex=True)\n",
        "zillow_df['baths'] = zillow_df['baths'].replace('ba', '')\n",
        "zillow_df['baths'] = zillow_df['baths'].str.replace(',','')\n",
        "zillow_df['baths'] = zillow_df['baths'].str.split(' ',2, expand=True)"
      ],
      "execution_count": null,
      "outputs": []
    },
    {
      "cell_type": "code",
      "metadata": {
        "id": "dgNwkAtvjR0N"
      },
      "source": [
        "zillow_df['baths'] = zillow_df['baths'].fillna(0)\n",
        "zillow_df['baths'] = pd.to_numeric(zillow_df['baths'])"
      ],
      "execution_count": null,
      "outputs": []
    },
    {
      "cell_type": "code",
      "metadata": {
        "id": "b3pX64McpYI5"
      },
      "source": [
        "zillow_df = zillow_df.where(pd.notnull(zillow_df), None)"
      ],
      "execution_count": null,
      "outputs": []
    },
    {
      "cell_type": "code",
      "metadata": {
        "id": "kbHMo6y1wyIn",
        "colab": {
          "base_uri": "https://localhost:8080/"
        },
        "outputId": "73456c5e-07dc-4c3e-a595-43d49970cd19"
      },
      "source": [
        "zillow_df.info()"
      ],
      "execution_count": null,
      "outputs": [
        {
          "output_type": "stream",
          "text": [
            "<class 'pandas.core.frame.DataFrame'>\n",
            "RangeIndex: 182 entries, 0 to 181\n",
            "Data columns (total 10 columns):\n",
            " #   Column          Non-Null Count  Dtype  \n",
            "---  ------          --------------  -----  \n",
            " 0   prices          182 non-null    float64\n",
            " 1   beds            182 non-null    int64  \n",
            " 2   baths           182 non-null    int64  \n",
            " 3   sq_feet         182 non-null    float64\n",
            " 4   street_name     182 non-null    object \n",
            " 5   city            182 non-null    object \n",
            " 6   state_zip_code  182 non-null    object \n",
            " 7   real_estate     182 non-null    object \n",
            " 8   last_updated    182 non-null    object \n",
            " 9   link            182 non-null    object \n",
            "dtypes: float64(2), int64(2), object(6)\n",
            "memory usage: 14.3+ KB\n"
          ],
          "name": "stdout"
        }
      ]
    },
    {
      "cell_type": "code",
      "metadata": {
        "id": "cgBOeZ8kwyIo"
      },
      "source": [
        "zillow_df.to_csv('data.csv')"
      ],
      "execution_count": null,
      "outputs": []
    },
    {
      "cell_type": "code",
      "metadata": {
        "id": "-0Wbh6dswyIo"
      },
      "source": [
        "#Trim outliers custom_audience_ads dataset:\n",
        "starting_percentile = zillow_df['prices'].quantile(.02)\n",
        "ending_percentile = zillow_df['prices'].quantile(.98)\n",
        "outliers_df = zillow_df.loc[((zillow_df['prices'] <= starting_percentile) | (zillow_df['prices'] >= ending_percentile))]\n",
        "df_trimmed = zillow_df.loc[((zillow_df['prices'] > starting_percentile) & (zillow_df['prices'] < ending_percentile))]"
      ],
      "execution_count": null,
      "outputs": []
    },
    {
      "cell_type": "code",
      "metadata": {
        "id": "gyV3h1HgwyIo",
        "colab": {
          "base_uri": "https://localhost:8080/",
          "height": 297
        },
        "outputId": "59c52cf9-55a8-4212-a821-5f7849693596"
      },
      "source": [
        "zillow_df.describe()"
      ],
      "execution_count": null,
      "outputs": [
        {
          "output_type": "execute_result",
          "data": {
            "text/html": [
              "<div>\n",
              "<style scoped>\n",
              "    .dataframe tbody tr th:only-of-type {\n",
              "        vertical-align: middle;\n",
              "    }\n",
              "\n",
              "    .dataframe tbody tr th {\n",
              "        vertical-align: top;\n",
              "    }\n",
              "\n",
              "    .dataframe thead th {\n",
              "        text-align: right;\n",
              "    }\n",
              "</style>\n",
              "<table border=\"1\" class=\"dataframe\">\n",
              "  <thead>\n",
              "    <tr style=\"text-align: right;\">\n",
              "      <th></th>\n",
              "      <th>prices</th>\n",
              "      <th>beds</th>\n",
              "      <th>baths</th>\n",
              "      <th>sq_feet</th>\n",
              "    </tr>\n",
              "  </thead>\n",
              "  <tbody>\n",
              "    <tr>\n",
              "      <th>count</th>\n",
              "      <td>1.820000e+02</td>\n",
              "      <td>182.000000</td>\n",
              "      <td>182.000000</td>\n",
              "      <td>182.000000</td>\n",
              "    </tr>\n",
              "    <tr>\n",
              "      <th>mean</th>\n",
              "      <td>1.985313e+06</td>\n",
              "      <td>3.241758</td>\n",
              "      <td>13.730769</td>\n",
              "      <td>16162.576923</td>\n",
              "    </tr>\n",
              "    <tr>\n",
              "      <th>std</th>\n",
              "      <td>3.596261e+06</td>\n",
              "      <td>2.109388</td>\n",
              "      <td>90.425508</td>\n",
              "      <td>85963.862245</td>\n",
              "    </tr>\n",
              "    <tr>\n",
              "      <th>min</th>\n",
              "      <td>5.730000e+02</td>\n",
              "      <td>1.000000</td>\n",
              "      <td>0.000000</td>\n",
              "      <td>0.000000</td>\n",
              "    </tr>\n",
              "    <tr>\n",
              "      <th>25%</th>\n",
              "      <td>5.915000e+05</td>\n",
              "      <td>2.000000</td>\n",
              "      <td>2.000000</td>\n",
              "      <td>1219.500000</td>\n",
              "    </tr>\n",
              "    <tr>\n",
              "      <th>50%</th>\n",
              "      <td>7.490000e+05</td>\n",
              "      <td>3.000000</td>\n",
              "      <td>2.000000</td>\n",
              "      <td>1780.500000</td>\n",
              "    </tr>\n",
              "    <tr>\n",
              "      <th>75%</th>\n",
              "      <td>2.106250e+06</td>\n",
              "      <td>4.000000</td>\n",
              "      <td>3.000000</td>\n",
              "      <td>2710.500000</td>\n",
              "    </tr>\n",
              "    <tr>\n",
              "      <th>max</th>\n",
              "      <td>3.950000e+07</td>\n",
              "      <td>13.000000</td>\n",
              "      <td>954.000000</td>\n",
              "      <td>988829.000000</td>\n",
              "    </tr>\n",
              "  </tbody>\n",
              "</table>\n",
              "</div>"
            ],
            "text/plain": [
              "             prices        beds       baths        sq_feet\n",
              "count  1.820000e+02  182.000000  182.000000     182.000000\n",
              "mean   1.985313e+06    3.241758   13.730769   16162.576923\n",
              "std    3.596261e+06    2.109388   90.425508   85963.862245\n",
              "min    5.730000e+02    1.000000    0.000000       0.000000\n",
              "25%    5.915000e+05    2.000000    2.000000    1219.500000\n",
              "50%    7.490000e+05    3.000000    2.000000    1780.500000\n",
              "75%    2.106250e+06    4.000000    3.000000    2710.500000\n",
              "max    3.950000e+07   13.000000  954.000000  988829.000000"
            ]
          },
          "metadata": {
            "tags": []
          },
          "execution_count": 43
        }
      ]
    },
    {
      "cell_type": "code",
      "metadata": {
        "id": "gsAQiQ7F_7WF"
      },
      "source": [
        "zillow_df = zillow_df[zillow_df['beds'] < 100]\n",
        "zillow_df = zillow_df[zillow_df['baths'] < 200]\n",
        "zillow_df = zillow_df[zillow_df['sq_feet'] < 100000]"
      ],
      "execution_count": null,
      "outputs": []
    },
    {
      "cell_type": "code",
      "metadata": {
        "id": "YKlfBwzjFToh",
        "colab": {
          "base_uri": "https://localhost:8080/",
          "height": 289
        },
        "outputId": "8030e171-76fc-481f-d8bb-40590573cb9f"
      },
      "source": [
        "zillow_df.head()"
      ],
      "execution_count": null,
      "outputs": [
        {
          "output_type": "execute_result",
          "data": {
            "text/html": [
              "<div>\n",
              "<style scoped>\n",
              "    .dataframe tbody tr th:only-of-type {\n",
              "        vertical-align: middle;\n",
              "    }\n",
              "\n",
              "    .dataframe tbody tr th {\n",
              "        vertical-align: top;\n",
              "    }\n",
              "\n",
              "    .dataframe thead th {\n",
              "        text-align: right;\n",
              "    }\n",
              "</style>\n",
              "<table border=\"1\" class=\"dataframe\">\n",
              "  <thead>\n",
              "    <tr style=\"text-align: right;\">\n",
              "      <th></th>\n",
              "      <th>prices</th>\n",
              "      <th>beds</th>\n",
              "      <th>baths</th>\n",
              "      <th>sq_feet</th>\n",
              "      <th>street_name</th>\n",
              "      <th>city</th>\n",
              "      <th>state_zip_code</th>\n",
              "      <th>real_estate</th>\n",
              "      <th>last_updated</th>\n",
              "      <th>link</th>\n",
              "    </tr>\n",
              "  </thead>\n",
              "  <tbody>\n",
              "    <tr>\n",
              "      <th>0</th>\n",
              "      <td>995000.0</td>\n",
              "      <td>4</td>\n",
              "      <td>4</td>\n",
              "      <td>0.0</td>\n",
              "      <td>303 E 57th St #37DE</td>\n",
              "      <td>New York</td>\n",
              "      <td>NY 10022</td>\n",
              "      <td>LISTING BY: DOUGLAS ELLIMAN (212-891-7674)</td>\n",
              "      <td>1 day on Zillow</td>\n",
              "      <td>https://www.zillow.com/homedetails/303-E-57th-...</td>\n",
              "    </tr>\n",
              "    <tr>\n",
              "      <th>1</th>\n",
              "      <td>675000.0</td>\n",
              "      <td>1</td>\n",
              "      <td>1</td>\n",
              "      <td>0.0</td>\n",
              "      <td>333 E 53rd St APT 4G</td>\n",
              "      <td>New York</td>\n",
              "      <td>NY 10022</td>\n",
              "      <td>LISTING BY: SOTHEBY'S INTERNATIONAL REALTY (21...</td>\n",
              "      <td>1 day on Zillow</td>\n",
              "      <td>https://www.zillow.com/homedetails/333-E-53rd-...</td>\n",
              "    </tr>\n",
              "    <tr>\n",
              "      <th>3</th>\n",
              "      <td>4850000.0</td>\n",
              "      <td>2</td>\n",
              "      <td>4</td>\n",
              "      <td>3420.0</td>\n",
              "      <td>405 E 50th St</td>\n",
              "      <td>New York</td>\n",
              "      <td>NY 10022</td>\n",
              "      <td>LISTING BY: VIOLETA GALE COHN, LREB (646-307-3...</td>\n",
              "      <td>2 days on Zillow</td>\n",
              "      <td>https://www.zillow.com/homedetails/405-E-50th-...</td>\n",
              "    </tr>\n",
              "    <tr>\n",
              "      <th>4</th>\n",
              "      <td>725000.0</td>\n",
              "      <td>1</td>\n",
              "      <td>1</td>\n",
              "      <td>825.0</td>\n",
              "      <td>60 Sutton Pl S APT 7AN</td>\n",
              "      <td>New York</td>\n",
              "      <td>NY 10022</td>\n",
              "      <td>LISTING BY: BROWN HARRIS STEVENS (212-317-7855)</td>\n",
              "      <td>2 days on Zillow</td>\n",
              "      <td>https://www.zillow.com/homedetails/60-Sutton-P...</td>\n",
              "    </tr>\n",
              "    <tr>\n",
              "      <th>5</th>\n",
              "      <td>500000.0</td>\n",
              "      <td>1</td>\n",
              "      <td>1</td>\n",
              "      <td>93153.0</td>\n",
              "      <td>227 E 57th St APT 7D</td>\n",
              "      <td>New York</td>\n",
              "      <td>NY 10022</td>\n",
              "      <td>LISTING BY: WEICHERT PROPERTIES - SOHO (860-49...</td>\n",
              "      <td>2 days on Zillow</td>\n",
              "      <td>https://www.zillow.com/homedetails/227-E-57th-...</td>\n",
              "    </tr>\n",
              "  </tbody>\n",
              "</table>\n",
              "</div>"
            ],
            "text/plain": [
              "      prices  ...                                               link\n",
              "0   995000.0  ...  https://www.zillow.com/homedetails/303-E-57th-...\n",
              "1   675000.0  ...  https://www.zillow.com/homedetails/333-E-53rd-...\n",
              "3  4850000.0  ...  https://www.zillow.com/homedetails/405-E-50th-...\n",
              "4   725000.0  ...  https://www.zillow.com/homedetails/60-Sutton-P...\n",
              "5   500000.0  ...  https://www.zillow.com/homedetails/227-E-57th-...\n",
              "\n",
              "[5 rows x 10 columns]"
            ]
          },
          "metadata": {
            "tags": []
          },
          "execution_count": 127
        }
      ]
    },
    {
      "cell_type": "markdown",
      "metadata": {
        "id": "1P-2b3A5wyIp"
      },
      "source": [
        "# Data Visualization"
      ]
    },
    {
      "cell_type": "markdown",
      "metadata": {
        "id": "E-ZcmyJCTYmN"
      },
      "source": [
        "Baths"
      ]
    },
    {
      "cell_type": "code",
      "metadata": {
        "id": "ywaGQgVNwyIp",
        "colab": {
          "base_uri": "https://localhost:8080/",
          "height": 312
        },
        "outputId": "0b1615c1-f8ab-4375-8543-fc1242f20a0d"
      },
      "source": [
        "zillow_df['baths'].value_counts().plot.barh()\n",
        "plt.title('Distribution of Number of Bathrooms')\n",
        "plt.xlabel('Frequency')\n",
        "plt.ylabel('Number of Bathrooms')"
      ],
      "execution_count": null,
      "outputs": [
        {
          "output_type": "execute_result",
          "data": {
            "text/plain": [
              "Text(0, 0.5, 'Number of Bathrooms')"
            ]
          },
          "metadata": {
            "tags": []
          },
          "execution_count": 45
        },
        {
          "output_type": "display_data",
          "data": {
            "image/png": "[encoded data removed]",
            "text/plain": [
              "<Figure size 432x288 with 1 Axes>"
            ]
          },
          "metadata": {
            "tags": [],
            "needs_background": "light"
          }
        }
      ]
    },
    {
      "cell_type": "code",
      "metadata": {
        "id": "xyF50826Tf9E",
        "colab": {
          "base_uri": "https://localhost:8080/",
          "height": 312
        },
        "outputId": "17e2806f-3bf7-4655-e3a4-8e77bb93aff3"
      },
      "source": [
        "zillow_df['beds'].value_counts().plot.barh()\n",
        "plt.title('Distribution of Number of Bedrooms')\n",
        "plt.xlabel('Frequency')\n",
        "plt.ylabel('Number of Bedrooms')"
      ],
      "execution_count": null,
      "outputs": [
        {
          "output_type": "execute_result",
          "data": {
            "text/plain": [
              "Text(0, 0.5, 'Number of Bedrooms')"
            ]
          },
          "metadata": {
            "tags": []
          },
          "execution_count": 46
        },
        {
          "output_type": "display_data",
          "data": {
            "image/png": "[encoded data removed]",
            "text/plain": [
              "<Figure size 432x288 with 1 Axes>"
            ]
          },
          "metadata": {
            "tags": [],
            "needs_background": "light"
          }
        }
      ]
    },
    {
      "cell_type": "markdown",
      "metadata": {
        "id": "lt_NlO5oTpFE"
      },
      "source": [
        "City"
      ]
    },
    {
      "cell_type": "code",
      "metadata": {
        "id": "BJz1xJs98OAo",
        "colab": {
          "base_uri": "https://localhost:8080/",
          "height": 421
        },
        "outputId": "1d00ce26-77c8-4e19-abac-6a9392e4cf2d"
      },
      "source": [
        "plt.figure(figsize=(12,5))\n",
        "sns.countplot(zillow_df['city'])\n",
        "plt.title('Distribution of Cities')\n",
        "plt.xlabel('count')\n",
        "plt.ylabel('Cities')"
      ],
      "execution_count": null,
      "outputs": [
        {
          "output_type": "stream",
          "text": [
            "/usr/local/lib/python3.6/dist-packages/seaborn/_decorators.py:43: FutureWarning: Pass the following variable as a keyword arg: x. From version 0.12, the only valid positional argument will be `data`, and passing other arguments without an explicit keyword will result in an error or misinterpretation.\n",
            "  FutureWarning\n"
          ],
          "name": "stderr"
        },
        {
          "output_type": "execute_result",
          "data": {
            "text/plain": [
              "Text(0, 0.5, 'Cities')"
            ]
          },
          "metadata": {
            "tags": []
          },
          "execution_count": 47
        },
        {
          "output_type": "display_data",
          "data": {
            "image/png": "[encoded data removed]",
            "text/plain": [
              "<Figure size 864x360 with 1 Axes>"
            ]
          },
          "metadata": {
            "tags": [],
            "needs_background": "light"
          }
        }
      ]
    },
    {
      "cell_type": "markdown",
      "metadata": {
        "id": "WzrWSQBPTq7i"
      },
      "source": [
        "Real Estate"
      ]
    },
    {
      "cell_type": "code",
      "metadata": {
        "id": "WOXh-w6R7502"
      },
      "source": [
        "# Listings distribution\n",
        "grouped_df =zillow_df.groupby(by='real_estate',as_index=False)['street_name'].count()\n",
        "sorted_grouped_df =grouped_df.sort_values(by='street_name',ascending=False)\n",
        "top10=sorted_grouped_df.iloc[0:10]"
      ],
      "execution_count": null,
      "outputs": []
    },
    {
      "cell_type": "code",
      "metadata": {
        "id": "d3TWGYvn-Uya",
        "colab": {
          "base_uri": "https://localhost:8080/",
          "height": 359
        },
        "outputId": "fe0a051d-76e2-4244-e94f-507090721440"
      },
      "source": [
        "top10"
      ],
      "execution_count": null,
      "outputs": [
        {
          "output_type": "execute_result",
          "data": {
            "text/html": [
              "<div>\n",
              "<style scoped>\n",
              "    .dataframe tbody tr th:only-of-type {\n",
              "        vertical-align: middle;\n",
              "    }\n",
              "\n",
              "    .dataframe tbody tr th {\n",
              "        vertical-align: top;\n",
              "    }\n",
              "\n",
              "    .dataframe thead th {\n",
              "        text-align: right;\n",
              "    }\n",
              "</style>\n",
              "<table border=\"1\" class=\"dataframe\">\n",
              "  <thead>\n",
              "    <tr style=\"text-align: right;\">\n",
              "      <th></th>\n",
              "      <th>real_estate</th>\n",
              "      <th>street_name</th>\n",
              "    </tr>\n",
              "  </thead>\n",
              "  <tbody>\n",
              "    <tr>\n",
              "      <th>31</th>\n",
              "      <td>LISTING BY: COMPASS</td>\n",
              "      <td>9</td>\n",
              "    </tr>\n",
              "    <tr>\n",
              "      <th>93</th>\n",
              "      <td>LISTING BY: KEYSTONE REALTY USA CORP (347-419-...</td>\n",
              "      <td>5</td>\n",
              "    </tr>\n",
              "    <tr>\n",
              "      <th>76</th>\n",
              "      <td>LISTING BY: EXP REALTY</td>\n",
              "      <td>4</td>\n",
              "    </tr>\n",
              "    <tr>\n",
              "      <th>70</th>\n",
              "      <td>LISTING BY: DOUGLAS ELLIMAN (917-873-9304)</td>\n",
              "      <td>4</td>\n",
              "    </tr>\n",
              "    <tr>\n",
              "      <th>69</th>\n",
              "      <td>LISTING BY: DOUGLAS ELLIMAN (718-840-2033)</td>\n",
              "      <td>3</td>\n",
              "    </tr>\n",
              "    <tr>\n",
              "      <th>123</th>\n",
              "      <td>LISTING BY: ROCKAWAY PROPERTIES</td>\n",
              "      <td>3</td>\n",
              "    </tr>\n",
              "    <tr>\n",
              "      <th>131</th>\n",
              "      <td>LISTING BY: TABAK REAL ESTATE (646-246-5381)</td>\n",
              "      <td>2</td>\n",
              "    </tr>\n",
              "    <tr>\n",
              "      <th>80</th>\n",
              "      <td>LISTING BY: FILLMORE REAL ESTATE LTD (718-377-...</td>\n",
              "      <td>2</td>\n",
              "    </tr>\n",
              "    <tr>\n",
              "      <th>64</th>\n",
              "      <td>LISTING BY: DOUGLAS ELLIMAN (212-891-7284)</td>\n",
              "      <td>2</td>\n",
              "    </tr>\n",
              "    <tr>\n",
              "      <th>90</th>\n",
              "      <td>LISTING BY: KELLER WILLIAMS REALTY</td>\n",
              "      <td>2</td>\n",
              "    </tr>\n",
              "  </tbody>\n",
              "</table>\n",
              "</div>"
            ],
            "text/plain": [
              "                                           real_estate  street_name\n",
              "31                                 LISTING BY: COMPASS            9\n",
              "93   LISTING BY: KEYSTONE REALTY USA CORP (347-419-...            5\n",
              "76                              LISTING BY: EXP REALTY            4\n",
              "70          LISTING BY: DOUGLAS ELLIMAN (917-873-9304)            4\n",
              "69          LISTING BY: DOUGLAS ELLIMAN (718-840-2033)            3\n",
              "123                    LISTING BY: ROCKAWAY PROPERTIES            3\n",
              "131       LISTING BY: TABAK REAL ESTATE (646-246-5381)            2\n",
              "80   LISTING BY: FILLMORE REAL ESTATE LTD (718-377-...            2\n",
              "64          LISTING BY: DOUGLAS ELLIMAN (212-891-7284)            2\n",
              "90                  LISTING BY: KELLER WILLIAMS REALTY            2"
            ]
          },
          "metadata": {
            "tags": []
          },
          "execution_count": 49
        }
      ]
    },
    {
      "cell_type": "code",
      "metadata": {
        "id": "QzxD1L2F9GoP",
        "colab": {
          "base_uri": "https://localhost:8080/",
          "height": 424
        },
        "outputId": "f08a4131-18cc-4a31-dd77-c56aeca7ea00"
      },
      "source": [
        "plt.figure(figsize=(20,5))\n",
        "sns.barplot('real_estate','street_name',data=top10)\n",
        "plt.title('Top 10 Real Estates',size=15)"
      ],
      "execution_count": null,
      "outputs": [
        {
          "output_type": "stream",
          "text": [
            "/usr/local/lib/python3.6/dist-packages/seaborn/_decorators.py:43: FutureWarning: Pass the following variables as keyword args: x, y. From version 0.12, the only valid positional argument will be `data`, and passing other arguments without an explicit keyword will result in an error or misinterpretation.\n",
            "  FutureWarning\n"
          ],
          "name": "stderr"
        },
        {
          "output_type": "execute_result",
          "data": {
            "text/plain": [
              "Text(0.5, 1.0, 'Top 10 Real Estates')"
            ]
          },
          "metadata": {
            "tags": []
          },
          "execution_count": 50
        },
        {
          "output_type": "display_data",
          "data": {
            "image/png": "[encoded data removed]",
            "text/plain": [
              "<Figure size 1440x360 with 1 Axes>"
            ]
          },
          "metadata": {
            "tags": [],
            "needs_background": "light"
          }
        }
      ]
    },
    {
      "cell_type": "markdown",
      "metadata": {
        "id": "v7jEcs7VT1Si"
      },
      "source": [
        "Boxplots - prices, square feet, beds, baths"
      ]
    },
    {
      "cell_type": "code",
      "metadata": {
        "id": "SINocUc1wyIq",
        "colab": {
          "base_uri": "https://localhost:8080/",
          "height": 366
        },
        "outputId": "afe73706-660d-46d2-ad3c-d310ef221c23"
      },
      "source": [
        "sns.boxplot(zillow_df['prices'])\n",
        "plt.title('Boxplot of Prices')\n",
        "plt.xlabel('Prices (10 Millions)')"
      ],
      "execution_count": null,
      "outputs": [
        {
          "output_type": "stream",
          "text": [
            "/usr/local/lib/python3.6/dist-packages/seaborn/_decorators.py:43: FutureWarning: Pass the following variable as a keyword arg: x. From version 0.12, the only valid positional argument will be `data`, and passing other arguments without an explicit keyword will result in an error or misinterpretation.\n",
            "  FutureWarning\n"
          ],
          "name": "stderr"
        },
        {
          "output_type": "execute_result",
          "data": {
            "text/plain": [
              "Text(0.5, 0, 'Prices (10 Millions)')"
            ]
          },
          "metadata": {
            "tags": []
          },
          "execution_count": 51
        },
        {
          "output_type": "display_data",
          "data": {
            "image/png": "[encoded data removed]",
            "text/plain": [
              "<Figure size 432x288 with 1 Axes>"
            ]
          },
          "metadata": {
            "tags": [],
            "needs_background": "light"
          }
        }
      ]
    },
    {
      "cell_type": "code",
      "metadata": {
        "id": "AXtUhkDKwyIq",
        "colab": {
          "base_uri": "https://localhost:8080/",
          "height": 366
        },
        "outputId": "0ccf30fc-75b9-4f9e-9cd8-0964fe479951"
      },
      "source": [
        "sns.boxplot(zillow_df['sq_feet'])\n",
        "plt.title('Boxplot of Square Feet')\n",
        "plt.xlabel('Squre Feet')"
      ],
      "execution_count": null,
      "outputs": [
        {
          "output_type": "stream",
          "text": [
            "/usr/local/lib/python3.6/dist-packages/seaborn/_decorators.py:43: FutureWarning: Pass the following variable as a keyword arg: x. From version 0.12, the only valid positional argument will be `data`, and passing other arguments without an explicit keyword will result in an error or misinterpretation.\n",
            "  FutureWarning\n"
          ],
          "name": "stderr"
        },
        {
          "output_type": "execute_result",
          "data": {
            "text/plain": [
              "Text(0.5, 0, 'Squre Feet')"
            ]
          },
          "metadata": {
            "tags": []
          },
          "execution_count": 52
        },
        {
          "output_type": "display_data",
          "data": {
            "image/png": "[encoded data removed]",
            "text/plain": [
              "<Figure size 432x288 with 1 Axes>"
            ]
          },
          "metadata": {
            "tags": [],
            "needs_background": "light"
          }
        }
      ]
    },
    {
      "cell_type": "code",
      "metadata": {
        "id": "TagPOy3cT9-E",
        "colab": {
          "base_uri": "https://localhost:8080/",
          "height": 366
        },
        "outputId": "902e2791-7623-4e0c-dee7-3d410378e4ef"
      },
      "source": [
        "sns.boxplot(zillow_df['baths'])\n",
        "plt.title('Boxplot of Bathrooms')\n",
        "plt.xlabel('baths')"
      ],
      "execution_count": null,
      "outputs": [
        {
          "output_type": "stream",
          "text": [
            "/usr/local/lib/python3.6/dist-packages/seaborn/_decorators.py:43: FutureWarning: Pass the following variable as a keyword arg: x. From version 0.12, the only valid positional argument will be `data`, and passing other arguments without an explicit keyword will result in an error or misinterpretation.\n",
            "  FutureWarning\n"
          ],
          "name": "stderr"
        },
        {
          "output_type": "execute_result",
          "data": {
            "text/plain": [
              "Text(0.5, 0, 'baths')"
            ]
          },
          "metadata": {
            "tags": []
          },
          "execution_count": 53
        },
        {
          "output_type": "display_data",
          "data": {
            "image/png": "[encoded data removed]",
            "text/plain": [
              "<Figure size 432x288 with 1 Axes>"
            ]
          },
          "metadata": {
            "tags": [],
            "needs_background": "light"
          }
        }
      ]
    },
    {
      "cell_type": "code",
      "metadata": {
        "id": "oLEqqvH0wyIr",
        "colab": {
          "base_uri": "https://localhost:8080/",
          "height": 366
        },
        "outputId": "bdd82540-40c4-4326-d7d8-894294f891a6"
      },
      "source": [
        "sns.boxplot(zillow_df['beds'])\n",
        "plt.title('Boxplot of Beds')\n",
        "plt.xlabel('beds')"
      ],
      "execution_count": null,
      "outputs": [
        {
          "output_type": "stream",
          "text": [
            "/usr/local/lib/python3.6/dist-packages/seaborn/_decorators.py:43: FutureWarning: Pass the following variable as a keyword arg: x. From version 0.12, the only valid positional argument will be `data`, and passing other arguments without an explicit keyword will result in an error or misinterpretation.\n",
            "  FutureWarning\n"
          ],
          "name": "stderr"
        },
        {
          "output_type": "execute_result",
          "data": {
            "text/plain": [
              "Text(0.5, 0, 'beds')"
            ]
          },
          "metadata": {
            "tags": []
          },
          "execution_count": 54
        },
        {
          "output_type": "display_data",
          "data": {
            "image/png": "[encoded data removed]",
            "text/plain": [
              "<Figure size 432x288 with 1 Axes>"
            ]
          },
          "metadata": {
            "tags": [],
            "needs_background": "light"
          }
        }
      ]
    },
    {
      "cell_type": "code",
      "metadata": {
        "id": "Hw83z0m0nbpD",
        "colab": {
          "base_uri": "https://localhost:8080/",
          "height": 743
        },
        "outputId": "2428f5f7-28eb-40e7-c5ae-a25c6d79524c"
      },
      "source": [
        "sns.pairplot(zillow_df[['prices', 'beds', 'baths', 'sq_feet']], diag_kind='kde')"
      ],
      "execution_count": null,
      "outputs": [
        {
          "output_type": "execute_result",
          "data": {
            "text/plain": [
              "<seaborn.axisgrid.PairGrid at 0x7fca9e154470>"
            ]
          },
          "metadata": {
            "tags": []
          },
          "execution_count": 55
        },
        {
          "output_type": "display_data",
          "data": {
            "image/png": "[encoded data removed]",
            "text/plain": [
              "<Figure size 720x720 with 20 Axes>"
            ]
          },
          "metadata": {
            "tags": [],
            "needs_background": "light"
          }
        }
      ]
    },
    {
      "cell_type": "code",
      "metadata": {
        "id": "vLWTU3aWwyIr"
      },
      "source": [
        "df=zillow_df.groupby(['real_estate'])['beds'].mean().to_frame().rename(columns={'id':'count'}).reset_index()"
      ],
      "execution_count": null,
      "outputs": []
    },
    {
      "cell_type": "code",
      "metadata": {
        "id": "MmYHc0fLwyIr"
      },
      "source": [
        "df = df[df['real_estate'] != '/']"
      ],
      "execution_count": null,
      "outputs": []
    },
    {
      "cell_type": "code",
      "metadata": {
        "id": "YoUJ6V9JL-pF"
      },
      "source": [
        "sorted_grouped_df = df.sort_values(by='beds',ascending=False)\n",
        "top10=sorted_grouped_df.iloc[0:10]"
      ],
      "execution_count": null,
      "outputs": []
    },
    {
      "cell_type": "code",
      "metadata": {
        "id": "skQJLyQlMD8V",
        "colab": {
          "base_uri": "https://localhost:8080/",
          "height": 359
        },
        "outputId": "ad3057af-7894-45e7-8d46-3bef6c33ab86"
      },
      "source": [
        "top10"
      ],
      "execution_count": null,
      "outputs": [
        {
          "output_type": "execute_result",
          "data": {
            "text/html": [
              "<div>\n",
              "<style scoped>\n",
              "    .dataframe tbody tr th:only-of-type {\n",
              "        vertical-align: middle;\n",
              "    }\n",
              "\n",
              "    .dataframe tbody tr th {\n",
              "        vertical-align: top;\n",
              "    }\n",
              "\n",
              "    .dataframe thead th {\n",
              "        text-align: right;\n",
              "    }\n",
              "</style>\n",
              "<table border=\"1\" class=\"dataframe\">\n",
              "  <thead>\n",
              "    <tr style=\"text-align: right;\">\n",
              "      <th></th>\n",
              "      <th>real_estate</th>\n",
              "      <th>beds</th>\n",
              "    </tr>\n",
              "  </thead>\n",
              "  <tbody>\n",
              "    <tr>\n",
              "      <th>138</th>\n",
              "      <td>LISTING BY: WILLIAM RAVEIS REAL ESTATE (202-30...</td>\n",
              "      <td>13.0</td>\n",
              "    </tr>\n",
              "    <tr>\n",
              "      <th>74</th>\n",
              "      <td>LISTING BY: EQUITY SMART REALTY INC (310-499-8...</td>\n",
              "      <td>11.0</td>\n",
              "    </tr>\n",
              "    <tr>\n",
              "      <th>16</th>\n",
              "      <td>LISTING BY: BROWN HARRIS STEVENS (212-588-5644)</td>\n",
              "      <td>10.0</td>\n",
              "    </tr>\n",
              "    <tr>\n",
              "      <th>98</th>\n",
              "      <td>LISTING BY: MENORA HOME MANAGEMENT CORP (718-8...</td>\n",
              "      <td>9.0</td>\n",
              "    </tr>\n",
              "    <tr>\n",
              "      <th>100</th>\n",
              "      <td>LISTING BY: MOTIVATED ACCESS REALTY CORP.</td>\n",
              "      <td>9.0</td>\n",
              "    </tr>\n",
              "    <tr>\n",
              "      <th>89</th>\n",
              "      <td>LISTING BY: KCB 1 REALTY LLC</td>\n",
              "      <td>9.0</td>\n",
              "    </tr>\n",
              "    <tr>\n",
              "      <th>39</th>\n",
              "      <td>LISTING BY: CONTINENTAL REAL ESTATE GROUP</td>\n",
              "      <td>9.0</td>\n",
              "    </tr>\n",
              "    <tr>\n",
              "      <th>109</th>\n",
              "      <td>LISTING BY: PENA LOUIS B (347-985-0711)</td>\n",
              "      <td>9.0</td>\n",
              "    </tr>\n",
              "    <tr>\n",
              "      <th>10</th>\n",
              "      <td>LISTING BY: BRIGHTSTONE REALTY LLC</td>\n",
              "      <td>8.0</td>\n",
              "    </tr>\n",
              "    <tr>\n",
              "      <th>97</th>\n",
              "      <td>LISTING BY: MAYJAY PROPERTY MANAGEMENT</td>\n",
              "      <td>7.0</td>\n",
              "    </tr>\n",
              "  </tbody>\n",
              "</table>\n",
              "</div>"
            ],
            "text/plain": [
              "                                           real_estate  beds\n",
              "138  LISTING BY: WILLIAM RAVEIS REAL ESTATE (202-30...  13.0\n",
              "74   LISTING BY: EQUITY SMART REALTY INC (310-499-8...  11.0\n",
              "16     LISTING BY: BROWN HARRIS STEVENS (212-588-5644)  10.0\n",
              "98   LISTING BY: MENORA HOME MANAGEMENT CORP (718-8...   9.0\n",
              "100          LISTING BY: MOTIVATED ACCESS REALTY CORP.   9.0\n",
              "89                        LISTING BY: KCB 1 REALTY LLC   9.0\n",
              "39           LISTING BY: CONTINENTAL REAL ESTATE GROUP   9.0\n",
              "109            LISTING BY: PENA LOUIS B (347-985-0711)   9.0\n",
              "10                  LISTING BY: BRIGHTSTONE REALTY LLC   8.0\n",
              "97              LISTING BY: MAYJAY PROPERTY MANAGEMENT   7.0"
            ]
          },
          "metadata": {
            "tags": []
          },
          "execution_count": 59
        }
      ]
    },
    {
      "cell_type": "code",
      "metadata": {
        "id": "frgLt1YAwyIr",
        "colab": {
          "base_uri": "https://localhost:8080/",
          "height": 476
        },
        "outputId": "edfe0f91-c415-40ab-c8d5-3e6a4da60780"
      },
      "source": [
        "plt.figure(figsize=(12,6))\n",
        "sns.barplot('real_estate','beds',data=top10)\n",
        "plt.title('Top 10 Distribution of Type of Houses in Average')"
      ],
      "execution_count": null,
      "outputs": [
        {
          "output_type": "stream",
          "text": [
            "/usr/local/lib/python3.6/dist-packages/seaborn/_decorators.py:43: FutureWarning: Pass the following variables as keyword args: x, y. From version 0.12, the only valid positional argument will be `data`, and passing other arguments without an explicit keyword will result in an error or misinterpretation.\n",
            "  FutureWarning\n"
          ],
          "name": "stderr"
        },
        {
          "output_type": "execute_result",
          "data": {
            "text/plain": [
              "Text(0.5, 1.0, 'Top 10 Distribution of Type of Houses in Average')"
            ]
          },
          "metadata": {
            "tags": []
          },
          "execution_count": 60
        },
        {
          "output_type": "display_data",
          "data": {
            "image/png": "[encoded data removed]",
            "text/plain": [
              "<Figure size 864x432 with 1 Axes>"
            ]
          },
          "metadata": {
            "tags": [],
            "needs_background": "light"
          }
        }
      ]
    },
    {
      "cell_type": "code",
      "metadata": {
        "id": "RC0xMztkwyIs",
        "colab": {
          "base_uri": "https://localhost:8080/",
          "height": 269
        },
        "outputId": "3ba35b76-ceab-4fe7-a26f-3cda902c2609"
      },
      "source": [
        "sns.heatmap(zillow_df[['prices','beds','baths']].corr(), annot=True, cmap = 'Reds')\n",
        "plt.show()"
      ],
      "execution_count": null,
      "outputs": [
        {
          "output_type": "display_data",
          "data": {
            "image/png": "[encoded data removed]",
            "text/plain": [
              "<Figure size 432x288 with 2 Axes>"
            ]
          },
          "metadata": {
            "tags": [],
            "needs_background": "light"
          }
        }
      ]
    },
    {
      "cell_type": "markdown",
      "metadata": {
        "id": "_jhcKQOkwyIs"
      },
      "source": [
        "# Database Setup"
      ]
    },
    {
      "cell_type": "code",
      "metadata": {
        "id": "_yr7mjMVZ2_c"
      },
      "source": [
        "try:\n",
        "  mydb = mysql.connector.connect(user='root5', password='!GoodPassword123!',\n",
        "                        host='34.123.115.192',\n",
        "                        port=3306\n",
        "                        )\n",
        "except:\n",
        "  print(\"Error in fetching ip...  snoozing for 30 seconds and retrying\")\n",
        "  time.sleep(3)"
      ],
      "execution_count": null,
      "outputs": []
    },
    {
      "cell_type": "code",
      "metadata": {
        "id": "Po95RetI-H5s",
        "colab": {
          "base_uri": "https://localhost:8080/",
          "height": 52
        },
        "outputId": "02cb9cdb-9f01-4bf1-cb28-84f85e989b54"
      },
      "source": [
        "'''\n",
        "mydb = mysql.connector.connect(user='root5', password='!GoodPassword123!',\n",
        "                          host='34.123.115.192',\n",
        "                          port=3306\n",
        "                          )\n",
        "'''"
      ],
      "execution_count": null,
      "outputs": [
        {
          "output_type": "execute_result",
          "data": {
            "application/vnd.google.colaboratory.intrinsic+json": {
              "type": "string"
            },
            "text/plain": [
              "\"\\nmydb = mysql.connector.connect(user='root5', password='!GoodPassword123!',\\n                          host='34.123.115.192',\\n                          port=3306\\n                          )\\n\""
            ]
          },
          "metadata": {
            "tags": []
          },
          "execution_count": 63
        }
      ]
    },
    {
      "cell_type": "code",
      "metadata": {
        "id": "SrGh-OQd-gNM"
      },
      "source": [
        "mycursor = mydb.cursor()"
      ],
      "execution_count": null,
      "outputs": []
    },
    {
      "cell_type": "code",
      "metadata": {
        "id": "Cl80RZbJ-95S",
        "colab": {
          "base_uri": "https://localhost:8080/"
        },
        "outputId": "a99ac701-9abd-4b2b-a19d-324b7c47e073"
      },
      "source": [
        "# check if connection is successful or not\n",
        "if (mydb):\n",
        "  print('Connection Successful')\n",
        "else:\n",
        "  print('Unsuccessful')\n",
        "  "
      ],
      "execution_count": null,
      "outputs": [
        {
          "output_type": "stream",
          "text": [
            "Connection Successful\n"
          ],
          "name": "stdout"
        }
      ]
    },
    {
      "cell_type": "code",
      "metadata": {
        "id": "thxpdnoubWID",
        "colab": {
          "base_uri": "https://localhost:8080/"
        },
        "outputId": "f74904b2-1ade-4a5b-82a5-f59b3ad2ef01"
      },
      "source": [
        "mydb"
      ],
      "execution_count": null,
      "outputs": [
        {
          "output_type": "execute_result",
          "data": {
            "text/plain": [
              "<mysql.connector.connection.MySQLConnection at 0x7fca9de62080>"
            ]
          },
          "metadata": {
            "tags": []
          },
          "execution_count": 66
        }
      ]
    },
    {
      "cell_type": "code",
      "metadata": {
        "id": "-jKvcsC6_9YA",
        "colab": {
          "base_uri": "https://localhost:8080/"
        },
        "outputId": "fc6d3e47-5523-4360-d091-72654e430792"
      },
      "source": [
        "try:\n",
        "  mycursor.execute('Create database zillowdb;')\n",
        "except:\n",
        "  print('Database exists.')"
      ],
      "execution_count": null,
      "outputs": [
        {
          "output_type": "stream",
          "text": [
            "Database exists.\n"
          ],
          "name": "stdout"
        }
      ]
    },
    {
      "cell_type": "code",
      "metadata": {
        "id": "rA7EdcFb-pz4"
      },
      "source": [
        "mycursor.execute('Show databases')"
      ],
      "execution_count": null,
      "outputs": []
    },
    {
      "cell_type": "code",
      "metadata": {
        "id": "7WIUKzyF-4Uc",
        "colab": {
          "base_uri": "https://localhost:8080/"
        },
        "outputId": "a539f6dc-6ce4-4ae6-8bb4-9c8651d9e2ac"
      },
      "source": [
        "for db in mycursor:\n",
        "  print(db)"
      ],
      "execution_count": null,
      "outputs": [
        {
          "output_type": "stream",
          "text": [
            "('information_schema',)\n",
            "('mysql',)\n",
            "('performance_schema',)\n",
            "('sys',)\n",
            "('test_schema',)\n",
            "('zillowdb',)\n"
          ],
          "name": "stdout"
        }
      ]
    },
    {
      "cell_type": "code",
      "metadata": {
        "id": "-2kDm3NO_grG"
      },
      "source": [
        "# point to the right database\n",
        "mydb = mysql.connector.connect(user='root5', password='!GoodPassword123!',\n",
        "                          host='34.123.115.192',\n",
        "                          database= 'zillowdb'\n",
        "                          )"
      ],
      "execution_count": null,
      "outputs": []
    },
    {
      "cell_type": "code",
      "metadata": {
        "id": "vzNOD9XHFss0"
      },
      "source": [
        "mycursor = mydb.cursor()"
      ],
      "execution_count": null,
      "outputs": []
    },
    {
      "cell_type": "code",
      "metadata": {
        "id": "m164Rr2uGKlF"
      },
      "source": [
        "mycursor.execute(\"DROP TABLE IF EXISTS house_details_results_preliminary;\")"
      ],
      "execution_count": null,
      "outputs": []
    },
    {
      "cell_type": "code",
      "metadata": {
        "id": "RrICvIdNCeKr"
      },
      "source": [
        "mycursor.execute(\"\"\"CREATE TABLE house_details_results_preliminary (\n",
        "    prices float NOT NULL, \n",
        "    beds float DEFAULT NULL, \n",
        "    baths float DEFAULT NULL, \n",
        "    sq_feet float DEFAULT NULL, \n",
        "    type varchar(300) DEFAULT NULL, \n",
        "    address varchar(300) DEFAULT NULL,\n",
        "    street_name varchar(300) DEFAULT NULL,\n",
        "    city varchar(300) DEFAULT NULL,\n",
        "    state_zip_code varchar(300) DEFAULT NULL,\n",
        "    real_estate varchar(300) DEFAULT NULL,\n",
        "    last_updated varchar(300) DEFAULT NULL,\n",
        "    link varchar(300) DEFAULT NULL)\"\"\")"
      ],
      "execution_count": null,
      "outputs": []
    },
    {
      "cell_type": "code",
      "metadata": {
        "id": "9ZhJMaOUCgbk"
      },
      "source": [
        "mycursor.execute('Show Tables;')"
      ],
      "execution_count": null,
      "outputs": []
    },
    {
      "cell_type": "code",
      "metadata": {
        "id": "z7dz1MSbHCjI"
      },
      "source": [
        "def insert_results_to_db(zillow_df):\n",
        "  mydb = mysql.connector.connect(user='root5', password='!GoodPassword123!',\n",
        "                        host='34.123.115.192', database= 'zillowdb',\n",
        "                        port=3306\n",
        "                        )\n",
        "  cursor = mydb.cursor()\n",
        "  record_count = 0\n",
        "  cols = \",\".join([str(i) for i in zillow_df.columns.tolist()])\n",
        "  for i, row in zillow_df.iterrows():\n",
        "    sql = \"INSERT INTO house_details_results_preliminary (\" + cols + \") VALUES (\" + \"%s,\"*(len(row)-1) + \"%s)\"\n",
        "    cursor.execute(sql, tuple(row))\n",
        "    mydb.commit()\n",
        "    record_count += 1\n",
        "  mydb.close()\n",
        "  print(record_count)"
      ],
      "execution_count": null,
      "outputs": []
    },
    {
      "cell_type": "code",
      "metadata": {
        "id": "qhGTrNBKe1Pc",
        "colab": {
          "base_uri": "https://localhost:8080/"
        },
        "outputId": "ae6f3775-b876-4bb1-d6e1-a7b32f768331"
      },
      "source": [
        "a = insert_results_to_db(zillow_df)\n",
        "print(a)"
      ],
      "execution_count": null,
      "outputs": [
        {
          "output_type": "stream",
          "text": [
            "173\n",
            "None\n"
          ],
          "name": "stdout"
        }
      ]
    },
    {
      "cell_type": "code",
      "metadata": {
        "id": "8QrCyiORfoYd",
        "colab": {
          "base_uri": "https://localhost:8080/",
          "height": 289
        },
        "outputId": "745187c4-a77b-4fcf-88b4-12173dd6ecb4"
      },
      "source": [
        "dataset = zillow_df.copy()\n",
        "dataset.tail()"
      ],
      "execution_count": null,
      "outputs": [
        {
          "output_type": "execute_result",
          "data": {
            "text/html": [
              "<div>\n",
              "<style scoped>\n",
              "    .dataframe tbody tr th:only-of-type {\n",
              "        vertical-align: middle;\n",
              "    }\n",
              "\n",
              "    .dataframe tbody tr th {\n",
              "        vertical-align: top;\n",
              "    }\n",
              "\n",
              "    .dataframe thead th {\n",
              "        text-align: right;\n",
              "    }\n",
              "</style>\n",
              "<table border=\"1\" class=\"dataframe\">\n",
              "  <thead>\n",
              "    <tr style=\"text-align: right;\">\n",
              "      <th></th>\n",
              "      <th>prices</th>\n",
              "      <th>beds</th>\n",
              "      <th>baths</th>\n",
              "      <th>sq_feet</th>\n",
              "      <th>street_name</th>\n",
              "      <th>city</th>\n",
              "      <th>state_zip_code</th>\n",
              "      <th>real_estate</th>\n",
              "      <th>last_updated</th>\n",
              "      <th>link</th>\n",
              "    </tr>\n",
              "  </thead>\n",
              "  <tbody>\n",
              "    <tr>\n",
              "      <th>177</th>\n",
              "      <td>3450000.0</td>\n",
              "      <td>10</td>\n",
              "      <td>10</td>\n",
              "      <td>6135.0</td>\n",
              "      <td>331 E 52nd St</td>\n",
              "      <td>Brooklyn</td>\n",
              "      <td>NY 11203</td>\n",
              "      <td>LISTING BY: BROWN HARRIS STEVENS (212-588-5644)</td>\n",
              "      <td>Price cut: $500,000 (Jan 30)</td>\n",
              "      <td>https://www.zillow.com/homedetails/331-E-52nd-...</td>\n",
              "    </tr>\n",
              "    <tr>\n",
              "      <th>178</th>\n",
              "      <td>849000.0</td>\n",
              "      <td>4</td>\n",
              "      <td>3</td>\n",
              "      <td>6135.0</td>\n",
              "      <td>3823 Foster Ave FLOOR 2</td>\n",
              "      <td>Brooklyn</td>\n",
              "      <td>NY 11203</td>\n",
              "      <td>LISTING BY: FILLMORE REAL ESTATE LTD (718-377-...</td>\n",
              "      <td>89 days on Zillow</td>\n",
              "      <td>https://www.zillow.com/homedetails/3823-Foster...</td>\n",
              "    </tr>\n",
              "    <tr>\n",
              "      <th>179</th>\n",
              "      <td>1100000.0</td>\n",
              "      <td>7</td>\n",
              "      <td>4</td>\n",
              "      <td>3652.0</td>\n",
              "      <td>216 E 52nd St APT 4</td>\n",
              "      <td>Brooklyn</td>\n",
              "      <td>NY 11203</td>\n",
              "      <td>LISTING BY: FILLMORE REAL ESTATE LTD (718-377-...</td>\n",
              "      <td>89 days on Zillow</td>\n",
              "      <td>https://www.zillow.com/homedetails/216-E-52nd-...</td>\n",
              "    </tr>\n",
              "    <tr>\n",
              "      <th>180</th>\n",
              "      <td>530000.0</td>\n",
              "      <td>3</td>\n",
              "      <td>2</td>\n",
              "      <td>3652.0</td>\n",
              "      <td>332 E 59th St</td>\n",
              "      <td>Brooklyn</td>\n",
              "      <td>NY 11203</td>\n",
              "      <td>LISTING BY: UNLIMITED HOMES REALTY INC</td>\n",
              "      <td>89 days on Zillow</td>\n",
              "      <td>https://www.zillow.com/homedetails/332-E-59th-...</td>\n",
              "    </tr>\n",
              "    <tr>\n",
              "      <th>181</th>\n",
              "      <td>860000.0</td>\n",
              "      <td>5</td>\n",
              "      <td>3</td>\n",
              "      <td>3420.0</td>\n",
              "      <td>980 Utica Ave</td>\n",
              "      <td>Brooklyn</td>\n",
              "      <td>NY 11203</td>\n",
              "      <td>LISTING BY: 1 OAK REAL ESTATE HUB INC</td>\n",
              "      <td>89 days on Zillow</td>\n",
              "      <td>https://www.zillow.com/homedetails/980-Utica-A...</td>\n",
              "    </tr>\n",
              "  </tbody>\n",
              "</table>\n",
              "</div>"
            ],
            "text/plain": [
              "        prices  ...                                               link\n",
              "177  3450000.0  ...  https://www.zillow.com/homedetails/331-E-52nd-...\n",
              "178   849000.0  ...  https://www.zillow.com/homedetails/3823-Foster...\n",
              "179  1100000.0  ...  https://www.zillow.com/homedetails/216-E-52nd-...\n",
              "180   530000.0  ...  https://www.zillow.com/homedetails/332-E-59th-...\n",
              "181   860000.0  ...  https://www.zillow.com/homedetails/980-Utica-A...\n",
              "\n",
              "[5 rows x 10 columns]"
            ]
          },
          "metadata": {
            "tags": []
          },
          "execution_count": 79
        }
      ]
    },
    {
      "cell_type": "code",
      "metadata": {
        "id": "ZKCsoLzflYwm",
        "colab": {
          "base_uri": "https://localhost:8080/"
        },
        "outputId": "efc26573-f468-4aae-883c-d4b67f8c8e62"
      },
      "source": [
        "#check missing value\n",
        "dataset.isna().sum()"
      ],
      "execution_count": null,
      "outputs": [
        {
          "output_type": "execute_result",
          "data": {
            "text/plain": [
              "prices            0\n",
              "beds              0\n",
              "baths             0\n",
              "sq_feet           0\n",
              "street_name       0\n",
              "city              0\n",
              "state_zip_code    0\n",
              "real_estate       0\n",
              "last_updated      0\n",
              "link              0\n",
              "dtype: int64"
            ]
          },
          "metadata": {
            "tags": []
          },
          "execution_count": 80
        }
      ]
    },
    {
      "cell_type": "code",
      "metadata": {
        "id": "OAtNBJeplbM_",
        "colab": {
          "base_uri": "https://localhost:8080/"
        },
        "outputId": "f3f1b962-15a3-4ec6-a1d4-8ddc61908ab5"
      },
      "source": [
        "dataset.info()"
      ],
      "execution_count": null,
      "outputs": [
        {
          "output_type": "stream",
          "text": [
            "<class 'pandas.core.frame.DataFrame'>\n",
            "Int64Index: 173 entries, 0 to 181\n",
            "Data columns (total 10 columns):\n",
            " #   Column          Non-Null Count  Dtype  \n",
            "---  ------          --------------  -----  \n",
            " 0   prices          173 non-null    float64\n",
            " 1   beds            173 non-null    int64  \n",
            " 2   baths           173 non-null    int64  \n",
            " 3   sq_feet         173 non-null    float64\n",
            " 4   street_name     173 non-null    object \n",
            " 5   city            173 non-null    object \n",
            " 6   state_zip_code  173 non-null    object \n",
            " 7   real_estate     173 non-null    object \n",
            " 8   last_updated    173 non-null    object \n",
            " 9   link            173 non-null    object \n",
            "dtypes: float64(2), int64(2), object(6)\n",
            "memory usage: 19.9+ KB\n"
          ],
          "name": "stdout"
        }
      ]
    },
    {
      "cell_type": "code",
      "metadata": {
        "id": "a1otgnZkmEtc",
        "colab": {
          "base_uri": "https://localhost:8080/",
          "height": 419
        },
        "outputId": "37bf05d1-4755-4c7d-c4e4-815b453d44ef"
      },
      "source": [
        "#drop irrelevant columns\n",
        "feature_drop = ['real_estate','street_name', 'city','state_zip_code','last_updated', 'link']\n",
        "dataset1 = dataset.drop(feature_drop, axis=1)\n",
        "dataset1"
      ],
      "execution_count": null,
      "outputs": [
        {
          "output_type": "execute_result",
          "data": {
            "text/html": [
              "<div>\n",
              "<style scoped>\n",
              "    .dataframe tbody tr th:only-of-type {\n",
              "        vertical-align: middle;\n",
              "    }\n",
              "\n",
              "    .dataframe tbody tr th {\n",
              "        vertical-align: top;\n",
              "    }\n",
              "\n",
              "    .dataframe thead th {\n",
              "        text-align: right;\n",
              "    }\n",
              "</style>\n",
              "<table border=\"1\" class=\"dataframe\">\n",
              "  <thead>\n",
              "    <tr style=\"text-align: right;\">\n",
              "      <th></th>\n",
              "      <th>prices</th>\n",
              "      <th>beds</th>\n",
              "      <th>baths</th>\n",
              "      <th>sq_feet</th>\n",
              "    </tr>\n",
              "  </thead>\n",
              "  <tbody>\n",
              "    <tr>\n",
              "      <th>0</th>\n",
              "      <td>995000.0</td>\n",
              "      <td>4</td>\n",
              "      <td>4</td>\n",
              "      <td>0.0</td>\n",
              "    </tr>\n",
              "    <tr>\n",
              "      <th>1</th>\n",
              "      <td>675000.0</td>\n",
              "      <td>1</td>\n",
              "      <td>1</td>\n",
              "      <td>0.0</td>\n",
              "    </tr>\n",
              "    <tr>\n",
              "      <th>3</th>\n",
              "      <td>4850000.0</td>\n",
              "      <td>2</td>\n",
              "      <td>4</td>\n",
              "      <td>3420.0</td>\n",
              "    </tr>\n",
              "    <tr>\n",
              "      <th>4</th>\n",
              "      <td>725000.0</td>\n",
              "      <td>1</td>\n",
              "      <td>1</td>\n",
              "      <td>825.0</td>\n",
              "    </tr>\n",
              "    <tr>\n",
              "      <th>5</th>\n",
              "      <td>500000.0</td>\n",
              "      <td>1</td>\n",
              "      <td>1</td>\n",
              "      <td>93153.0</td>\n",
              "    </tr>\n",
              "    <tr>\n",
              "      <th>...</th>\n",
              "      <td>...</td>\n",
              "      <td>...</td>\n",
              "      <td>...</td>\n",
              "      <td>...</td>\n",
              "    </tr>\n",
              "    <tr>\n",
              "      <th>177</th>\n",
              "      <td>3450000.0</td>\n",
              "      <td>10</td>\n",
              "      <td>10</td>\n",
              "      <td>6135.0</td>\n",
              "    </tr>\n",
              "    <tr>\n",
              "      <th>178</th>\n",
              "      <td>849000.0</td>\n",
              "      <td>4</td>\n",
              "      <td>3</td>\n",
              "      <td>6135.0</td>\n",
              "    </tr>\n",
              "    <tr>\n",
              "      <th>179</th>\n",
              "      <td>1100000.0</td>\n",
              "      <td>7</td>\n",
              "      <td>4</td>\n",
              "      <td>3652.0</td>\n",
              "    </tr>\n",
              "    <tr>\n",
              "      <th>180</th>\n",
              "      <td>530000.0</td>\n",
              "      <td>3</td>\n",
              "      <td>2</td>\n",
              "      <td>3652.0</td>\n",
              "    </tr>\n",
              "    <tr>\n",
              "      <th>181</th>\n",
              "      <td>860000.0</td>\n",
              "      <td>5</td>\n",
              "      <td>3</td>\n",
              "      <td>3420.0</td>\n",
              "    </tr>\n",
              "  </tbody>\n",
              "</table>\n",
              "<p>173 rows × 4 columns</p>\n",
              "</div>"
            ],
            "text/plain": [
              "        prices  beds  baths  sq_feet\n",
              "0     995000.0     4      4      0.0\n",
              "1     675000.0     1      1      0.0\n",
              "3    4850000.0     2      4   3420.0\n",
              "4     725000.0     1      1    825.0\n",
              "5     500000.0     1      1  93153.0\n",
              "..         ...   ...    ...      ...\n",
              "177  3450000.0    10     10   6135.0\n",
              "178   849000.0     4      3   6135.0\n",
              "179  1100000.0     7      4   3652.0\n",
              "180   530000.0     3      2   3652.0\n",
              "181   860000.0     5      3   3420.0\n",
              "\n",
              "[173 rows x 4 columns]"
            ]
          },
          "metadata": {
            "tags": []
          },
          "execution_count": 82
        }
      ]
    },
    {
      "cell_type": "code",
      "metadata": {
        "id": "ONWz14KjnFmh"
      },
      "source": [
        "#Now split the dataset into a training set and a test set.\n",
        "#Use the test set in the final evaluation of our models.\n",
        "train_dataset = dataset1.sample(frac=0.8, random_state=0)\n",
        "test_dataset = dataset1.drop(train_dataset.index)"
      ],
      "execution_count": null,
      "outputs": []
    },
    {
      "cell_type": "code",
      "metadata": {
        "id": "rT9MnqNIn707",
        "colab": {
          "base_uri": "https://localhost:8080/",
          "height": 173
        },
        "outputId": "fba23541-bb56-43d3-e08b-e7b404859e8f"
      },
      "source": [
        "train_dataset.describe().transpose()"
      ],
      "execution_count": null,
      "outputs": [
        {
          "output_type": "execute_result",
          "data": {
            "text/html": [
              "<div>\n",
              "<style scoped>\n",
              "    .dataframe tbody tr th:only-of-type {\n",
              "        vertical-align: middle;\n",
              "    }\n",
              "\n",
              "    .dataframe tbody tr th {\n",
              "        vertical-align: top;\n",
              "    }\n",
              "\n",
              "    .dataframe thead th {\n",
              "        text-align: right;\n",
              "    }\n",
              "</style>\n",
              "<table border=\"1\" class=\"dataframe\">\n",
              "  <thead>\n",
              "    <tr style=\"text-align: right;\">\n",
              "      <th></th>\n",
              "      <th>count</th>\n",
              "      <th>mean</th>\n",
              "      <th>std</th>\n",
              "      <th>min</th>\n",
              "      <th>25%</th>\n",
              "      <th>50%</th>\n",
              "      <th>75%</th>\n",
              "      <th>max</th>\n",
              "    </tr>\n",
              "  </thead>\n",
              "  <tbody>\n",
              "    <tr>\n",
              "      <th>prices</th>\n",
              "      <td>138.0</td>\n",
              "      <td>2.080556e+06</td>\n",
              "      <td>3.892020e+06</td>\n",
              "      <td>573.0</td>\n",
              "      <td>604000.00</td>\n",
              "      <td>832000.0</td>\n",
              "      <td>2258750.0</td>\n",
              "      <td>39500000.0</td>\n",
              "    </tr>\n",
              "    <tr>\n",
              "      <th>beds</th>\n",
              "      <td>138.0</td>\n",
              "      <td>3.362319e+00</td>\n",
              "      <td>2.253763e+00</td>\n",
              "      <td>1.0</td>\n",
              "      <td>2.00</td>\n",
              "      <td>3.0</td>\n",
              "      <td>4.0</td>\n",
              "      <td>13.0</td>\n",
              "    </tr>\n",
              "    <tr>\n",
              "      <th>baths</th>\n",
              "      <td>138.0</td>\n",
              "      <td>2.731884e+00</td>\n",
              "      <td>1.814539e+00</td>\n",
              "      <td>0.0</td>\n",
              "      <td>2.00</td>\n",
              "      <td>2.0</td>\n",
              "      <td>4.0</td>\n",
              "      <td>12.0</td>\n",
              "    </tr>\n",
              "    <tr>\n",
              "      <th>sq_feet</th>\n",
              "      <td>138.0</td>\n",
              "      <td>5.294761e+03</td>\n",
              "      <td>1.544636e+04</td>\n",
              "      <td>0.0</td>\n",
              "      <td>1232.25</td>\n",
              "      <td>1812.0</td>\n",
              "      <td>2798.5</td>\n",
              "      <td>93153.0</td>\n",
              "    </tr>\n",
              "  </tbody>\n",
              "</table>\n",
              "</div>"
            ],
            "text/plain": [
              "         count          mean           std  ...       50%        75%         max\n",
              "prices   138.0  2.080556e+06  3.892020e+06  ...  832000.0  2258750.0  39500000.0\n",
              "beds     138.0  3.362319e+00  2.253763e+00  ...       3.0        4.0        13.0\n",
              "baths    138.0  2.731884e+00  1.814539e+00  ...       2.0        4.0        12.0\n",
              "sq_feet  138.0  5.294761e+03  1.544636e+04  ...    1812.0     2798.5     93153.0\n",
              "\n",
              "[4 rows x 8 columns]"
            ]
          },
          "metadata": {
            "tags": []
          },
          "execution_count": 84
        }
      ]
    },
    {
      "cell_type": "code",
      "metadata": {
        "id": "gsPdDP37oFyP"
      },
      "source": [
        "#Separate the target value price\n",
        "train_features = train_dataset.copy()\n",
        "test_features = test_dataset.copy()\n",
        "\n",
        "train_labels = train_features.pop('prices')\n",
        "test_labels = test_features.pop('prices')"
      ],
      "execution_count": null,
      "outputs": []
    },
    {
      "cell_type": "code",
      "metadata": {
        "id": "awSFbYK_oSsC",
        "colab": {
          "base_uri": "https://localhost:8080/",
          "height": 173
        },
        "outputId": "3d549c31-9a86-4ae3-9cd2-15e2ed18b27f"
      },
      "source": [
        "train_dataset.describe().transpose()[['mean', 'std']]"
      ],
      "execution_count": null,
      "outputs": [
        {
          "output_type": "execute_result",
          "data": {
            "text/html": [
              "<div>\n",
              "<style scoped>\n",
              "    .dataframe tbody tr th:only-of-type {\n",
              "        vertical-align: middle;\n",
              "    }\n",
              "\n",
              "    .dataframe tbody tr th {\n",
              "        vertical-align: top;\n",
              "    }\n",
              "\n",
              "    .dataframe thead th {\n",
              "        text-align: right;\n",
              "    }\n",
              "</style>\n",
              "<table border=\"1\" class=\"dataframe\">\n",
              "  <thead>\n",
              "    <tr style=\"text-align: right;\">\n",
              "      <th></th>\n",
              "      <th>mean</th>\n",
              "      <th>std</th>\n",
              "    </tr>\n",
              "  </thead>\n",
              "  <tbody>\n",
              "    <tr>\n",
              "      <th>prices</th>\n",
              "      <td>2.080556e+06</td>\n",
              "      <td>3.892020e+06</td>\n",
              "    </tr>\n",
              "    <tr>\n",
              "      <th>beds</th>\n",
              "      <td>3.362319e+00</td>\n",
              "      <td>2.253763e+00</td>\n",
              "    </tr>\n",
              "    <tr>\n",
              "      <th>baths</th>\n",
              "      <td>2.731884e+00</td>\n",
              "      <td>1.814539e+00</td>\n",
              "    </tr>\n",
              "    <tr>\n",
              "      <th>sq_feet</th>\n",
              "      <td>5.294761e+03</td>\n",
              "      <td>1.544636e+04</td>\n",
              "    </tr>\n",
              "  </tbody>\n",
              "</table>\n",
              "</div>"
            ],
            "text/plain": [
              "                 mean           std\n",
              "prices   2.080556e+06  3.892020e+06\n",
              "beds     3.362319e+00  2.253763e+00\n",
              "baths    2.731884e+00  1.814539e+00\n",
              "sq_feet  5.294761e+03  1.544636e+04"
            ]
          },
          "metadata": {
            "tags": []
          },
          "execution_count": 86
        }
      ]
    },
    {
      "cell_type": "code",
      "metadata": {
        "id": "tj8Ll0lvoaIx",
        "colab": {
          "base_uri": "https://localhost:8080/"
        },
        "outputId": "fc8b6bda-38d8-4613-fe48-dc8ae76a16be"
      },
      "source": [
        "normalizer = preprocessing.Normalization()\n",
        "normalizer.adapt(np.array(train_features))\n",
        "print(normalizer.mean.numpy())"
      ],
      "execution_count": null,
      "outputs": [
        {
          "output_type": "stream",
          "text": [
            "[   3.362    2.732 5294.761]\n"
          ],
          "name": "stdout"
        }
      ]
    },
    {
      "cell_type": "code",
      "metadata": {
        "id": "Bs3g7lcsokXY",
        "colab": {
          "base_uri": "https://localhost:8080/"
        },
        "outputId": "81b0a147-126a-4edf-d9c4-6bebe43bb96a"
      },
      "source": [
        "first = np.array(train_features[:1])\n",
        "\n",
        "with np.printoptions(precision=2, suppress=True):\n",
        "  print('First example:', first)\n",
        "  print()\n",
        "  print('Normalized:', normalizer(first).numpy())"
      ],
      "execution_count": null,
      "outputs": [
        {
          "output_type": "stream",
          "text": [
            "First example: [[   3.    2. 1951.]]\n",
            "\n",
            "Normalized: [[-0.16 -0.4  -0.22]]\n"
          ],
          "name": "stdout"
        }
      ]
    },
    {
      "cell_type": "markdown",
      "metadata": {
        "id": "Lx-ErrvfoyUX"
      },
      "source": [
        "## Linear regression"
      ]
    },
    {
      "cell_type": "code",
      "metadata": {
        "id": "suCeGQaDo821"
      },
      "source": [
        "#Start with a single-variable linear regression, to predict 'prices' from beds.\n",
        "sqf = np.array(train_features['sq_feet'])\n",
        "sqf_normalizer = preprocessing.Normalization(input_shape=[1,])\n",
        "sqf_normalizer.adapt(sqf)"
      ],
      "execution_count": null,
      "outputs": []
    },
    {
      "cell_type": "code",
      "metadata": {
        "id": "DnfvoN2NpVVe",
        "colab": {
          "base_uri": "https://localhost:8080/"
        },
        "outputId": "f19b9382-2ea8-4780-92fa-d104bee2067d"
      },
      "source": [
        "#Build the sequential model\n",
        "sqf_model = tf.keras.Sequential([\n",
        "    sqf_normalizer,\n",
        "    layers.Dense(units=1)\n",
        "])\n",
        "sqf_model.summary()"
      ],
      "execution_count": null,
      "outputs": [
        {
          "output_type": "stream",
          "text": [
            "Model: \"sequential\"\n",
            "_________________________________________________________________\n",
            "Layer (type)                 Output Shape              Param #   \n",
            "=================================================================\n",
            "normalization_1 (Normalizati (None, 1)                 3         \n",
            "_________________________________________________________________\n",
            "dense (Dense)                (None, 1)                 2         \n",
            "=================================================================\n",
            "Total params: 5\n",
            "Trainable params: 2\n",
            "Non-trainable params: 3\n",
            "_________________________________________________________________\n"
          ],
          "name": "stdout"
        }
      ]
    },
    {
      "cell_type": "code",
      "metadata": {
        "id": "K0KpwAtMpkTE",
        "colab": {
          "base_uri": "https://localhost:8080/"
        },
        "outputId": "88313ab9-9367-4df0-e5cb-245a29642ab5"
      },
      "source": [
        "sqf_model.predict(sqf[:10])"
      ],
      "execution_count": null,
      "outputs": [
        {
          "output_type": "execute_result",
          "data": {
            "text/plain": [
              "array([[-0.054],\n",
              "       [-0.072],\n",
              "       [-0.05 ],\n",
              "       [-0.034],\n",
              "       [-0.063],\n",
              "       [-0.053],\n",
              "       [-0.073],\n",
              "       [ 0.863],\n",
              "       [-0.068],\n",
              "       [-0.055]], dtype=float32)"
            ]
          },
          "metadata": {
            "tags": []
          },
          "execution_count": 91
        }
      ]
    },
    {
      "cell_type": "code",
      "metadata": {
        "id": "fhtnKeKvpo7w"
      },
      "source": [
        "sqf_model.compile(\n",
        "    optimizer=tf.optimizers.Adam(learning_rate=0.1),\n",
        "    loss='mean_absolute_error')"
      ],
      "execution_count": null,
      "outputs": []
    },
    {
      "cell_type": "code",
      "metadata": {
        "id": "jxHukX09p5ba",
        "colab": {
          "base_uri": "https://localhost:8080/"
        },
        "outputId": "d1477379-49be-447a-b04f-e1359c7f7c46"
      },
      "source": [
        "%%time\n",
        "history = sqf_model.fit(\n",
        "    train_features['sq_feet'], train_labels,\n",
        "    epochs=100,\n",
        "    # suppress logging\n",
        "    verbose=0,\n",
        "    # Calculate validation results on 20% of the training data\n",
        "    validation_split = 0.2)"
      ],
      "execution_count": null,
      "outputs": [
        {
          "output_type": "stream",
          "text": [
            "CPU times: user 8.5 s, sys: 149 ms, total: 8.65 s\n",
            "Wall time: 8.89 s\n"
          ],
          "name": "stdout"
        }
      ]
    },
    {
      "cell_type": "code",
      "metadata": {
        "id": "8FZ3UvqwqPYM",
        "colab": {
          "base_uri": "https://localhost:8080/",
          "height": 204
        },
        "outputId": "2d7249c6-9d62-4dee-de98-759c5650775a"
      },
      "source": [
        "#Visualize the model's training progress \n",
        "hist = pd.DataFrame(history.history)\n",
        "hist['epoch'] = history.epoch\n",
        "hist.tail()"
      ],
      "execution_count": null,
      "outputs": [
        {
          "output_type": "execute_result",
          "data": {
            "text/html": [
              "<div>\n",
              "<style scoped>\n",
              "    .dataframe tbody tr th:only-of-type {\n",
              "        vertical-align: middle;\n",
              "    }\n",
              "\n",
              "    .dataframe tbody tr th {\n",
              "        vertical-align: top;\n",
              "    }\n",
              "\n",
              "    .dataframe thead th {\n",
              "        text-align: right;\n",
              "    }\n",
              "</style>\n",
              "<table border=\"1\" class=\"dataframe\">\n",
              "  <thead>\n",
              "    <tr style=\"text-align: right;\">\n",
              "      <th></th>\n",
              "      <th>loss</th>\n",
              "      <th>val_loss</th>\n",
              "      <th>epoch</th>\n",
              "    </tr>\n",
              "  </thead>\n",
              "  <tbody>\n",
              "    <tr>\n",
              "      <th>95</th>\n",
              "      <td>1775099.375</td>\n",
              "      <td>3280376.75</td>\n",
              "      <td>95</td>\n",
              "    </tr>\n",
              "    <tr>\n",
              "      <th>96</th>\n",
              "      <td>1775098.875</td>\n",
              "      <td>3280376.25</td>\n",
              "      <td>96</td>\n",
              "    </tr>\n",
              "    <tr>\n",
              "      <th>97</th>\n",
              "      <td>1775098.625</td>\n",
              "      <td>3280376.25</td>\n",
              "      <td>97</td>\n",
              "    </tr>\n",
              "    <tr>\n",
              "      <th>98</th>\n",
              "      <td>1775098.125</td>\n",
              "      <td>3280375.75</td>\n",
              "      <td>98</td>\n",
              "    </tr>\n",
              "    <tr>\n",
              "      <th>99</th>\n",
              "      <td>1775097.625</td>\n",
              "      <td>3280375.50</td>\n",
              "      <td>99</td>\n",
              "    </tr>\n",
              "  </tbody>\n",
              "</table>\n",
              "</div>"
            ],
            "text/plain": [
              "           loss    val_loss  epoch\n",
              "95  1775099.375  3280376.75     95\n",
              "96  1775098.875  3280376.25     96\n",
              "97  1775098.625  3280376.25     97\n",
              "98  1775098.125  3280375.75     98\n",
              "99  1775097.625  3280375.50     99"
            ]
          },
          "metadata": {
            "tags": []
          },
          "execution_count": 94
        }
      ]
    },
    {
      "cell_type": "code",
      "metadata": {
        "id": "dyaM5pOkqa3a"
      },
      "source": [
        "def plot_loss(history):\n",
        "  plt.plot(history.history['loss'], label='loss')\n",
        "  plt.plot(history.history['val_loss'], label='val_loss')\n",
        "  plt.ylim([0, 10000000])\n",
        "  plt.xlabel('Epoch')\n",
        "  plt.ylabel('Error [prices]')\n",
        "  plt.legend()\n",
        "  plt.grid(True)"
      ],
      "execution_count": null,
      "outputs": []
    },
    {
      "cell_type": "code",
      "metadata": {
        "id": "rnyM7Y96rTEa",
        "colab": {
          "base_uri": "https://localhost:8080/",
          "height": 290
        },
        "outputId": "9ea6829c-fb27-4b16-89aa-8d43c595a85d"
      },
      "source": [
        "plot_loss(history)"
      ],
      "execution_count": null,
      "outputs": [
        {
          "output_type": "display_data",
          "data": {
            "image/png": "[encoded data removed]",
            "text/plain": [
              "<Figure size 432x288 with 1 Axes>"
            ]
          },
          "metadata": {
            "tags": [],
            "needs_background": "light"
          }
        }
      ]
    },
    {
      "cell_type": "code",
      "metadata": {
        "id": "RQLGQBWtsV8o"
      },
      "source": [
        "test_results = {}\n",
        "\n",
        "test_results['sqf_model'] = sqf_model.evaluate(\n",
        "    test_features['sq_feet'],\n",
        "    test_labels, verbose=0)\n",
        "x = tf.linspace(0.0, 7000, 7001)\n",
        "y = sqf_model.predict(x)"
      ],
      "execution_count": null,
      "outputs": []
    },
    {
      "cell_type": "code",
      "metadata": {
        "id": "FiXrXF6Nsj82",
        "colab": {
          "base_uri": "https://localhost:8080/",
          "height": 291
        },
        "outputId": "d5e3020f-6892-436b-ef36-079db1c54d95"
      },
      "source": [
        "def plot_sqf(x, y):\n",
        "  plt.scatter(train_features['sq_feet'], train_labels, label='Data')\n",
        "  plt.plot(x, y, color='k', label='Predictions')\n",
        "  plt.xlabel('sq_feet')\n",
        "  plt.ylabel('prices')\n",
        "  plt.legend()\n",
        "\n",
        "plot_sqf(x, y)"
      ],
      "execution_count": null,
      "outputs": [
        {
          "output_type": "display_data",
          "data": {
            "image/png": "[encoded data removed]",
            "text/plain": [
              "<Figure size 432x288 with 1 Axes>"
            ]
          },
          "metadata": {
            "tags": [],
            "needs_background": "light"
          }
        }
      ]
    },
    {
      "cell_type": "markdown",
      "metadata": {
        "id": "Inb6rzY-s-9r"
      },
      "source": [
        "Since used single variable to predict prices didn't have good result and linear relationship, we will try to put multiple variables next"
      ]
    },
    {
      "cell_type": "code",
      "metadata": {
        "id": "Lx4Fwtn0tYXb",
        "colab": {
          "base_uri": "https://localhost:8080/"
        },
        "outputId": "06b01e0a-7052-4933-fb45-3a61365a4853"
      },
      "source": [
        "linear_model = tf.keras.Sequential([\n",
        "    normalizer,\n",
        "    layers.Dense(units=1)\n",
        "])\n",
        "linear_model.predict(train_features[:10])"
      ],
      "execution_count": null,
      "outputs": [
        {
          "output_type": "execute_result",
          "data": {
            "text/plain": [
              "array([[ 0.287],\n",
              "       [ 1.265],\n",
              "       [-0.09 ],\n",
              "       [-0.674],\n",
              "       [-1.647],\n",
              "       [-0.501],\n",
              "       [ 1.266],\n",
              "       [ 1.153],\n",
              "       [ 0.477],\n",
              "       [-0.501]], dtype=float32)"
            ]
          },
          "metadata": {
            "tags": []
          },
          "execution_count": 99
        }
      ]
    },
    {
      "cell_type": "code",
      "metadata": {
        "id": "uiWO_Owxthr4",
        "colab": {
          "base_uri": "https://localhost:8080/"
        },
        "outputId": "536aa902-ad38-41cb-80b4-9bd30bf06a3f"
      },
      "source": [
        "linear_model.layers[1].kernel"
      ],
      "execution_count": null,
      "outputs": [
        {
          "output_type": "execute_result",
          "data": {
            "text/plain": [
              "<tf.Variable 'dense_1/kernel:0' shape=(3, 1) dtype=float32, numpy=\n",
              "array([[-0.885],\n",
              "       [-0.34 ],\n",
              "       [-0.03 ]], dtype=float32)>"
            ]
          },
          "metadata": {
            "tags": []
          },
          "execution_count": 100
        }
      ]
    },
    {
      "cell_type": "code",
      "metadata": {
        "id": "GJEw-W04uLoS"
      },
      "source": [
        "linear_model.compile(\n",
        "    optimizer=tf.optimizers.Adam(learning_rate=0.1),\n",
        "    loss='mean_absolute_error')"
      ],
      "execution_count": null,
      "outputs": []
    },
    {
      "cell_type": "code",
      "metadata": {
        "id": "4R3AcUeduQ4Y",
        "colab": {
          "base_uri": "https://localhost:8080/"
        },
        "outputId": "67a7e07a-5771-453e-bb06-09ce71b5f85a"
      },
      "source": [
        "%%time\n",
        "history = linear_model.fit(\n",
        "    train_features, train_labels, \n",
        "    epochs=100,\n",
        "    # suppress logging\n",
        "    verbose=0,\n",
        "    # Calculate validation results on 20% of the training data\n",
        "    validation_split = 0.2)"
      ],
      "execution_count": null,
      "outputs": [
        {
          "output_type": "stream",
          "text": [
            "CPU times: user 8.18 s, sys: 137 ms, total: 8.32 s\n",
            "Wall time: 8.21 s\n"
          ],
          "name": "stdout"
        }
      ]
    },
    {
      "cell_type": "code",
      "metadata": {
        "id": "-vlmJdoBusEu",
        "colab": {
          "base_uri": "https://localhost:8080/",
          "height": 290
        },
        "outputId": "2613f780-5259-446e-a9e0-9c5bfb47b928"
      },
      "source": [
        "plot_loss(history)"
      ],
      "execution_count": null,
      "outputs": [
        {
          "output_type": "display_data",
          "data": {
            "image/png": "[encoded data removed]",
            "text/plain": [
              "<Figure size 432x288 with 1 Axes>"
            ]
          },
          "metadata": {
            "tags": [],
            "needs_background": "light"
          }
        }
      ]
    },
    {
      "cell_type": "code",
      "metadata": {
        "id": "XiJfyjNlvg_9"
      },
      "source": [
        "#Collect the results on the test set\n",
        "test_results['linear_model'] = linear_model.evaluate(\n",
        "    test_features, test_labels, verbose=0)"
      ],
      "execution_count": null,
      "outputs": []
    },
    {
      "cell_type": "markdown",
      "metadata": {
        "id": "eM39KniVvvnB"
      },
      "source": [
        "# DNN regression"
      ]
    },
    {
      "cell_type": "code",
      "metadata": {
        "id": "2p332IgvvyWr"
      },
      "source": [
        "def build_and_compile_model(norm):\n",
        "  model = keras.Sequential([\n",
        "      norm,\n",
        "      layers.Dense(64, activation='relu'),\n",
        "      layers.Dense(64, activation='relu'),\n",
        "      layers.Dense(1)\n",
        "  ])\n",
        "\n",
        "  model.compile(loss='mean_absolute_error',\n",
        "                optimizer=tf.keras.optimizers.Adam(0.001))\n",
        "  return model"
      ],
      "execution_count": null,
      "outputs": []
    },
    {
      "cell_type": "markdown",
      "metadata": {
        "id": "VExvqm5SwGJY"
      },
      "source": [
        "# One variable"
      ]
    },
    {
      "cell_type": "code",
      "metadata": {
        "id": "hfUQ4hb7wHc9"
      },
      "source": [
        "#Start with a DNN model for a single input: \"sq_feet\"\n",
        "dnn_sqf_model = build_and_compile_model(sqf_normalizer)"
      ],
      "execution_count": null,
      "outputs": []
    },
    {
      "cell_type": "code",
      "metadata": {
        "id": "e4EJ7AWDw5ss",
        "colab": {
          "base_uri": "https://localhost:8080/"
        },
        "outputId": "170d7bbe-46b1-4001-8c6f-9c6536bafa48"
      },
      "source": [
        "dnn_sqf_model.summary()"
      ],
      "execution_count": null,
      "outputs": [
        {
          "output_type": "stream",
          "text": [
            "Model: \"sequential_2\"\n",
            "_________________________________________________________________\n",
            "Layer (type)                 Output Shape              Param #   \n",
            "=================================================================\n",
            "normalization_1 (Normalizati (None, 1)                 3         \n",
            "_________________________________________________________________\n",
            "dense_2 (Dense)              (None, 64)                128       \n",
            "_________________________________________________________________\n",
            "dense_3 (Dense)              (None, 64)                4160      \n",
            "_________________________________________________________________\n",
            "dense_4 (Dense)              (None, 1)                 65        \n",
            "=================================================================\n",
            "Total params: 4,356\n",
            "Trainable params: 4,353\n",
            "Non-trainable params: 3\n",
            "_________________________________________________________________\n"
          ],
          "name": "stdout"
        }
      ]
    },
    {
      "cell_type": "code",
      "metadata": {
        "id": "E2tiarqvxEku"
      },
      "source": [
        "#Train the model:\n",
        "history = dnn_sqf_model.fit(\n",
        "    train_features['sq_feet'], train_labels,\n",
        "    validation_split=0.2,\n",
        "    verbose=0, epochs=100)"
      ],
      "execution_count": null,
      "outputs": []
    },
    {
      "cell_type": "code",
      "metadata": {
        "id": "iIHeMfFcxP3B",
        "colab": {
          "base_uri": "https://localhost:8080/",
          "height": 290
        },
        "outputId": "f149ac59-65d6-4f01-d6d5-f598ef9ba2e0"
      },
      "source": [
        "plot_loss(history)"
      ],
      "execution_count": null,
      "outputs": [
        {
          "output_type": "display_data",
          "data": {
            "image/png": "[encoded data removed]",
            "text/plain": [
              "<Figure size 432x288 with 1 Axes>"
            ]
          },
          "metadata": {
            "tags": [],
            "needs_background": "light"
          }
        }
      ]
    },
    {
      "cell_type": "code",
      "metadata": {
        "id": "L-VA75t3xUO0"
      },
      "source": [
        "x = tf.linspace(0.0, 7000, 7001)\n",
        "y = dnn_sqf_model.predict(x)"
      ],
      "execution_count": null,
      "outputs": []
    },
    {
      "cell_type": "code",
      "metadata": {
        "id": "E4skBqmExbmu",
        "colab": {
          "base_uri": "https://localhost:8080/",
          "height": 291
        },
        "outputId": "aefe8931-bfc2-43b8-ff5e-8b50c7634eb6"
      },
      "source": [
        "plot_sqf(x, y)"
      ],
      "execution_count": null,
      "outputs": [
        {
          "output_type": "display_data",
          "data": {
            "image/png": "[encoded data removed]",
            "text/plain": [
              "<Figure size 432x288 with 1 Axes>"
            ]
          },
          "metadata": {
            "tags": [],
            "needs_background": "light"
          }
        }
      ]
    },
    {
      "cell_type": "code",
      "metadata": {
        "id": "KJMjkJRtjtPr"
      },
      "source": [
        "test_results['dnn_sqf_model'] = dnn_sqf_model.evaluate(\n",
        "    test_features['sq_feet'], test_labels,\n",
        "    verbose=0)"
      ],
      "execution_count": null,
      "outputs": []
    },
    {
      "cell_type": "code",
      "metadata": {
        "id": "6kH-Jk3_j2Ps",
        "colab": {
          "base_uri": "https://localhost:8080/"
        },
        "outputId": "ac1fa228-7f58-4a54-b5f6-6f360657f029"
      },
      "source": [
        "dnn_model = build_and_compile_model(normalizer)\n",
        "dnn_model.summary()"
      ],
      "execution_count": null,
      "outputs": [
        {
          "output_type": "stream",
          "text": [
            "Model: \"sequential_3\"\n",
            "_________________________________________________________________\n",
            "Layer (type)                 Output Shape              Param #   \n",
            "=================================================================\n",
            "normalization (Normalization (None, 3)                 7         \n",
            "_________________________________________________________________\n",
            "dense_5 (Dense)              (None, 64)                256       \n",
            "_________________________________________________________________\n",
            "dense_6 (Dense)              (None, 64)                4160      \n",
            "_________________________________________________________________\n",
            "dense_7 (Dense)              (None, 1)                 65        \n",
            "=================================================================\n",
            "Total params: 4,488\n",
            "Trainable params: 4,481\n",
            "Non-trainable params: 7\n",
            "_________________________________________________________________\n"
          ],
          "name": "stdout"
        }
      ]
    },
    {
      "cell_type": "code",
      "metadata": {
        "id": "lBk8xuCFj8bO",
        "colab": {
          "base_uri": "https://localhost:8080/"
        },
        "outputId": "dc36b943-0faa-4e87-b4d0-9a11ede6a064"
      },
      "source": [
        "%%time\n",
        "history = dnn_model.fit(\n",
        "    train_features, train_labels,\n",
        "    validation_split=0.2,\n",
        "    verbose=0, epochs=100)"
      ],
      "execution_count": null,
      "outputs": [
        {
          "output_type": "stream",
          "text": [
            "CPU times: user 8.26 s, sys: 165 ms, total: 8.43 s\n",
            "Wall time: 8.23 s\n"
          ],
          "name": "stdout"
        }
      ]
    },
    {
      "cell_type": "code",
      "metadata": {
        "id": "Chox0zn5kBNg",
        "colab": {
          "base_uri": "https://localhost:8080/",
          "height": 290
        },
        "outputId": "b2714af2-256b-4233-cec6-df2d0f2b8082"
      },
      "source": [
        "plot_loss(history)"
      ],
      "execution_count": null,
      "outputs": [
        {
          "output_type": "display_data",
          "data": {
            "image/png": "[encoded data removed]",
            "text/plain": [
              "<Figure size 432x288 with 1 Axes>"
            ]
          },
          "metadata": {
            "tags": [],
            "needs_background": "light"
          }
        }
      ]
    },
    {
      "cell_type": "code",
      "metadata": {
        "id": "SGRPc-GhkElZ"
      },
      "source": [
        "#Collect the results on the test set:\n",
        "test_results['dnn_model'] = dnn_model.evaluate(test_features, test_labels, verbose=0)"
      ],
      "execution_count": null,
      "outputs": []
    },
    {
      "cell_type": "code",
      "metadata": {
        "id": "5OvPrmx7kML9",
        "colab": {
          "base_uri": "https://localhost:8080/",
          "height": 173
        },
        "outputId": "89c0b806-8a7b-4937-9ed0-8121e6592975"
      },
      "source": [
        "pd.DataFrame(test_results, index=['Mean absolute error [sq_feet]']).T"
      ],
      "execution_count": null,
      "outputs": [
        {
          "output_type": "execute_result",
          "data": {
            "text/html": [
              "<div>\n",
              "<style scoped>\n",
              "    .dataframe tbody tr th:only-of-type {\n",
              "        vertical-align: middle;\n",
              "    }\n",
              "\n",
              "    .dataframe tbody tr th {\n",
              "        vertical-align: top;\n",
              "    }\n",
              "\n",
              "    .dataframe thead th {\n",
              "        text-align: right;\n",
              "    }\n",
              "</style>\n",
              "<table border=\"1\" class=\"dataframe\">\n",
              "  <thead>\n",
              "    <tr style=\"text-align: right;\">\n",
              "      <th></th>\n",
              "      <th>Mean absolute error [sq_feet]</th>\n",
              "    </tr>\n",
              "  </thead>\n",
              "  <tbody>\n",
              "    <tr>\n",
              "      <th>sqf_model</th>\n",
              "      <td>1874024.500</td>\n",
              "    </tr>\n",
              "    <tr>\n",
              "      <th>linear_model</th>\n",
              "      <td>1874022.000</td>\n",
              "    </tr>\n",
              "    <tr>\n",
              "      <th>dnn_sqf_model</th>\n",
              "      <td>1873413.875</td>\n",
              "    </tr>\n",
              "    <tr>\n",
              "      <th>dnn_model</th>\n",
              "      <td>1872859.750</td>\n",
              "    </tr>\n",
              "  </tbody>\n",
              "</table>\n",
              "</div>"
            ],
            "text/plain": [
              "               Mean absolute error [sq_feet]\n",
              "sqf_model                        1874024.500\n",
              "linear_model                     1874022.000\n",
              "dnn_sqf_model                    1873413.875\n",
              "dnn_model                        1872859.750"
            ]
          },
          "metadata": {
            "tags": []
          },
          "execution_count": 117
        }
      ]
    },
    {
      "cell_type": "code",
      "metadata": {
        "id": "tddA97TYkXgp"
      },
      "source": [
        "#Make predictions\n",
        "#Finally, predict have a look at the errors made by the model when making predictions on the test set:"
      ],
      "execution_count": null,
      "outputs": []
    },
    {
      "cell_type": "code",
      "metadata": {
        "id": "Y9MTne0lkaie",
        "colab": {
          "base_uri": "https://localhost:8080/",
          "height": 284
        },
        "outputId": "f3123f39-f5ce-463d-efd5-9ebf2fc88def"
      },
      "source": [
        "test_predictions = dnn_model.predict(test_features).flatten()\n",
        "\n",
        "a = plt.axes(aspect='equal')\n",
        "plt.scatter(test_labels, test_predictions)\n",
        "plt.xlabel('True Values [sq_feet]')\n",
        "plt.ylabel('Predictions [sq_feet]')\n",
        "lims = [0, 50]\n",
        "plt.xlim(lims)\n",
        "plt.ylim(lims)\n",
        "_ = plt.plot(lims, lims)"
      ],
      "execution_count": null,
      "outputs": [
        {
          "output_type": "display_data",
          "data": {
            "image/png": "[encoded data removed]",
            "text/plain": [
              "<Figure size 432x288 with 1 Axes>"
            ]
          },
          "metadata": {
            "tags": [],
            "needs_background": "light"
          }
        }
      ]
    },
    {
      "cell_type": "code",
      "metadata": {
        "id": "qpOme0crlEay"
      },
      "source": [
        "#It looks like the model predicts unreasonably \n",
        "#let's take a look at the error distribution"
      ],
      "execution_count": null,
      "outputs": []
    },
    {
      "cell_type": "code",
      "metadata": {
        "id": "dLjgqRtSlHcS",
        "colab": {
          "base_uri": "https://localhost:8080/",
          "height": 280
        },
        "outputId": "2f69bcbd-4d9d-4c35-ca25-1beaea1dc26e"
      },
      "source": [
        "error = test_predictions - test_labels\n",
        "plt.hist(error, bins=25)\n",
        "plt.xlabel('Prediction Error [sq_feet]')\n",
        "_ = plt.ylabel('Count')"
      ],
      "execution_count": null,
      "outputs": [
        {
          "output_type": "display_data",
          "data": {
            "image/png": "[encoded data removed]",
            "text/plain": [
              "<Figure size 432x288 with 1 Axes>"
            ]
          },
          "metadata": {
            "tags": [],
            "needs_background": "light"
          }
        }
      ]
    },
    {
      "cell_type": "code",
      "metadata": {
        "id": "G32R3qK8lUCe",
        "colab": {
          "base_uri": "https://localhost:8080/"
        },
        "outputId": "697b30b5-957d-46dc-a7c4-e435bb70f8bc"
      },
      "source": [
        "dnn_model.save('dnn_model')"
      ],
      "execution_count": null,
      "outputs": [
        {
          "output_type": "stream",
          "text": [
            "INFO:tensorflow:Assets written to: dnn_model/assets\n"
          ],
          "name": "stdout"
        }
      ]
    },
    {
      "cell_type": "code",
      "metadata": {
        "id": "rvZ2RkDTlXav"
      },
      "source": [
        "reloaded = tf.keras.models.load_model('dnn_model')\n",
        "\n",
        "test_results['reloaded'] = reloaded.evaluate(\n",
        "    test_features, test_labels, verbose=0)"
      ],
      "execution_count": null,
      "outputs": []
    },
    {
      "cell_type": "code",
      "metadata": {
        "id": "OV-mFNZ3lbV7",
        "colab": {
          "base_uri": "https://localhost:8080/",
          "height": 204
        },
        "outputId": "196077a2-de7a-47c1-d54c-18a8e146ed64"
      },
      "source": [
        "pd.DataFrame(test_results, index=['Mean absolute error [sq_feet]']).T"
      ],
      "execution_count": null,
      "outputs": [
        {
          "output_type": "execute_result",
          "data": {
            "text/html": [
              "<div>\n",
              "<style scoped>\n",
              "    .dataframe tbody tr th:only-of-type {\n",
              "        vertical-align: middle;\n",
              "    }\n",
              "\n",
              "    .dataframe tbody tr th {\n",
              "        vertical-align: top;\n",
              "    }\n",
              "\n",
              "    .dataframe thead th {\n",
              "        text-align: right;\n",
              "    }\n",
              "</style>\n",
              "<table border=\"1\" class=\"dataframe\">\n",
              "  <thead>\n",
              "    <tr style=\"text-align: right;\">\n",
              "      <th></th>\n",
              "      <th>Mean absolute error [sq_feet]</th>\n",
              "    </tr>\n",
              "  </thead>\n",
              "  <tbody>\n",
              "    <tr>\n",
              "      <th>sqf_model</th>\n",
              "      <td>1874024.500</td>\n",
              "    </tr>\n",
              "    <tr>\n",
              "      <th>linear_model</th>\n",
              "      <td>1874022.000</td>\n",
              "    </tr>\n",
              "    <tr>\n",
              "      <th>dnn_sqf_model</th>\n",
              "      <td>1873413.875</td>\n",
              "    </tr>\n",
              "    <tr>\n",
              "      <th>dnn_model</th>\n",
              "      <td>1872859.750</td>\n",
              "    </tr>\n",
              "    <tr>\n",
              "      <th>reloaded</th>\n",
              "      <td>1872859.750</td>\n",
              "    </tr>\n",
              "  </tbody>\n",
              "</table>\n",
              "</div>"
            ],
            "text/plain": [
              "               Mean absolute error [sq_feet]\n",
              "sqf_model                        1874024.500\n",
              "linear_model                     1874022.000\n",
              "dnn_sqf_model                    1873413.875\n",
              "dnn_model                        1872859.750\n",
              "reloaded                         1872859.750"
            ]
          },
          "metadata": {
            "tags": []
          },
          "execution_count": 124
        }
      ]
    },
    {
      "cell_type": "markdown",
      "metadata": {
        "id": "IpbwU_FUYm96"
      },
      "source": [
        "## Non Linear Regression with Keras and Tensorflow Backend"
      ]
    },
    {
      "cell_type": "code",
      "metadata": {
        "id": "StNGlvGuRjD_",
        "colab": {
          "base_uri": "https://localhost:8080/",
          "height": 1000
        },
        "outputId": "8079776f-bdd1-4cda-c1eb-d84124c413c0"
      },
      "source": [
        "\n",
        "TrainingSet = train_dataset\n",
        "ValidationSet = test_dataset\n",
        "\n",
        "X = pd.DataFrame(dataset1, columns=['beds','baths','sq_feet'])\n",
        "y = pd.Series(dataset1['prices'])\n",
        "\n",
        "X1, X2, Y1, Y2 = train_test_split(X, y, test_size=0.2,random_state=0)\n",
        "\n",
        "# create model\n",
        "model = Sequential()\n",
        "model.add(Dense(20, activation=\"tanh\", input_dim=3, kernel_initializer=\"uniform\"))\n",
        "model.add(Dense(1, activation=\"linear\", kernel_initializer=\"uniform\"))\n",
        "\n",
        "# Compile model\n",
        "model.compile(loss='mse', optimizer='adam', metrics=['accuracy'])\n",
        "\n",
        "# Fit the model\n",
        "model.fit(X1, Y1, epochs=100, batch_size=10,  verbose=2)\n",
        "\n",
        "# Calculate predictions\n",
        "PredTestSet = model.predict(X1)\n",
        "PredValSet = model.predict(X2)\n",
        "\n",
        "# Save predictions\n",
        "numpy.savetxt(\"trainresults.csv\", PredTestSet, delimiter=\",\")\n",
        "numpy.savetxt(\"valresults.csv\", PredValSet, delimiter=\",\")\n",
        "\n",
        "#Plot actual vs predition for training set\n",
        "TestResults = numpy.genfromtxt(\"trainresults.csv\", delimiter=\",\")\n",
        "plt.plot(Y1,TestResults,'ro')\n",
        "plt.title('Training Set')\n",
        "plt.xlabel('Actual')\n",
        "plt.ylabel('Predicted')\n",
        "\n",
        "#Compute R-Square value for training set\n",
        "TestR2Value = r2_score(Y1,TestResults)\n",
        "print(\"Training Set R-Square=\", TestR2Value)\n"
      ],
      "execution_count": null,
      "outputs": [
        {
          "output_type": "stream",
          "text": [
            "Epoch 1/100\n",
            "14/14 - 0s - loss: 18703099887616.0000 - accuracy: 0.0000e+00\n",
            "Epoch 2/100\n",
            "14/14 - 0s - loss: 18703097790464.0000 - accuracy: 0.0000e+00\n",
            "Epoch 3/100\n",
            "14/14 - 0s - loss: 18703097790464.0000 - accuracy: 0.0000e+00\n",
            "Epoch 4/100\n",
            "14/14 - 0s - loss: 18703095693312.0000 - accuracy: 0.0000e+00\n",
            "Epoch 5/100\n",
            "14/14 - 0s - loss: 18703097790464.0000 - accuracy: 0.0000e+00\n",
            "Epoch 6/100\n",
            "14/14 - 0s - loss: 18703093596160.0000 - accuracy: 0.0000e+00\n",
            "Epoch 7/100\n",
            "14/14 - 0s - loss: 18703095693312.0000 - accuracy: 0.0000e+00\n",
            "Epoch 8/100\n",
            "14/14 - 0s - loss: 18703093596160.0000 - accuracy: 0.0000e+00\n",
            "Epoch 9/100\n",
            "14/14 - 0s - loss: 18703093596160.0000 - accuracy: 0.0000e+00\n",
            "Epoch 10/100\n",
            "14/14 - 0s - loss: 18703091499008.0000 - accuracy: 0.0000e+00\n",
            "Epoch 11/100\n",
            "14/14 - 0s - loss: 18703089401856.0000 - accuracy: 0.0000e+00\n",
            "Epoch 12/100\n",
            "14/14 - 0s - loss: 18703089401856.0000 - accuracy: 0.0000e+00\n",
            "Epoch 13/100\n",
            "14/14 - 0s - loss: 18703089401856.0000 - accuracy: 0.0000e+00\n",
            "Epoch 14/100\n",
            "14/14 - 0s - loss: 18703087304704.0000 - accuracy: 0.0000e+00\n",
            "Epoch 15/100\n",
            "14/14 - 0s - loss: 18703087304704.0000 - accuracy: 0.0000e+00\n",
            "Epoch 16/100\n",
            "14/14 - 0s - loss: 18703085207552.0000 - accuracy: 0.0000e+00\n",
            "Epoch 17/100\n",
            "14/14 - 0s - loss: 18703085207552.0000 - accuracy: 0.0000e+00\n",
            "Epoch 18/100\n",
            "14/14 - 0s - loss: 18703085207552.0000 - accuracy: 0.0000e+00\n",
            "Epoch 19/100\n",
            "14/14 - 0s - loss: 18703081013248.0000 - accuracy: 0.0000e+00\n",
            "Epoch 20/100\n",
            "14/14 - 0s - loss: 18703083110400.0000 - accuracy: 0.0000e+00\n",
            "Epoch 21/100\n",
            "14/14 - 0s - loss: 18703081013248.0000 - accuracy: 0.0000e+00\n",
            "Epoch 22/100\n",
            "14/14 - 0s - loss: 18703083110400.0000 - accuracy: 0.0000e+00\n",
            "Epoch 23/100\n",
            "14/14 - 0s - loss: 18703078916096.0000 - accuracy: 0.0000e+00\n",
            "Epoch 24/100\n",
            "14/14 - 0s - loss: 18703081013248.0000 - accuracy: 0.0000e+00\n",
            "Epoch 25/100\n",
            "14/14 - 0s - loss: 18703076818944.0000 - accuracy: 0.0000e+00\n",
            "Epoch 26/100\n",
            "14/14 - 0s - loss: 18703074721792.0000 - accuracy: 0.0000e+00\n",
            "Epoch 27/100\n",
            "14/14 - 0s - loss: 18703074721792.0000 - accuracy: 0.0000e+00\n",
            "Epoch 28/100\n",
            "14/14 - 0s - loss: 18703074721792.0000 - accuracy: 0.0000e+00\n",
            "Epoch 29/100\n",
            "14/14 - 0s - loss: 18703072624640.0000 - accuracy: 0.0000e+00\n",
            "Epoch 30/100\n",
            "14/14 - 0s - loss: 18703072624640.0000 - accuracy: 0.0000e+00\n",
            "Epoch 31/100\n",
            "14/14 - 0s - loss: 18703068430336.0000 - accuracy: 0.0000e+00\n",
            "Epoch 32/100\n",
            "14/14 - 0s - loss: 18703068430336.0000 - accuracy: 0.0000e+00\n",
            "Epoch 33/100\n",
            "14/14 - 0s - loss: 18703070527488.0000 - accuracy: 0.0000e+00\n",
            "Epoch 34/100\n",
            "14/14 - 0s - loss: 18703066333184.0000 - accuracy: 0.0000e+00\n",
            "Epoch 35/100\n",
            "14/14 - 0s - loss: 18703066333184.0000 - accuracy: 0.0000e+00\n",
            "Epoch 36/100\n",
            "14/14 - 0s - loss: 18703064236032.0000 - accuracy: 0.0000e+00\n",
            "Epoch 37/100\n",
            "14/14 - 0s - loss: 18703066333184.0000 - accuracy: 0.0000e+00\n",
            "Epoch 38/100\n",
            "14/14 - 0s - loss: 18703066333184.0000 - accuracy: 0.0000e+00\n",
            "Epoch 39/100\n",
            "14/14 - 0s - loss: 18703064236032.0000 - accuracy: 0.0000e+00\n",
            "Epoch 40/100\n",
            "14/14 - 0s - loss: 18703064236032.0000 - accuracy: 0.0000e+00\n",
            "Epoch 41/100\n",
            "14/14 - 0s - loss: 18703064236032.0000 - accuracy: 0.0000e+00\n",
            "Epoch 42/100\n",
            "14/14 - 0s - loss: 18703060041728.0000 - accuracy: 0.0000e+00\n",
            "Epoch 43/100\n",
            "14/14 - 0s - loss: 18703057944576.0000 - accuracy: 0.0000e+00\n",
            "Epoch 44/100\n",
            "14/14 - 0s - loss: 18703055847424.0000 - accuracy: 0.0000e+00\n",
            "Epoch 45/100\n",
            "14/14 - 0s - loss: 18703055847424.0000 - accuracy: 0.0000e+00\n",
            "Epoch 46/100\n",
            "14/14 - 0s - loss: 18703055847424.0000 - accuracy: 0.0000e+00\n",
            "Epoch 47/100\n",
            "14/14 - 0s - loss: 18703055847424.0000 - accuracy: 0.0000e+00\n",
            "Epoch 48/100\n",
            "14/14 - 0s - loss: 18703051653120.0000 - accuracy: 0.0000e+00\n",
            "Epoch 49/100\n",
            "14/14 - 0s - loss: 18703053750272.0000 - accuracy: 0.0000e+00\n",
            "Epoch 50/100\n",
            "14/14 - 0s - loss: 18703053750272.0000 - accuracy: 0.0000e+00\n",
            "Epoch 51/100\n",
            "14/14 - 0s - loss: 18703051653120.0000 - accuracy: 0.0000e+00\n",
            "Epoch 52/100\n",
            "14/14 - 0s - loss: 18703049555968.0000 - accuracy: 0.0000e+00\n",
            "Epoch 53/100\n",
            "14/14 - 0s - loss: 18703049555968.0000 - accuracy: 0.0000e+00\n",
            "Epoch 54/100\n",
            "14/14 - 0s - loss: 18703045361664.0000 - accuracy: 0.0000e+00\n",
            "Epoch 55/100\n",
            "14/14 - 0s - loss: 18703043264512.0000 - accuracy: 0.0000e+00\n",
            "Epoch 56/100\n",
            "14/14 - 0s - loss: 18703043264512.0000 - accuracy: 0.0000e+00\n",
            "Epoch 57/100\n",
            "14/14 - 0s - loss: 18703045361664.0000 - accuracy: 0.0000e+00\n",
            "Epoch 58/100\n",
            "14/14 - 0s - loss: 18703043264512.0000 - accuracy: 0.0000e+00\n",
            "Epoch 59/100\n",
            "14/14 - 0s - loss: 18703041167360.0000 - accuracy: 0.0000e+00\n",
            "Epoch 60/100\n",
            "14/14 - 0s - loss: 18703041167360.0000 - accuracy: 0.0000e+00\n",
            "Epoch 61/100\n",
            "14/14 - 0s - loss: 18703039070208.0000 - accuracy: 0.0000e+00\n",
            "Epoch 62/100\n",
            "14/14 - 0s - loss: 18703039070208.0000 - accuracy: 0.0000e+00\n",
            "Epoch 63/100\n",
            "14/14 - 0s - loss: 18703039070208.0000 - accuracy: 0.0000e+00\n",
            "Epoch 64/100\n",
            "14/14 - 0s - loss: 18703039070208.0000 - accuracy: 0.0000e+00\n",
            "Epoch 65/100\n",
            "14/14 - 0s - loss: 18703039070208.0000 - accuracy: 0.0000e+00\n",
            "Epoch 66/100\n",
            "14/14 - 0s - loss: 18703036973056.0000 - accuracy: 0.0000e+00\n",
            "Epoch 67/100\n",
            "14/14 - 0s - loss: 18703036973056.0000 - accuracy: 0.0000e+00\n",
            "Epoch 68/100\n",
            "14/14 - 0s - loss: 18703034875904.0000 - accuracy: 0.0000e+00\n",
            "Epoch 69/100\n",
            "14/14 - 0s - loss: 18703034875904.0000 - accuracy: 0.0000e+00\n",
            "Epoch 70/100\n",
            "14/14 - 0s - loss: 18703034875904.0000 - accuracy: 0.0000e+00\n",
            "Epoch 71/100\n",
            "14/14 - 0s - loss: 18703032778752.0000 - accuracy: 0.0000e+00\n",
            "Epoch 72/100\n",
            "14/14 - 0s - loss: 18703030681600.0000 - accuracy: 0.0000e+00\n",
            "Epoch 73/100\n",
            "14/14 - 0s - loss: 18703030681600.0000 - accuracy: 0.0000e+00\n",
            "Epoch 74/100\n",
            "14/14 - 0s - loss: 18703026487296.0000 - accuracy: 0.0000e+00\n",
            "Epoch 75/100\n",
            "14/14 - 0s - loss: 18703024390144.0000 - accuracy: 0.0000e+00\n",
            "Epoch 76/100\n",
            "14/14 - 0s - loss: 18703024390144.0000 - accuracy: 0.0000e+00\n",
            "Epoch 77/100\n",
            "14/14 - 0s - loss: 18703024390144.0000 - accuracy: 0.0000e+00\n",
            "Epoch 78/100\n",
            "14/14 - 0s - loss: 18703020195840.0000 - accuracy: 0.0000e+00\n",
            "Epoch 79/100\n",
            "14/14 - 0s - loss: 18703024390144.0000 - accuracy: 0.0000e+00\n",
            "Epoch 80/100\n",
            "14/14 - 0s - loss: 18703024390144.0000 - accuracy: 0.0000e+00\n",
            "Epoch 81/100\n",
            "14/14 - 0s - loss: 18703020195840.0000 - accuracy: 0.0000e+00\n",
            "Epoch 82/100\n",
            "14/14 - 0s - loss: 18703020195840.0000 - accuracy: 0.0000e+00\n",
            "Epoch 83/100\n",
            "14/14 - 0s - loss: 18703020195840.0000 - accuracy: 0.0000e+00\n",
            "Epoch 84/100\n",
            "14/14 - 0s - loss: 18703020195840.0000 - accuracy: 0.0000e+00\n",
            "Epoch 85/100\n",
            "14/14 - 0s - loss: 18703018098688.0000 - accuracy: 0.0000e+00\n",
            "Epoch 86/100\n",
            "14/14 - 0s - loss: 18703016001536.0000 - accuracy: 0.0000e+00\n",
            "Epoch 87/100\n",
            "14/14 - 0s - loss: 18703013904384.0000 - accuracy: 0.0000e+00\n",
            "Epoch 88/100\n",
            "14/14 - 0s - loss: 18703011807232.0000 - accuracy: 0.0000e+00\n",
            "Epoch 89/100\n",
            "14/14 - 0s - loss: 18703011807232.0000 - accuracy: 0.0000e+00\n",
            "Epoch 90/100\n",
            "14/14 - 0s - loss: 18703011807232.0000 - accuracy: 0.0000e+00\n",
            "Epoch 91/100\n",
            "14/14 - 0s - loss: 18703011807232.0000 - accuracy: 0.0000e+00\n",
            "Epoch 92/100\n",
            "14/14 - 0s - loss: 18703007612928.0000 - accuracy: 0.0000e+00\n",
            "Epoch 93/100\n",
            "14/14 - 0s - loss: 18703005515776.0000 - accuracy: 0.0000e+00\n",
            "Epoch 94/100\n",
            "14/14 - 0s - loss: 18703007612928.0000 - accuracy: 0.0000e+00\n",
            "Epoch 95/100\n",
            "14/14 - 0s - loss: 18703007612928.0000 - accuracy: 0.0000e+00\n",
            "Epoch 96/100\n",
            "14/14 - 0s - loss: 18703007612928.0000 - accuracy: 0.0000e+00\n",
            "Epoch 97/100\n",
            "14/14 - 0s - loss: 18703007612928.0000 - accuracy: 0.0000e+00\n",
            "Epoch 98/100\n",
            "14/14 - 0s - loss: 18703003418624.0000 - accuracy: 0.0000e+00\n",
            "Epoch 99/100\n",
            "14/14 - 0s - loss: 18702999224320.0000 - accuracy: 0.0000e+00\n",
            "Epoch 100/100\n",
            "14/14 - 0s - loss: 18703003418624.0000 - accuracy: 0.0000e+00\n",
            "Training Set R-Square= -0.25936103031352853\n"
          ],
          "name": "stdout"
        },
        {
          "output_type": "display_data",
          "data": {
            "image/png": "[encoded data removed]",
            "text/plain": [
              "<Figure size 432x288 with 1 Axes>"
            ]
          },
          "metadata": {
            "tags": [],
            "needs_background": "light"
          }
        }
      ]
    },
    {
      "cell_type": "code",
      "metadata": {
        "id": "Xoxiul7pXL4s",
        "colab": {
          "base_uri": "https://localhost:8080/",
          "height": 312
        },
        "outputId": "6243852f-ebb9-4cc7-f02f-afeac928c1f4"
      },
      "source": [
        "#Plot actual vs predition for validation set\n",
        "ValResults = numpy.genfromtxt(\"valresults.csv\", delimiter=\",\")\n",
        "plt.plot(Y2,ValResults,'ro')\n",
        "plt.title('Validation Set')\n",
        "plt.xlabel('Actual')\n",
        "plt.ylabel('Predicted')\n",
        "\n",
        "#Compute R-Square value for validation set\n",
        "ValR2Value = r2_score(Y2,ValResults)\n",
        "print(\"Validation Set R-Square=\",ValR2Value)"
      ],
      "execution_count": null,
      "outputs": [
        {
          "output_type": "stream",
          "text": [
            "Validation Set R-Square= -0.7125968934231306\n"
          ],
          "name": "stdout"
        },
        {
          "output_type": "display_data",
          "data": {
            "image/png": "[encoded data removed]",
            "text/plain": [
              "<Figure size 432x288 with 1 Axes>"
            ]
          },
          "metadata": {
            "tags": [],
            "needs_background": "light"
          }
        }
      ]
    }
  ]
}